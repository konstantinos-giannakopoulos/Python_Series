{
 "cells": [
  {
   "cell_type": "markdown",
   "metadata": {},
   "source": [
    ">#\n",
    "># Demo_6_Functions\n",
    ">#\n",
    ">1. Functions\n",
    ">    - Simple function\n",
    ">    - Pass by reference vs pass by value.\n",
    ">    - Function arguments\n",
    ">        - Required arguments\n",
    ">        - Keyword arguments\n",
    ">        - Default arguments \n",
    ">        - Variable-length arguments\n",
    ">    - The Anonymous functions (*lambda* functions)\n",
    ">2. The *return* statement\n",
    ">3. Scope of the variables\n",
    ">4. Advanced examples for argument passing\n",
    ">    - Functions with fixed and flexible number of arguments"
   ]
  },
  {
   "cell_type": "markdown",
   "metadata": {},
   "source": [
    "## 1. Functions\n",
    "\n",
    "**Defining a Function**\n",
    "You can define functions to provide the required functionality. Here are simple rules to define a function in Python.\n",
    "\n",
    "- Function blocks begin with the keyword def followed by the function name and parentheses ( ( ) ).\n",
    "\n",
    "- Any input parameters or arguments should be placed within these parentheses. You can also define parameters inside these parentheses.\n",
    "\n",
    "- The first statement of a function can be an optional statement - the documentation string of the function or docstring.\n",
    "\n",
    "- The code block within every function starts with a colon (:) and is indented.\n",
    "\n",
    "- The statement return [expression] exits a function, optionally passing back an expression to the caller. A return statement with no arguments is the same as return None.\n",
    "\n",
    "Syntax\n",
    "<br />\n",
    "def functionname( parameters ):\n",
    "<br /> &nbsp; &nbsp; &nbsp; &nbsp;  \"function_docstring\"\n",
    "<br /> &nbsp; &nbsp; &nbsp; &nbsp;  function_suite\n",
    "<br /> &nbsp; &nbsp; &nbsp; &nbsp;  return [expression]\n",
    "\n",
    "Reference: https://www.tutorialspoint.com/python/python_functions.htm"
   ]
  },
  {
   "cell_type": "markdown",
   "metadata": {},
   "source": [
    "### a) Simple function"
   ]
  },
  {
   "cell_type": "code",
   "execution_count": 1,
   "metadata": {},
   "outputs": [
    {
     "name": "stdout",
     "output_type": "stream",
     "text": [
      "6\n",
      "3\n",
      "8\n",
      "90\n"
     ]
    }
   ],
   "source": [
    "#Functions\n",
    "# 1. Creating a function (Function Definition)\n",
    "# x is an argument. Information can be passed into functions as arguments.\n",
    "# The return statement is used to exit a function and go back to the place from where it was called.\n",
    "def my_function(x = 5):\n",
    "    \"\"\"\n",
    "    This function increments by one,\n",
    "    a value that is passed in as a parameter.\n",
    "    \"\"\"\n",
    "    return x+1\n",
    "\n",
    "# 2. Calling a function (Function Call)\n",
    "print(my_function())\n",
    "print(my_function(2))\n",
    "print(my_function(3+4))\n",
    "result=my_function(89)\n",
    "print(result)"
   ]
  },
  {
   "cell_type": "code",
   "execution_count": 2,
   "metadata": {},
   "outputs": [
    {
     "name": "stdout",
     "output_type": "stream",
     "text": [
      "\n",
      "    This function increments by one,\n",
      "    a value that is passed in as a parameter.\n",
      "    \n"
     ]
    }
   ],
   "source": [
    "print(my_function.__doc__)"
   ]
  },
  {
   "cell_type": "code",
   "execution_count": 2,
   "metadata": {},
   "outputs": [
    {
     "name": "stdout",
     "output_type": "stream",
     "text": [
      "MarketPlace toothpaste $1\n"
     ]
    }
   ],
   "source": [
    "def sales(name, promotion, promotion_cost):\n",
    "    print(name, promotion,promotion_cost)\n",
    "sales('MarketPlace','toothpaste','$1')"
   ]
  },
  {
   "cell_type": "markdown",
   "metadata": {},
   "source": [
    "Example of Recursion"
   ]
  },
  {
   "cell_type": "code",
   "execution_count": 3,
   "metadata": {},
   "outputs": [
    {
     "data": {
      "text/plain": [
       "120"
      ]
     },
     "execution_count": 3,
     "metadata": {},
     "output_type": "execute_result"
    }
   ],
   "source": [
    "def factorial(n):\n",
    "    if n <= 1:\n",
    "        return 1\n",
    "    else:\n",
    "        fact =n*factorial(n-1)\n",
    "    return fact\n",
    "\n",
    "factorial(5)"
   ]
  },
  {
   "cell_type": "markdown",
   "metadata": {},
   "source": [
    "### b) Pass by reference vs pass by value.\n",
    "All parameters (arguments) in the Python language are passed **by reference**. It means if you change what a parameter refers to within a function, the change also reflects back in the calling function."
   ]
  },
  {
   "cell_type": "code",
   "execution_count": 4,
   "metadata": {},
   "outputs": [
    {
     "name": "stdout",
     "output_type": "stream",
     "text": [
      "Values inside the function:  [10, 20, 30, [1, 2, 3, 4]]\n",
      "Values outside the function:  [10, 20, 30, [1, 2, 3, 4]]\n"
     ]
    }
   ],
   "source": [
    "# Function definition is here\n",
    "def changeme( mylist ):\n",
    "   \"This changes a passed list into this function\"\n",
    "   mylist.append([1,2,3,4]);         # <-- this is the original object that changes\n",
    "   print (\"Values inside the function: \", mylist)\n",
    "\n",
    "# Now you can call changeme function\n",
    "mylist = [10,20,30];\n",
    "changeme( mylist );\n",
    "print (\"Values outside the function: \", mylist) # <-- this is the original object\n",
    "\n",
    "\"\"\"\n",
    "Here, we are maintaining reference of the passed object and appending values in the same object.\n",
    "\"\"\""
   ]
  },
  {
   "cell_type": "markdown",
   "metadata": {},
   "source": [
    "There is one more example where argument is being passed by reference and **the reference is being overwritten inside the called function**."
   ]
  },
  {
   "cell_type": "code",
   "execution_count": 6,
   "metadata": {},
   "outputs": [
    {
     "name": "stdout",
     "output_type": "stream",
     "text": [
      "Values inside the function:  [1, 2, 3, 4]\n",
      "Values outside the function:  [10, 20, 30]\n"
     ]
    }
   ],
   "source": [
    "# Function definition is here\n",
    "def changeme( mylist ):\n",
    "   \"This changes a passed list into this function\"\n",
    "   mylist = [1,2,3,4]; # This would assig new reference in mylist  # <-- this is a new object\n",
    "   print (\"Values inside the function: \", mylist)\n",
    "\n",
    "# Now you can call changeme function\n",
    "mylist = [10,20,30];\n",
    "changeme( mylist );\n",
    "print (\"Values outside the function: \", mylist)  # <-- this is the original object\n",
    "\n",
    "\"\"\"\n",
    "The parameter mylist is local to the function changeme. \n",
    "Changing mylist within the function does not affect mylist. \n",
    "The function accomplishes nothing\n",
    "\"\"\""
   ]
  },
  {
   "cell_type": "markdown",
   "metadata": {},
   "source": [
    "### c) Function arguments\n",
    "\n",
    "You can call a function by using the following types of formal arguments\n",
    "- Required arguments\n",
    "- Keyword arguments\n",
    "- Default arguments\n",
    "- Variable-length arguments"
   ]
  },
  {
   "cell_type": "markdown",
   "metadata": {},
   "source": [
    "#### c1) Required arguments\n",
    "\n",
    "Required arguments are the arguments passed to a function in correct positional order. Here, the number of arguments in the function call should match exactly with the function definition."
   ]
  },
  {
   "cell_type": "code",
   "execution_count": 10,
   "metadata": {},
   "outputs": [
    {
     "name": "stdout",
     "output_type": "stream",
     "text": [
      "Passing exactly one argument: \n",
      "Hello\n",
      "\n",
      "If we do not pass any argument: \n"
     ]
    },
    {
     "ename": "TypeError",
     "evalue": "printme() missing 1 required positional argument: 'str'",
     "output_type": "error",
     "traceback": [
      "\u001b[1;31m---------------------------------------------------------------------------\u001b[0m",
      "\u001b[1;31mTypeError\u001b[0m                                 Traceback (most recent call last)",
      "\u001b[1;32mc:\\Users\\Konstantinos.Giannak\\OneDrive - FDM Group\\Courses\\My_Version\\Data_Engineering\\Software_Development\\Python_APAC\\Python_1_week_TechOps_Batch\\Day_1_Monday\\Demo_6_Functions.ipynb Cell 15'\u001b[0m in \u001b[0;36m<cell line: 12>\u001b[1;34m()\u001b[0m\n\u001b[0;32m     <a href='vscode-notebook-cell:/c%3A/Users/Konstantinos.Giannak/OneDrive%20-%20FDM%20Group/Courses/My_Version/Data_Engineering/Software_Development/Python_APAC/Python_1_week_TechOps_Batch/Day_1_Monday/Demo_6_Functions.ipynb#ch0000022?line=9'>10</a>\u001b[0m \u001b[39mprint\u001b[39m()\n\u001b[0;32m     <a href='vscode-notebook-cell:/c%3A/Users/Konstantinos.Giannak/OneDrive%20-%20FDM%20Group/Courses/My_Version/Data_Engineering/Software_Development/Python_APAC/Python_1_week_TechOps_Batch/Day_1_Monday/Demo_6_Functions.ipynb#ch0000022?line=10'>11</a>\u001b[0m \u001b[39mprint\u001b[39m(\u001b[39m\"\u001b[39m\u001b[39mIf we do not pass any argument: \u001b[39m\u001b[39m\"\u001b[39m)\n\u001b[1;32m---> <a href='vscode-notebook-cell:/c%3A/Users/Konstantinos.Giannak/OneDrive%20-%20FDM%20Group/Courses/My_Version/Data_Engineering/Software_Development/Python_APAC/Python_1_week_TechOps_Batch/Day_1_Monday/Demo_6_Functions.ipynb#ch0000022?line=11'>12</a>\u001b[0m printme()\n",
      "\u001b[1;31mTypeError\u001b[0m: printme() missing 1 required positional argument: 'str'"
     ]
    }
   ],
   "source": [
    "# Function definition is here\n",
    "def printme( str ):\n",
    "   \"This prints a passed string into this function\"\n",
    "   print(str)\n",
    "   return;\n",
    "\n",
    "# Now you can call printme function\n",
    "print(\"Passing exactly one argument: \")\n",
    "printme(\"Hello\")\n",
    "print()\n",
    "print(\"If we do not pass any argument: \")\n",
    "printme()"
   ]
  },
  {
   "cell_type": "markdown",
   "metadata": {},
   "source": [
    "#### c2) Keyword arguments\n",
    "\n",
    "Keyword arguments are related to the function calls. When you use keyword arguments in a function call, the caller identifies the arguments by the parameter name.\n",
    "\n",
    "This allows you to skip arguments or place them out of order because the Python interpreter is able to use the keywords provided to match the values with parameters. You can also make keyword calls to a function in the following ways:"
   ]
  },
  {
   "cell_type": "code",
   "execution_count": 11,
   "metadata": {},
   "outputs": [
    {
     "name": "stdout",
     "output_type": "stream",
     "text": [
      "Name:  miki\n",
      "Age  50\n"
     ]
    }
   ],
   "source": [
    "# Function definition is here\n",
    "def printinfo( name, age ):\n",
    "   \"This prints a passed info into this function\"\n",
    "   print (\"Name: \", name)\n",
    "   print (\"Age \", age)\n",
    "\n",
    "# Now you can call printinfo function\n",
    "printinfo( age=50, name=\"miki\" )"
   ]
  },
  {
   "cell_type": "markdown",
   "metadata": {},
   "source": [
    "#### c3) Default arguments\n",
    "\n",
    "A default argument is an argument that assumes a default value if a value is not provided in the function call for that argument."
   ]
  },
  {
   "cell_type": "code",
   "execution_count": 14,
   "metadata": {},
   "outputs": [
    {
     "name": "stdout",
     "output_type": "stream",
     "text": [
      "Call overwriting the default value: \n",
      "Name:  miki\n",
      "Age  50\n",
      "\n",
      "Call using the default value: \n",
      "Name:  miki\n",
      "Age  35\n"
     ]
    }
   ],
   "source": [
    "# Function definition is here\n",
    "def printinfo( name, age = 35 ):\n",
    "   \"This prints a passed info into this function\"\n",
    "   print (\"Name: \", name)\n",
    "   print (\"Age \", age)\n",
    "\n",
    "# Now you can call printinfo function\n",
    "print(\"Call overwriting the default value: \")\n",
    "printinfo( age=50, name=\"miki\" )\n",
    "print()\n",
    "print(\"Call using the default value: \")\n",
    "printinfo( name=\"miki\" )"
   ]
  },
  {
   "cell_type": "markdown",
   "metadata": {},
   "source": [
    "#### c4) Variable-length arguments\n",
    "\n",
    "You may need to process a function for more arguments than you specified while defining the function. These arguments are called variable-length arguments and are not named in the function definition, unlike required and default arguments.\n",
    "\n",
    "Syntax for a function with non-keyword variable arguments is this:\n",
    "<br />\n",
    "\n",
    "def functionname([formal_args,] *var_args_tuple ):\n",
    "<br /> &nbsp; &nbsp; &nbsp; &nbsp;  \"function_docstring\"\n",
    "<br /> &nbsp; &nbsp; &nbsp; &nbsp;  function_suite\n",
    "<br /> &nbsp; &nbsp; &nbsp; &nbsp;  return [expression]\n",
    "   \n",
    "An asterisk (*) is placed before the variable name that holds the values of all nonkeyword variable arguments. This tuple remains empty if no additional arguments are specified during the function call."
   ]
  },
  {
   "cell_type": "code",
   "execution_count": 22,
   "metadata": {},
   "outputs": [
    {
     "name": "stdout",
     "output_type": "stream",
     "text": [
      "Output is: \n",
      "10\n",
      "\n",
      "Output is: \n",
      "70\n",
      "vartuple element:  60\n",
      "vartuple element:  50\n"
     ]
    }
   ],
   "source": [
    "# Function definition is here\n",
    "def printinfo( arg1, *vartuple ):\n",
    "   \"This prints a variable passed arguments\"\n",
    "   print (\"Output is: \")\n",
    "   print (arg1)\n",
    "   for var in vartuple:\n",
    "      print (\"vartuple element: \", var)\n",
    "   #return\n",
    "\n",
    "# Now you can call printinfo function\n",
    "printinfo( 10 )\n",
    "print()\n",
    "printinfo( 70, 60, 50 )"
   ]
  },
  {
   "cell_type": "markdown",
   "metadata": {},
   "source": [
    "Other Examples:"
   ]
  },
  {
   "cell_type": "code",
   "execution_count": 4,
   "metadata": {},
   "outputs": [
    {
     "name": "stdout",
     "output_type": "stream",
     "text": [
      "Length =1 , Breadth= 1, Width=1\n",
      "1\n",
      "Length =2 , Breadth= 2, Width=2\n",
      "8\n",
      "Length =4 , Breadth= 3, Width=5\n",
      "60\n",
      "Length =10 , Breadth= 30, Width=20\n",
      "6000\n"
     ]
    }
   ],
   "source": [
    "#function keyword arguments\n",
    "'''\n",
    "1.allows the argument to be passed in any order\n",
    "2. if the function is invoked without a value for the argument, then default value will be used\n",
    "'''\n",
    "def volume(length=1, breadth=1, width=1):\n",
    "    print(\"Length =%d , Breadth= %d, Width=%d\"%(length,breadth,width))\n",
    "    return length*breadth*width\n",
    "\n",
    "# function calls\n",
    "result1 = volume() # no value for arugments is passed, so default values are utilised\n",
    "print(result1)\n",
    "\n",
    "result2=volume(2,2,2)\n",
    "print(result2)\n",
    "\n",
    "result3=volume(length=4, width=5,breadth=3) # order of arguments changed\n",
    "print(result3)\n",
    "\n",
    "result4=volume(10, width=20, breadth=30)\n",
    "print(result4)"
   ]
  },
  {
   "cell_type": "markdown",
   "metadata": {},
   "source": [
    "### d) The Anonymous functions (*lambda* functions)\n",
    "\n",
    "These functions are called anonymous because they are not declared in the standard manner by using the def keyword. You can use the **lambda** keyword to create small anonymous functions.\n",
    "\n",
    "Lambda forms can take any number of arguments but return just one value in the form of an expression. They cannot contain commands or multiple expressions.\n",
    "\n",
    "An anonymous function cannot be a direct call to print because lambda requires an expression\n",
    "\n",
    "Lambda functions have their own local namespace and cannot access variables other than those in their parameter list and those in the global namespace.\n",
    "\n",
    "Although it appears that lambda's are a one-line version of a function, they are not equivalent to inline statements in C or C++, whose purpose is by passing function stack allocation during invocation for performance reasons.\n",
    "\n",
    "The syntax of lambda functions contains only a single statement:\n",
    "\n",
    "lambda [arg1 [,arg2,.....argn]]:expression"
   ]
  },
  {
   "cell_type": "code",
   "execution_count": 24,
   "metadata": {},
   "outputs": [
    {
     "name": "stdout",
     "output_type": "stream",
     "text": [
      "Value of total :  30\n",
      "\n",
      "Value of total :  40\n"
     ]
    }
   ],
   "source": [
    "# Function definition is here\n",
    "sum = lambda arg1, arg2: arg1 + arg2;\n",
    "\n",
    "# Now you can call sum as a function\n",
    "print (\"Value of total : \", sum( 10, 20 ))\n",
    "print()\n",
    "print (\"Value of total : \", sum( 20, 20 ))"
   ]
  },
  {
   "cell_type": "markdown",
   "metadata": {},
   "source": [
    "## 2. The *return* statement\n",
    "\n",
    "The statement return [expression] exits a function, optionally passing back an expression to the caller. A return statement with no arguments is the same as return None.\n",
    "\n",
    "All the above examples are not returning any value. You can return a value from a function as follows:"
   ]
  },
  {
   "cell_type": "code",
   "execution_count": 21,
   "metadata": {},
   "outputs": [
    {
     "name": "stdout",
     "output_type": "stream",
     "text": [
      "Inside the function :  30\n",
      "Outside the function :  30\n"
     ]
    }
   ],
   "source": [
    "# Function definition is here\n",
    "def sum( arg1, arg2 ):\n",
    "   # Add both the parameters and return them.\"\n",
    "   total = arg1 + arg2\n",
    "   print (\"Inside the function : \", total)\n",
    "   return total\n",
    "\n",
    "# Now you can call sum function\n",
    "total = sum( 10, 20 );\n",
    "print (\"Outside the function : \", total)"
   ]
  },
  {
   "cell_type": "markdown",
   "metadata": {},
   "source": [
    "## 3. Scope of variables\n",
    "\n",
    "All variables in a program may not be accessible at all locations in that program. This depends on where you have declared a variable.\n",
    "\n",
    "The scope of a variable determines the portion of the program where you can access a particular identifier. \n",
    "\n",
    "There are two basic scopes of variables in Python:\n",
    "- Global variables\n",
    "- Local variables"
   ]
  },
  {
   "cell_type": "markdown",
   "metadata": {},
   "source": [
    "### Global vs. Local variables\n",
    "Variables that are defined inside a function body have a local scope, and those defined outside have a global scope.\n",
    "\n",
    "This means that **local** variables can be accessed only inside the function in which they are declared, whereas **global** variables can be accessed throughout the program body by all functions. When you call a function, the variables declared inside it are brought into scope. "
   ]
  },
  {
   "cell_type": "code",
   "execution_count": 27,
   "metadata": {},
   "outputs": [
    {
     "name": "stdout",
     "output_type": "stream",
     "text": [
      "Inside the function local total :  30\n",
      "Outside the function global total :  0\n"
     ]
    }
   ],
   "source": [
    "total = 0; # This is global variable.\n",
    "# Function definition is here\n",
    "def sum( arg1, arg2 ):\n",
    "   # Add both the parameters and return them.\"\n",
    "   total = arg1 + arg2; # Here total is local variable.\n",
    "   print (\"Inside the function local total : \", total)\n",
    "   return total\n",
    "\n",
    "# Now you can call sum function\n",
    "sum( 10, 20 );\n",
    "print (\"Outside the function global total : \", total )"
   ]
  },
  {
   "cell_type": "markdown",
   "metadata": {},
   "source": [
    "## 4. Advanced examples for argument passing."
   ]
  },
  {
   "cell_type": "markdown",
   "metadata": {},
   "source": [
    "\n",
    "### Functions with fixed and flexible number of arguments"
   ]
  },
  {
   "cell_type": "code",
   "execution_count": 32,
   "metadata": {},
   "outputs": [
    {
     "name": "stdout",
     "output_type": "stream",
     "text": [
      ">>> Case 1. Passing a fixed number of arguments\n",
      "One argument:  5\n"
     ]
    }
   ],
   "source": [
    "#one argument\n",
    "def one_argument(one):\n",
    "    print ('One argument: ', one)\n",
    "\n",
    "\n",
    "# 1. Passing a fixed number of arguments\n",
    "print('>>> Case 1. Passing a fixed number of arguments')\n",
    "one_argument(5)"
   ]
  },
  {
   "cell_type": "code",
   "execution_count": 35,
   "metadata": {},
   "outputs": [
    {
     "name": "stdout",
     "output_type": "stream",
     "text": [
      "\n",
      ">>> Case 2. Passing a variable number of arguments\n",
      "Flexible number of args:  2\n",
      "Flexible number of args:  4\n",
      "Flexible number of args:  5\n",
      "Flexible number of args:  6\n",
      "Flexible number of args:  [1, 2, 3, 565, 3]\n"
     ]
    }
   ],
   "source": [
    "\"\"\"\n",
    "The * symbol is used to pass a variable number of arguments to a function.\n",
    "\"\"\"\n",
    "def flexible_number_of_arguments(*args):\n",
    "    for i in args:\n",
    "        print(\"Flexible number of args: \",i)\n",
    "\n",
    "\n",
    "# 2. Passing a variable number of arguments\n",
    "print('\\n>>> Case 2. Passing a variable number of arguments')\n",
    "flexible_number_of_arguments(2,4,5,6)\n",
    "numList=[1,2,3,565,3]\n",
    "flexible_number_of_arguments(numList)"
   ]
  },
  {
   "cell_type": "code",
   "execution_count": 36,
   "metadata": {},
   "outputs": [
    {
     "name": "stdout",
     "output_type": "stream",
     "text": [
      "\n",
      ">>> Case 1-2. Passing a combination of a fixed number of arguments and a variable number of arguments\n",
      "One argument:  Konstantinos\n",
      "Flexible number of args:  2\n",
      "Flexible number of args:  4\n",
      "Flexible number of args:  6\n",
      "One argument:  K\n",
      "Flexible number of args:  [1, 2, 3, 565, 3]\n",
      "Flexible number of args:  2\n",
      "Flexible number of args:  4\n",
      "Flexible number of args:  6\n"
     ]
    }
   ],
   "source": [
    "def one_and_flexible_number_of_arguments(one,*args):\n",
    "    print('One argument: ',one)\n",
    "    for i in args:\n",
    "        print(\"Flexible number of args: \",i)\n",
    "\n",
    "\n",
    "# Passing a combination of a fixed number of arguments and a variable number of arguments\n",
    "print('\\n>>> Case 1-2. Passing a combination of a fixed number of arguments and a variable number of arguments')\n",
    "one_and_flexible_number_of_arguments('Konstantinos', 2, 4, 6)\n",
    "one_and_flexible_number_of_arguments('K', numList, 2,4,6)"
   ]
  },
  {
   "cell_type": "code",
   "execution_count": 37,
   "metadata": {},
   "outputs": [
    {
     "name": "stdout",
     "output_type": "stream",
     "text": [
      "\n",
      ">>> Case 3. Passing a dictionary of unknown size as an argument\n",
      "a \t--->\t 1\n",
      "b \t--->\t 2\n",
      "name \t--->\t Konstantinos\n",
      "role \t--->\t Trainer\n",
      "color \t--->\t red\n",
      "shape \t--->\t circle\n",
      "quantity \t--->\t 42\n"
     ]
    }
   ],
   "source": [
    "\"\"\"\n",
    "The ** symbol is used before an argument to pass a keyword argument dictionary to a function.\n",
    "\"\"\"\n",
    "def dict_as_argument_keyVakuepair(**kv_arg):\n",
    "    for k,v in kv_arg.items():\n",
    "        print(k, '\\t--->\\t',v)\n",
    "\n",
    "\n",
    "# 3. Passing a dictionary of unknown size as an argument\n",
    "print('\\n>>> Case 3. Passing a dictionary of unknown size as an argument')\n",
    "dict_as_argument_keyVakuepair(a=1,b=2,name=\"Konstantinos\", role='Trainer')\n",
    "dictionary={'color': 'red', 'shape': 'circle', 'quantity': 42}\n",
    "dict_as_argument_keyVakuepair(**dictionary)"
   ]
  },
  {
   "cell_type": "code",
   "execution_count": 38,
   "metadata": {},
   "outputs": [
    {
     "name": "stdout",
     "output_type": "stream",
     "text": [
      "\n",
      ">>> Case 4. Combination\n",
      "('fdm', 23, 45, True, 5, 'a')\n",
      "{'a': 1, 'b': 2, 'name': 'Konstantinos', 'role': 'Trainer'}\n",
      "Flexible number of args:  fdm\n",
      "Flexible number of args:  23\n",
      "Flexible number of args:  45\n",
      "Flexible number of args:  True\n",
      "Flexible number of args:  5\n",
      "Flexible number of args:  a\n",
      "a \t--->\t 1\n",
      "b \t--->\t 2\n",
      "name \t--->\t Konstantinos\n",
      "role \t--->\t Trainer\n"
     ]
    }
   ],
   "source": [
    "def two_argument_variable_length_and_keyworded_argument(*args,**kv_arg):\n",
    "    print(args)\n",
    "    print(kv_arg)\n",
    "    for i in args:\n",
    "        print(\"Flexible number of args: \",i)\n",
    "    for k,v in kv_arg.items():\n",
    "        print(k, '\\t--->\\t',v)\n",
    "\n",
    "\n",
    "# combination\n",
    "print('\\n>>> Case 4. Combination')\n",
    "two_argument_variable_length_and_keyworded_argument('fdm',23,45,True,5,'a',a=1,b=2,name=\"Konstantinos\", role='Trainer')"
   ]
  },
  {
   "cell_type": "code",
   "execution_count": null,
   "metadata": {},
   "outputs": [],
   "source": []
  }
 ],
 "metadata": {
  "interpreter": {
   "hash": "8cb2474c42576a3606c9634037c9ef0ac64d9294c9ef3038e6307653057325e9"
  },
  "kernelspec": {
   "display_name": "Python 3.10.2 64-bit",
   "language": "python",
   "name": "python3"
  },
  "language_info": {
   "codemirror_mode": {
    "name": "ipython",
    "version": 3
   },
   "file_extension": ".py",
   "mimetype": "text/x-python",
   "name": "python",
   "nbconvert_exporter": "python",
   "pygments_lexer": "ipython3",
   "version": "3.9.7"
  },
  "orig_nbformat": 4
 },
 "nbformat": 4,
 "nbformat_minor": 2
}
