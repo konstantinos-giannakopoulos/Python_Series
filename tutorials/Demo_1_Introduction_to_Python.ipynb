{
 "cells": [
  {
   "cell_type": "markdown",
   "metadata": {},
   "source": [
    "#\n",
    "># Demo_2_Python_Fundamentals\n",
    ">#\n",
    ">1. Check Python Installation\n",
    ">    1. Check Python version\n",
    ">    2. Finding out your Python Interpreter\n",
    ">    3. 'Hello World' example\n",
    ">    4. List Python packages\n",
    ">    5. Upgrade pip if needed\n",
    ">2. Python is a dynamically typed language.\n",
    ">#"
   ]
  },
  {
   "cell_type": "markdown",
   "metadata": {},
   "source": [
    "## 1. Check Python Installation"
   ]
  },
  {
   "cell_type": "markdown",
   "metadata": {},
   "source": [
    "### a) Check Python version"
   ]
  },
  {
   "cell_type": "code",
   "execution_count": 1,
   "metadata": {},
   "outputs": [
    {
     "name": "stdout",
     "output_type": "stream",
     "text": [
      "Python 3.9.7\n"
     ]
    }
   ],
   "source": [
    " !python -V"
   ]
  },
  {
   "cell_type": "markdown",
   "metadata": {},
   "source": [
    "### b) Finding out your Python Interpreter"
   ]
  },
  {
   "cell_type": "code",
   "execution_count": 2,
   "metadata": {},
   "outputs": [
    {
     "name": "stdout",
     "output_type": "stream",
     "text": [
      "We are using  CPython  interpreter.\n"
     ]
    }
   ],
   "source": [
    "# We need to import the platform package first\n",
    "import platform   \n",
    "print(\"We are using \", platform.python_implementation(), \" interpreter.\")"
   ]
  },
  {
   "cell_type": "markdown",
   "metadata": {},
   "source": [
    "### c) 'Hello World' example"
   ]
  },
  {
   "cell_type": "code",
   "execution_count": 3,
   "metadata": {},
   "outputs": [
    {
     "name": "stdout",
     "output_type": "stream",
     "text": [
      "Hello World!\n"
     ]
    }
   ],
   "source": [
    "print('Hello World!')"
   ]
  },
  {
   "cell_type": "markdown",
   "metadata": {},
   "source": [
    "### d) List Python packages\n",
    "\n",
    "Pip is a recursive acronym that can stand for either \" Pip Installs Packages \" or **\"Pip Installs Python\"**. \n",
    "Alternatively, pip stands for \"preferred installer program\".  \n",
    "\n",
    "PIP is **a package manager** for Python packages and/or modules."
   ]
  },
  {
   "cell_type": "code",
   "execution_count": 4,
   "metadata": {},
   "outputs": [
    {
     "name": "stdout",
     "output_type": "stream",
     "text": [
      "Package           Version\n",
      "----------------- -------\n",
      "asttokens         2.0.5\n",
      "backcall          0.2.0\n",
      "colorama          0.4.4\n",
      "cycler            0.11.0\n",
      "debugpy           1.6.0\n",
      "decorator         5.1.1\n",
      "entrypoints       0.4\n",
      "et-xmlfile        1.1.0\n",
      "executing         0.8.3\n",
      "fonttools         4.32.0\n",
      "ipykernel         6.13.0\n",
      "ipython           8.2.0\n",
      "jedi              0.18.1\n",
      "jupyter-client    7.2.2\n",
      "jupyter-core      4.10.0\n",
      "kiwisolver        1.4.2\n",
      "lxml              4.8.0\n",
      "matplotlib        3.5.1\n",
      "matplotlib-inline 0.1.3\n",
      "nest-asyncio      1.5.5\n",
      "numpy             1.22.3\n",
      "openpyxl          3.0.9\n",
      "packaging         21.3\n",
      "pandas            1.4.2\n",
      "parso             0.8.3\n",
      "pickleshare       0.7.5\n",
      "Pillow            9.1.0\n",
      "pip               22.0.4\n",
      "plotly            5.7.0\n",
      "prompt-toolkit    3.0.29\n",
      "psutil            5.9.0\n",
      "pure-eval         0.2.2\n",
      "pygal             3.0.0\n",
      "Pygments          2.11.2\n",
      "pyparsing         3.0.8\n",
      "python-dateutil   2.8.2\n",
      "pytz              2022.1\n",
      "pywin32           303\n",
      "pyzmq             22.3.0\n",
      "scipy             1.8.0\n",
      "seaborn           0.11.2\n",
      "setuptools        57.4.0\n",
      "six               1.16.0\n",
      "stack-data        0.2.0\n",
      "tenacity          8.0.1\n",
      "tornado           6.1\n",
      "traitlets         5.1.1\n",
      "wcwidth           0.2.5\n",
      "Note: you may need to restart the kernel to use updated packages.\n"
     ]
    }
   ],
   "source": [
    "%pip list"
   ]
  },
  {
   "cell_type": "markdown",
   "metadata": {},
   "source": [
    "### e) Upgrade pip if needed."
   ]
  },
  {
   "cell_type": "code",
   "execution_count": 5,
   "metadata": {},
   "outputs": [
    {
     "name": "stdout",
     "output_type": "stream",
     "text": [
      "Defaulting to user installation because normal site-packages is not writeable\n",
      "Requirement already satisfied: pip in c:\\users\\konstantinos.giannak\\appdata\\roaming\\python\\python39\\site-packages (22.0.4)\n",
      "Note: you may need to restart the kernel to use updated packages.\n"
     ]
    }
   ],
   "source": [
    "%pip install --upgrade pip"
   ]
  },
  {
   "cell_type": "markdown",
   "metadata": {},
   "source": [
    "## 2. Python is a dynamically typed language.\n",
    "We don't have to declare the type of variable while assigning a value to a variable in Python.  It states the kind of variable in the runtime of the program."
   ]
  },
  {
   "cell_type": "code",
   "execution_count": 6,
   "metadata": {},
   "outputs": [
    {
     "name": "stdout",
     "output_type": "stream",
     "text": [
      "<class 'list'>\n",
      "<class 'bool'>\n"
     ]
    }
   ],
   "source": [
    "## assigning a value to a variable\n",
    "x = [1, 2, 3]\n",
    "## x is a list here\n",
    "print(type(x))\n",
    "\n",
    "# !!! We DO NOT need to specify the type like in other programming languages such as C++ or Java.\n",
    "# !!! We DO NOT do this: ---> list x = [1, 2, 3]\n",
    "# !!! We DO NOT do this: ---> int x = 1\n",
    "# !!! We DO NOT do this: ---> string str = \"Hello\"\n",
    "\n",
    "## reassigning a value to the 'x'\n",
    "x = True\n",
    "## x is a bool here\n",
    "print(type(x))"
   ]
  },
  {
   "cell_type": "code",
   "execution_count": null,
   "metadata": {},
   "outputs": [],
   "source": []
  }
 ],
 "metadata": {
  "interpreter": {
   "hash": "8cb2474c42576a3606c9634037c9ef0ac64d9294c9ef3038e6307653057325e9"
  },
  "kernelspec": {
   "display_name": "Python 3.10.2 64-bit",
   "language": "python",
   "name": "python3"
  },
  "language_info": {
   "codemirror_mode": {
    "name": "ipython",
    "version": 3
   },
   "file_extension": ".py",
   "mimetype": "text/x-python",
   "name": "python",
   "nbconvert_exporter": "python",
   "pygments_lexer": "ipython3",
   "version": "3.9.7"
  },
  "orig_nbformat": 4
 },
 "nbformat": 4,
 "nbformat_minor": 2
}
