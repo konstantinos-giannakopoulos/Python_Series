{
 "cells": [
  {
   "cell_type": "markdown",
   "metadata": {},
   "source": [
    ">#\n",
    "># Demo_5_Sets_and_Dictionaries\n",
    ">#\n",
    ">### Container Datatypes:\n",
    ">    - **List**\n",
    ">    - **Tuple**\n",
    ">    - **Set**\n",
    ">    - **Dictionary**\n",
    "> -----------------\n",
    ">1. Sets **{...}**\n",
    ">    - Creating a set. \n",
    ">    - Add element to a set.\n",
    ">    - Update\n",
    ">    - Remove\n",
    ">    - Union\n",
    ">    - Itersection\n",
    ">    - Convert to List and Sorting\n",
    ">2. Dictionaries [key:value pairs] **{'key':'value', ... }**\n",
    ">    - Creating a dictionary \n",
    ">    - Access by key\n",
    ">    - Update\n",
    ">    - Add a new key value\n",
    ">    - Fetch elements by key only\n",
    ">    - Fetch elements by value only\n",
    ">    - Fetch elements (both keys and values)\n",
    ">    - Dictionary Comprehension\n",
    ">    - Nested Dictionaries\n",
    ">    - Sort pair elements by key\n",
    ">    - Merge dictionaries\n",
    ">    - Accessing pair elements"
   ]
  },
  {
   "cell_type": "markdown",
   "metadata": {},
   "source": [
    "## 1. Sets **{...}**\n",
    "Properties:\n",
    "\n",
    "- unordered\n",
    "- mutable\n",
    "- holds only unique elements"
   ]
  },
  {
   "cell_type": "markdown",
   "metadata": {},
   "source": [
    "### a) Creating a set"
   ]
  },
  {
   "cell_type": "code",
   "execution_count": 7,
   "metadata": {},
   "outputs": [
    {
     "name": "stdout",
     "output_type": "stream",
     "text": [
      "<class 'set'>\n"
     ]
    }
   ],
   "source": [
    "# Method 1 - Using the set built-in constructor\n",
    "mySet1 = set()\n",
    "print(type(mySet1))"
   ]
  },
  {
   "cell_type": "code",
   "execution_count": 8,
   "metadata": {},
   "outputs": [
    {
     "name": "stdout",
     "output_type": "stream",
     "text": [
      "<class 'set'>\n"
     ]
    }
   ],
   "source": [
    "# Method 2 - by adding values\n",
    "mySet2 = {1, 2, 3, 4, 1, 3}\n",
    "print(type(mySet2))"
   ]
  },
  {
   "cell_type": "markdown",
   "metadata": {},
   "source": [
    "Examples"
   ]
  },
  {
   "cell_type": "code",
   "execution_count": 8,
   "metadata": {},
   "outputs": [
    {
     "name": "stdout",
     "output_type": "stream",
     "text": [
      "Names in the given set: {'Robin', 'Michele'}\n"
     ]
    }
   ],
   "source": [
    "names_set = set()\n",
    "names_set.add(\"Michele\")\n",
    "names_set.add(\"Robin\")\n",
    "names_set.add(\"Michele\")\n",
    "print('Names in the given set:', names_set)"
   ]
  },
  {
   "cell_type": "code",
   "execution_count": 9,
   "metadata": {},
   "outputs": [
    {
     "name": "stdout",
     "output_type": "stream",
     "text": [
      "{False, True, 2, 3, 4.5, 'a'}\n"
     ]
    }
   ],
   "source": [
    "a_set={True,'a',1,2,3,False,4.5} # 1 is nothing but True\n",
    "print(a_set)"
   ]
  },
  {
   "cell_type": "markdown",
   "metadata": {},
   "source": [
    "### a) Add element to a set."
   ]
  },
  {
   "cell_type": "code",
   "execution_count": 10,
   "metadata": {},
   "outputs": [
    {
     "name": "stdout",
     "output_type": "stream",
     "text": [
      "{False, True, 2, 3, 4.5, 'a', 'Wednesday'}\n"
     ]
    }
   ],
   "source": [
    "#add\n",
    "a_set.add('Wednesday') # add()\n",
    "print(a_set)"
   ]
  },
  {
   "cell_type": "markdown",
   "metadata": {},
   "source": [
    "### b) Update a set element."
   ]
  },
  {
   "cell_type": "code",
   "execution_count": 11,
   "metadata": {},
   "outputs": [
    {
     "name": "stdout",
     "output_type": "stream",
     "text": [
      "{False, True, 2, 3, 4.5, 4, 'Wednesday', 'a', 'wed'}\n"
     ]
    }
   ],
   "source": [
    "#update\n",
    "b_set={3,4,'wed',0}\n",
    "a_set.update(b_set) # update()\n",
    "print(a_set)"
   ]
  },
  {
   "cell_type": "markdown",
   "metadata": {},
   "source": [
    "### c) Remove a set element."
   ]
  },
  {
   "cell_type": "markdown",
   "metadata": {},
   "source": [
    "Method 1: discard()"
   ]
  },
  {
   "cell_type": "code",
   "execution_count": 12,
   "metadata": {},
   "outputs": [
    {
     "name": "stdout",
     "output_type": "stream",
     "text": [
      "{False, True, 2, 3, 4.5, 4, 'Wednesday', 'a'}\n"
     ]
    }
   ],
   "source": [
    "#remove -- method 1 --discard\n",
    "a_set={False, True, 2, 3, 4.5, 4, 'Wednesday', 'a', 'wed'}\n",
    "a_set.discard('wed')\n",
    "print(a_set)"
   ]
  },
  {
   "cell_type": "code",
   "execution_count": 14,
   "metadata": {},
   "outputs": [
    {
     "name": "stdout",
     "output_type": "stream",
     "text": [
      "{False, True, 2, 3, 4.5, 4, 'Wednesday', 'a'}\n"
     ]
    }
   ],
   "source": [
    "# discarding an element that does not exist\n",
    "# no exception thrown when discard an element that does not exist\n",
    "a_set={False, True, 2, 3, 4.5, 4, 'Wednesday', 'a'}\n",
    "a_set.discard('9')\n",
    "print(a_set)"
   ]
  },
  {
   "cell_type": "markdown",
   "metadata": {},
   "source": [
    "Method 2: remove()"
   ]
  },
  {
   "cell_type": "code",
   "execution_count": 15,
   "metadata": {},
   "outputs": [
    {
     "ename": "KeyError",
     "evalue": "'9'",
     "output_type": "error",
     "traceback": [
      "\u001b[1;31m---------------------------------------------------------------------------\u001b[0m",
      "\u001b[1;31mKeyError\u001b[0m                                  Traceback (most recent call last)",
      "\u001b[1;32mc:\\Users\\Konstantinos\\OneDrive - FDM Group\\Courses\\My_Version\\Data_Engineering\\Software_Development\\Python_APAC\\Python_1_week_TechOps_Batch\\Day_1_Monday\\Demo_5_Sets and Dicts.ipynb Cell 14'\u001b[0m in \u001b[0;36m<cell line: 4>\u001b[1;34m()\u001b[0m\n\u001b[0;32m      <a href='vscode-notebook-cell:/c%3A/Users/Konstantinos/OneDrive%20-%20FDM%20Group/Courses/My_Version/Data_Engineering/Software_Development/Python_APAC/Python_1_week_TechOps_Batch/Day_1_Monday/Demo_5_Sets%20and%20Dicts.ipynb#ch0000012?line=0'>1</a>\u001b[0m \u001b[39m#remove --Method 2 --remove\u001b[39;00m\n\u001b[0;32m      <a href='vscode-notebook-cell:/c%3A/Users/Konstantinos/OneDrive%20-%20FDM%20Group/Courses/My_Version/Data_Engineering/Software_Development/Python_APAC/Python_1_week_TechOps_Batch/Day_1_Monday/Demo_5_Sets%20and%20Dicts.ipynb#ch0000012?line=1'>2</a>\u001b[0m \u001b[39m# !!! exception thrown when discard an element that does not exist\u001b[39;00m\n\u001b[0;32m      <a href='vscode-notebook-cell:/c%3A/Users/Konstantinos/OneDrive%20-%20FDM%20Group/Courses/My_Version/Data_Engineering/Software_Development/Python_APAC/Python_1_week_TechOps_Batch/Day_1_Monday/Demo_5_Sets%20and%20Dicts.ipynb#ch0000012?line=2'>3</a>\u001b[0m a_set\u001b[39m=\u001b[39m{\u001b[39mFalse\u001b[39;00m, \u001b[39mTrue\u001b[39;00m, \u001b[39m2\u001b[39m, \u001b[39m3\u001b[39m, \u001b[39m4.5\u001b[39m, \u001b[39m4\u001b[39m, \u001b[39m'\u001b[39m\u001b[39mWednesday\u001b[39m\u001b[39m'\u001b[39m, \u001b[39m'\u001b[39m\u001b[39ma\u001b[39m\u001b[39m'\u001b[39m}\n\u001b[1;32m----> <a href='vscode-notebook-cell:/c%3A/Users/Konstantinos/OneDrive%20-%20FDM%20Group/Courses/My_Version/Data_Engineering/Software_Development/Python_APAC/Python_1_week_TechOps_Batch/Day_1_Monday/Demo_5_Sets%20and%20Dicts.ipynb#ch0000012?line=3'>4</a>\u001b[0m a_set\u001b[39m.\u001b[39;49mremove(\u001b[39m'\u001b[39;49m\u001b[39m9\u001b[39;49m\u001b[39m'\u001b[39;49m) \n\u001b[0;32m      <a href='vscode-notebook-cell:/c%3A/Users/Konstantinos/OneDrive%20-%20FDM%20Group/Courses/My_Version/Data_Engineering/Software_Development/Python_APAC/Python_1_week_TechOps_Batch/Day_1_Monday/Demo_5_Sets%20and%20Dicts.ipynb#ch0000012?line=4'>5</a>\u001b[0m \u001b[39mprint\u001b[39m(a_set)\n",
      "\u001b[1;31mKeyError\u001b[0m: '9'"
     ]
    }
   ],
   "source": [
    "#remove --Method 2 --remove\n",
    "# !!! removing an element that does not exist\n",
    "# !!! exception thrown when discard an element that does not exist\n",
    "a_set={False, True, 2, 3, 4.5, 4, 'Wednesday', 'a'}\n",
    "a_set.remove('9') \n",
    "print(a_set)"
   ]
  },
  {
   "cell_type": "code",
   "execution_count": 18,
   "metadata": {},
   "outputs": [
    {
     "name": "stdout",
     "output_type": "stream",
     "text": [
      "{False, True, 3, 4.5, 4, 'Wednesday', 'a'}\n"
     ]
    }
   ],
   "source": [
    "# remove an existing element\n",
    "a_set={False, True, 2, 3, 4.5, 4, 'Wednesday', 'a'}\n",
    "a_set.remove(2)  # remove()\n",
    "print(a_set)"
   ]
  },
  {
   "cell_type": "markdown",
   "metadata": {},
   "source": [
    "Method 3: pop()"
   ]
  },
  {
   "cell_type": "code",
   "execution_count": 21,
   "metadata": {},
   "outputs": [
    {
     "name": "stdout",
     "output_type": "stream",
     "text": [
      "{True, 'Wednesday', 3, 4.5, 4, 'a'}\n"
     ]
    }
   ],
   "source": [
    "#remove --method 3 -- pop()\n",
    "a_set={False, True, 3, 4.5, 4, 'Wednesday', 'a'}\n",
    "a_set.pop() # pop() the first element\n",
    "print(a_set)"
   ]
  },
  {
   "cell_type": "markdown",
   "metadata": {},
   "source": [
    "### d) Union"
   ]
  },
  {
   "cell_type": "code",
   "execution_count": 4,
   "metadata": {},
   "outputs": [
    {
     "name": "stdout",
     "output_type": "stream",
     "text": [
      "{True, 3, 4.5, 4, 'Wednesday', 'a', 44, 55}\n"
     ]
    }
   ],
   "source": [
    "#union returns a set with elements of both sets\n",
    "# union via method union()\n",
    "a_set={True, 'Wednesday', 3, 4.5, 4, 'a'}\n",
    "c_set={44, 55, 'Wednesday'}\n",
    "union_set=a_set.union(c_set)    # values 44 and 55 are added\n",
    "print(union_set) "
   ]
  },
  {
   "cell_type": "code",
   "execution_count": 5,
   "metadata": {},
   "outputs": [
    {
     "name": "stdout",
     "output_type": "stream",
     "text": [
      "{True, 3, 4.5, 4, 'Wednesday', 'a', 44, 55}\n"
     ]
    }
   ],
   "source": [
    "# union via operant |\n",
    "a_set={True, 'Wednesday', 3, 4.5, 4, 'a'}\n",
    "c_set={44, 55, 'Wednesday'}\n",
    "union_set= a_set | c_set    # values 44 and 55 are added\n",
    "print(union_set) "
   ]
  },
  {
   "cell_type": "markdown",
   "metadata": {},
   "source": [
    "### e) Intersection"
   ]
  },
  {
   "cell_type": "code",
   "execution_count": 6,
   "metadata": {},
   "outputs": [
    {
     "name": "stdout",
     "output_type": "stream",
     "text": [
      "{'Wednesday'}\n"
     ]
    }
   ],
   "source": [
    "# intersection via method intersection()\n",
    "a_set={True, 'Wednesday', 3, 4.5, 4, 'a'}\n",
    "c_set={44, 55, 'Wednesday'}\n",
    "intersection_set=a_set.intersection(c_set) # keep common elements only\n",
    "print(intersection_set)"
   ]
  },
  {
   "cell_type": "code",
   "execution_count": 7,
   "metadata": {},
   "outputs": [
    {
     "name": "stdout",
     "output_type": "stream",
     "text": [
      "{'Wednesday'}\n"
     ]
    }
   ],
   "source": [
    "# intersection via operant &\n",
    "a_set={True, 'Wednesday', 3, 4.5, 4, 'a'}\n",
    "c_set={44, 55, 'Wednesday'}\n",
    "intersection_set=a_set & c_set # keep common elements only\n",
    "print(intersection_set)"
   ]
  },
  {
   "cell_type": "markdown",
   "metadata": {},
   "source": [
    "### f) Convert set to list and list to set.\n",
    "Can be used if sorting is needed."
   ]
  },
  {
   "cell_type": "code",
   "execution_count": 25,
   "metadata": {},
   "outputs": [
    {
     "name": "stdout",
     "output_type": "stream",
     "text": [
      "This is a list:  [1, 23, 34, 65, 98]\n",
      "This is a set:  {65, 1, 34, 98, 23}\n"
     ]
    }
   ],
   "source": [
    "new_set={34,23,65,98,1}\n",
    "a_list=list(new_set)\n",
    "a_list.sort() \n",
    "print ('This is a list: ',a_list)\n",
    "new_set=set(a_list)\n",
    "print('This is a set: ', new_set)"
   ]
  },
  {
   "cell_type": "markdown",
   "metadata": {},
   "source": [
    "## 2. Dictionaries  [key:value pairs] **{'key':'value', ... }**\n",
    "Properties:\n",
    "\n",
    "- unordered key value pair\n",
    "- mutable\n",
    "- key--case sentive\n",
    "- unique keys"
   ]
  },
  {
   "cell_type": "markdown",
   "metadata": {},
   "source": [
    "### a) Creating a dictionary"
   ]
  },
  {
   "cell_type": "code",
   "execution_count": 4,
   "metadata": {},
   "outputs": [
    {
     "name": "stdout",
     "output_type": "stream",
     "text": [
      "<class 'dict'>\n"
     ]
    }
   ],
   "source": [
    "# Method 1 - Using the dict built-in constructor\n",
    "myDictionary1 = dict()\n",
    "print(type(myDictionary1))"
   ]
  },
  {
   "cell_type": "code",
   "execution_count": 5,
   "metadata": {},
   "outputs": [
    {
     "name": "stdout",
     "output_type": "stream",
     "text": [
      "<class 'dict'>\n"
     ]
    }
   ],
   "source": [
    "# Method 2 - Using {}\n",
    "myDictionary2 = {}\n",
    "print(type(myDictionary2))"
   ]
  },
  {
   "cell_type": "code",
   "execution_count": 6,
   "metadata": {},
   "outputs": [
    {
     "name": "stdout",
     "output_type": "stream",
     "text": [
      "<class 'dict'>\n"
     ]
    }
   ],
   "source": [
    "# Method 3 - by adding values\n",
    "myDictionary3 = {'key1':'value1', 'key2':'value1', 'key3':'value3'}\n",
    "print(type(myDictionary3))"
   ]
  },
  {
   "cell_type": "code",
   "execution_count": 26,
   "metadata": {},
   "outputs": [
    {
     "name": "stdout",
     "output_type": "stream",
     "text": [
      "Elements of dict with key values: {'server': 'db.fdmgroup.org', 'database': 'mysql'}\n"
     ]
    }
   ],
   "source": [
    "#creating a dict\n",
    "a_dict={'server': 'db.fdmgroup.org', 'database': 'mysql'}\n",
    "print('Elements of dict with key values:',a_dict)"
   ]
  },
  {
   "cell_type": "markdown",
   "metadata": {},
   "source": [
    "### b) Access by key"
   ]
  },
  {
   "cell_type": "code",
   "execution_count": 28,
   "metadata": {},
   "outputs": [
    {
     "name": "stdout",
     "output_type": "stream",
     "text": [
      "mysql\n"
     ]
    }
   ],
   "source": [
    "#access by key\n",
    "a_dict={'server': 'db.fdmgroup.org', 'database': 'mysql'}\n",
    "print(a_dict['database'])"
   ]
  },
  {
   "cell_type": "markdown",
   "metadata": {},
   "source": [
    "### c) Update"
   ]
  },
  {
   "cell_type": "code",
   "execution_count": 29,
   "metadata": {},
   "outputs": [
    {
     "name": "stdout",
     "output_type": "stream",
     "text": [
      "oracle\n"
     ]
    }
   ],
   "source": [
    "#update\n",
    "a_dict={'server': 'db.fdmgroup.org', 'database': 'mysql'}\n",
    "a_dict['database']='oracle'\n",
    "print(a_dict['database'])"
   ]
  },
  {
   "cell_type": "markdown",
   "metadata": {},
   "source": [
    "### d) Add a new key value"
   ]
  },
  {
   "cell_type": "code",
   "execution_count": 31,
   "metadata": {},
   "outputs": [
    {
     "name": "stdout",
     "output_type": "stream",
     "text": [
      "{'server': 'db.fdmgroup.org', 'database': 'mysql', 'user': 'user1', 'password': '1234'}\n"
     ]
    }
   ],
   "source": [
    "#add a new key value\n",
    "a_dict={'server': 'db.fdmgroup.org', 'database': 'mysql'}\n",
    "a_dict['user']='user1'\n",
    "a_dict['password']='1234'\n",
    "print(a_dict)"
   ]
  },
  {
   "cell_type": "code",
   "execution_count": 32,
   "metadata": {},
   "outputs": [
    {
     "name": "stdout",
     "output_type": "stream",
     "text": [
      "{1001: ['Michelle', 'SB ROad', 67687687, 'HR'], 1002: ['John Doe', 'NB Road', 324234, 'Admin'], 1003: ['Donald', 'EB Road', 98987867, 'Sales Admin'], 1004: ['Tom', 'WB Road', 97665545, 'Trainer'], 1005: ['Todd', 'LB Road', 98867565, 'Manager']}\n"
     ]
    }
   ],
   "source": [
    "#dict with list\n",
    "#employee table as dictionary\n",
    "#attributes of employee table be employeeId, name, Address, phonenumber, role\n",
    "emp_table={1001:['Michelle','SB ROad',67687687,'HR'],\n",
    "            1002:['John Doe','NB Road',324234,'Admin'],\n",
    "            1003:['Donald','EB Road',98987867,'Sales Admin'],\n",
    "            1004:['Tom','WB Road',97665545,'Trainer'],\n",
    "            1005:['Todd','LB Road',98867565,'Manager']}\n",
    "print(emp_table)"
   ]
  },
  {
   "cell_type": "markdown",
   "metadata": {},
   "source": [
    "### e1) Fetch elements by key only"
   ]
  },
  {
   "cell_type": "code",
   "execution_count": 33,
   "metadata": {},
   "outputs": [
    {
     "name": "stdout",
     "output_type": "stream",
     "text": [
      "1001\n",
      "1002\n",
      "1003\n",
      "1004\n",
      "1005\n"
     ]
    }
   ],
   "source": [
    "#to fetch elements only keys\n",
    "for k in emp_table:\n",
    "    print(k)"
   ]
  },
  {
   "cell_type": "markdown",
   "metadata": {},
   "source": [
    "### e2) Fetch elements by value only"
   ]
  },
  {
   "cell_type": "code",
   "execution_count": 34,
   "metadata": {},
   "outputs": [
    {
     "name": "stdout",
     "output_type": "stream",
     "text": [
      "['Michelle', 'SB ROad', 67687687, 'HR']\n",
      "['John Doe', 'NB Road', 324234, 'Admin']\n",
      "['Donald', 'EB Road', 98987867, 'Sales Admin']\n",
      "['Tom', 'WB Road', 97665545, 'Trainer']\n",
      "['Todd', 'LB Road', 98867565, 'Manager']\n"
     ]
    }
   ],
   "source": [
    "#to fetch elements only values\n",
    "for v in emp_table.values():\n",
    "    print(v)"
   ]
  },
  {
   "cell_type": "markdown",
   "metadata": {},
   "source": [
    "### e3) Fetch elements both keys and values"
   ]
  },
  {
   "cell_type": "code",
   "execution_count": 35,
   "metadata": {},
   "outputs": [
    {
     "name": "stdout",
     "output_type": "stream",
     "text": [
      "1001  ---->  ['Michelle', 'SB ROad', 67687687, 'HR']\n",
      "1002  ---->  ['John Doe', 'NB Road', 324234, 'Admin']\n",
      "1003  ---->  ['Donald', 'EB Road', 98987867, 'Sales Admin']\n",
      "1004  ---->  ['Tom', 'WB Road', 97665545, 'Trainer']\n",
      "1005  ---->  ['Todd', 'LB Road', 98867565, 'Manager']\n"
     ]
    }
   ],
   "source": [
    "#to fetch elements both keys and values\n",
    "for k,v in emp_table.items():\n",
    "    print(k,' ----> ',v)"
   ]
  },
  {
   "cell_type": "markdown",
   "metadata": {},
   "source": [
    "### f) Dictionary Comprehension"
   ]
  },
  {
   "cell_type": "code",
   "execution_count": 11,
   "metadata": {},
   "outputs": [
    {
     "name": "stdout",
     "output_type": "stream",
     "text": [
      "<class 'dict'>\n",
      "{0: 0, 1: 1, 2: 4, 3: 9, 4: 16, 5: 25, 6: 36, 7: 49, 8: 64}\n"
     ]
    }
   ],
   "source": [
    "#dictionary comprehension\n",
    "dict_compr={i:i**2 for i in range(9)}\n",
    "print(type(dict_compr))\n",
    "print(dict_compr)"
   ]
  },
  {
   "cell_type": "markdown",
   "metadata": {},
   "source": [
    "### g) Nested Dictionaries"
   ]
  },
  {
   "cell_type": "code",
   "execution_count": 17,
   "metadata": {},
   "outputs": [
    {
     "name": "stdout",
     "output_type": "stream",
     "text": [
      "{1001: {'Name': 'Michelle', 'Address': 'SB ROad', 'Number': 67687687, 'Role': 'HR'}, 1002: {'Name': 'John Doe', 'Address': 'NB Road', 'Number': 324234, 'Role': 'Admin'}, 1003: {'Name': 'Donald', 'Address': 'EB Road', 'Number': 98987867, 'Role': 'Sales Admin'}, 1004: {'Name': 'Tom', 'Address': 'WB Road', 'Number': 97665545, 'Role': 'Trainer'}, 1005: {'Name': 'Todd', 'Address': 'LB Road', 'Number': 98867565, 'Role': 'Manager'}}\n",
      "\n",
      "{'Name': 'Michelle', 'Address': 'SB ROad', 'Number': 67687687, 'Role': 'HR'}\n",
      "\n",
      "{'Name': 'Michelle', 'Address': 'SB ROad', 'Number': 67687687, 'Role': 'HR'}\n",
      "{'Name': 'John Doe', 'Address': 'NB Road', 'Number': 324234, 'Role': 'Admin'}\n",
      "{'Name': 'Donald', 'Address': 'EB Road', 'Number': 98987867, 'Role': 'Sales Admin'}\n",
      "{'Name': 'Tom', 'Address': 'WB Road', 'Number': 97665545, 'Role': 'Trainer'}\n",
      "{'Name': 'Todd', 'Address': 'LB Road', 'Number': 98867565, 'Role': 'Manager'}\n"
     ]
    }
   ],
   "source": [
    "#employee table as dictionary\n",
    "#attributes of employee table be employeeId, name, Address, phonenumber, role\n",
    "nested_emp_dictionary={1001:{'Name':'Michelle', 'Address':'SB ROad', 'Number':67687687, 'Role':'HR'},\n",
    "            1002:{'Name':'John Doe', 'Address':'NB Road', 'Number':324234, 'Role':'Admin'},\n",
    "            1003:{'Name':'Donald', 'Address':'EB Road', 'Number':98987867, 'Role':'Sales Admin'},\n",
    "            1004:{'Name':'Tom', 'Address':'WB Road', 'Number':97665545, 'Role':'Trainer'},\n",
    "            1005:{'Name':'Todd', 'Address':'LB Road', 'Number':98867565, 'Role':'Manager'}}\n",
    "print(nested_emp_dictionary)\n",
    "print()\n",
    "\n",
    "# Access the attributes of an employee\n",
    "print(nested_emp_dictionary[1001])\n",
    "print()\n",
    "\n",
    "# get the records only\n",
    "for employee_attribute_record in nested_emp_dictionary.values():\n",
    "    print(employee_attribute_record)"
   ]
  },
  {
   "cell_type": "markdown",
   "metadata": {},
   "source": [
    "### h) Sort pair elements by key"
   ]
  },
  {
   "cell_type": "code",
   "execution_count": 37,
   "metadata": {},
   "outputs": [
    {
     "name": "stdout",
     "output_type": "stream",
     "text": [
      "John --->  [1, 2, 3, 4, 5]\n",
      "Maria --->  [92, 93, 94, 87, 88]\n",
      "Todd --->  [81, 82, 83, 84, 85]\n",
      "Tom --->  [100, 99, 98, 97, 96]\n"
     ]
    }
   ],
   "source": [
    "#Student_table with name as key and score of 5 subjects as list\n",
    "#5 subject ordered as English, Maths, Science, History, SS\n",
    "student_table = {'Tom':[100, 99, 98, 97, 96],\n",
    "'John':[1, 2, 3, 4, 5],\n",
    "'Todd': [81, 82, 83, 84, 85],\n",
    "'Maria':[92,93,94,87,88]}\n",
    "\n",
    "#Sort the records based on key\n",
    "#steps\n",
    "'''\n",
    "1. extract keys \n",
    "2. convert to list\n",
    "3. sort\n",
    "'''\n",
    "theKeys=list(student_table.keys())\n",
    "theKeys.sort()\n",
    "for k in theKeys:\n",
    "    print(k, '---> ',student_table[k])"
   ]
  },
  {
   "cell_type": "markdown",
   "metadata": {},
   "source": [
    "### i) Merge Dictionaries"
   ]
  },
  {
   "cell_type": "code",
   "execution_count": 47,
   "metadata": {},
   "outputs": [
    {
     "name": "stdout",
     "output_type": "stream",
     "text": [
      "{'color': 'red', 'shape': 'circle', 'quantity': 42}\n"
     ]
    }
   ],
   "source": [
    "#merging dictionaries\n",
    "dict1={'color':'blue','shape':'circle'}\n",
    "dict2={'color':'red', 'quantity':42}\n",
    "dict1.update(dict2) # will replace color: blue to color: red and then it includes quantity key\n",
    "print(dict1)"
   ]
  },
  {
   "cell_type": "code",
   "execution_count": 48,
   "metadata": {},
   "outputs": [
    {
     "name": "stdout",
     "output_type": "stream",
     "text": [
      "{'color': 'red'}\n"
     ]
    }
   ],
   "source": [
    "#pop\n",
    "dict2.pop('quantity') # pop out the quantity key\n",
    "print(dict2)"
   ]
  },
  {
   "cell_type": "markdown",
   "metadata": {},
   "source": [
    "### j) Accessing pair elements"
   ]
  },
  {
   "cell_type": "code",
   "execution_count": 40,
   "metadata": {},
   "outputs": [
    {
     "name": "stdout",
     "output_type": "stream",
     "text": [
      "dict_keys(['Tom', 'John', 'Todd', 'Maria'])\n",
      "dict_values([[100, 99, 98, 97, 96], [1, 2, 3, 4, 5], [81, 82, 83, 84, 85], [92, 93, 94, 87, 88]])\n",
      "dict_items([('Tom', [100, 99, 98, 97, 96]), ('John', [1, 2, 3, 4, 5]), ('Todd', [81, 82, 83, 84, 85]), ('Maria', [92, 93, 94, 87, 88])])\n"
     ]
    }
   ],
   "source": [
    "#accessing elements\n",
    "student_table = {'Tom':[100, 99, 98, 97, 96],\n",
    "'John':[1, 2, 3, 4, 5],\n",
    "'Todd': [81, 82, 83, 84, 85],\n",
    "'Maria':[92,93,94,87,88]}\n",
    "\n",
    "print(student_table.keys())\n",
    "print(student_table.values())\n",
    "print(student_table.items()) # both k,v"
   ]
  },
  {
   "cell_type": "code",
   "execution_count": 41,
   "metadata": {},
   "outputs": [
    {
     "name": "stdout",
     "output_type": "stream",
     "text": [
      "[81, 82, 83, 84, 85]\n"
     ]
    }
   ],
   "source": [
    "#get the scores of Todd\n",
    "student_table = {'Tom':[100, 99, 98, 97, 96],\n",
    "'John':[1, 2, 3, 4, 5],\n",
    "'Todd': [81, 82, 83, 84, 85],\n",
    "'Maria':[92,93,94,87,88]}\n",
    "\n",
    "print(student_table.get('Todd'))"
   ]
  },
  {
   "cell_type": "code",
   "execution_count": 42,
   "metadata": {},
   "outputs": [
    {
     "name": "stdout",
     "output_type": "stream",
     "text": [
      "Jane Doe is not in table\n"
     ]
    }
   ],
   "source": [
    "student_table = {'Tom':[100, 99, 98, 97, 96],\n",
    "'John':[1, 2, 3, 4, 5],\n",
    "'Todd': [81, 82, 83, 84, 85],\n",
    "'Maria':[92,93,94,87,88]}\n",
    "\n",
    "print(student_table.get('Jane Doe','Jane Doe is not in table'))"
   ]
  },
  {
   "cell_type": "code",
   "execution_count": 43,
   "metadata": {},
   "outputs": [
    {
     "name": "stdout",
     "output_type": "stream",
     "text": [
      "98\n"
     ]
    }
   ],
   "source": [
    "student_table = {'Tom':[100, 99, 98, 97, 96],\n",
    "'John':[1, 2, 3, 4, 5],\n",
    "'Todd': [81, 82, 83, 84, 85],\n",
    "'Maria':[92,93,94,87,88]}\n",
    "\n",
    "print(student_table['Tom'][2]) # returns score of Tom in Science"
   ]
  },
  {
   "cell_type": "code",
   "execution_count": 44,
   "metadata": {},
   "outputs": [
    {
     "name": "stdout",
     "output_type": "stream",
     "text": [
      "{'Tom': [100, 99, 98, 97, 96], 'John': [1, 78, 3, 4, 5], 'Todd': [81, 82, 83, 84, 85], 'Maria': [92, 93, 94, 87, 88]}\n"
     ]
    }
   ],
   "source": [
    "student_table = {'Tom':[100, 99, 98, 97, 96],\n",
    "'John':[1, 2, 3, 4, 5],\n",
    "'Todd': [81, 82, 83, 84, 85],\n",
    "'Maria':[92,93,94,87,88]}\n",
    "\n",
    "student_table['John'][1]=78 # update value of key\n",
    "print(student_table)"
   ]
  },
  {
   "cell_type": "code",
   "execution_count": 50,
   "metadata": {},
   "outputs": [
    {
     "name": "stdout",
     "output_type": "stream",
     "text": [
      "{'name': ['Tom', 'Todd', 'John', 'Maria'], 'scores': [405, 498, 187, 421]}\n",
      "498\n"
     ]
    }
   ],
   "source": [
    "student_name=['Tom', 'Todd','John','Maria']\n",
    "student_total_scores=[405,498,187,421]\n",
    "# create a dict called student_totalscore {'Tom':405,'Todd':498,'John':187,'Maria':421}\n",
    "student_totalscore={}\n",
    "student_totalscore['name']=student_name\n",
    "student_totalscore['scores']=student_total_scores\n",
    "print(student_totalscore)\n",
    "\n",
    "#find Todd score\n",
    "name='Todd'\n",
    "for i in student_totalscore['name']:\n",
    "    if i==name:\n",
    "        j=student_totalscore['name'].index(i)\n",
    "print(student_totalscore['scores'][j])"
   ]
  },
  {
   "cell_type": "code",
   "execution_count": 51,
   "metadata": {},
   "outputs": [
    {
     "name": "stdout",
     "output_type": "stream",
     "text": [
      "{'Tom': 405, 'Todd': 498, 'John': 187, 'Maria': 421}\n"
     ]
    }
   ],
   "source": [
    "student_totalscore1 = dict(zip(student_name, student_total_scores))\n",
    "print(student_totalscore1)"
   ]
  },
  {
   "cell_type": "code",
   "execution_count": 52,
   "metadata": {},
   "outputs": [
    {
     "name": "stdout",
     "output_type": "stream",
     "text": [
      "{'Tom': 405, 'Todd': 498, 'John': 187, 'Maria': 421}\n"
     ]
    }
   ],
   "source": [
    "student_dict ={student_name[i]:student_total_scores[i] for i in range(len(student_name))}\n",
    "print(student_dict)"
   ]
  },
  {
   "cell_type": "code",
   "execution_count": 53,
   "metadata": {},
   "outputs": [],
   "source": [
    "stud_score={'name':['Tom','Todd','John','Maria'],\n",
    "'scores':[405,498,187,421]}\n",
    "# find the score of Todd from stud_score"
   ]
  },
  {
   "cell_type": "code",
   "execution_count": 54,
   "metadata": {},
   "outputs": [
    {
     "name": "stdout",
     "output_type": "stream",
     "text": [
      "498\n"
     ]
    }
   ],
   "source": [
    "print(stud_score['scores'][stud_score['name'].index('Todd')])"
   ]
  },
  {
   "cell_type": "code",
   "execution_count": 55,
   "metadata": {},
   "outputs": [
    {
     "name": "stdout",
     "output_type": "stream",
     "text": [
      "498\n"
     ]
    }
   ],
   "source": [
    "#find Todd score\n",
    "name='Todd'\n",
    "for i in student_totalscore['name']:\n",
    "    if i==name:\n",
    "        j=student_totalscore['name'].index(i) # index location\n",
    "print(student_totalscore['scores'][j])"
   ]
  },
  {
   "cell_type": "code",
   "execution_count": 56,
   "metadata": {},
   "outputs": [
    {
     "name": "stdout",
     "output_type": "stream",
     "text": [
      "421\n"
     ]
    }
   ],
   "source": [
    "print(stud_score['scores'][stud_score['name'].index(input(\"Enter the name of the student: \"))])"
   ]
  },
  {
   "cell_type": "code",
   "execution_count": null,
   "metadata": {},
   "outputs": [],
   "source": []
  }
 ],
 "metadata": {
  "interpreter": {
   "hash": "8cb2474c42576a3606c9634037c9ef0ac64d9294c9ef3038e6307653057325e9"
  },
  "kernelspec": {
   "display_name": "Python 3.10.2 64-bit",
   "language": "python",
   "name": "python3"
  },
  "language_info": {
   "codemirror_mode": {
    "name": "ipython",
    "version": 3
   },
   "file_extension": ".py",
   "mimetype": "text/x-python",
   "name": "python",
   "nbconvert_exporter": "python",
   "pygments_lexer": "ipython3",
   "version": "3.9.7"
  },
  "orig_nbformat": 4
 },
 "nbformat": 4,
 "nbformat_minor": 2
}
