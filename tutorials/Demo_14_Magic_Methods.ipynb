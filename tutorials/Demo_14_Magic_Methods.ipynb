{
 "cells": [
  {
   "cell_type": "markdown",
   "metadata": {},
   "source": [
    "#\n",
    "# Demo_4_Magic_or_Dunder_Methods\n",
    "#\n",
    ">1. Introduction\n",
    ">2. Initialization and Construction\n",
    ">    - **\\_\\_new\\_\\_()**\n",
    ">    - **\\_\\_init\\_\\_()**\n",
    ">    - **\\_\\_str\\_\\_()**\n",
    ">3. Operator methods\n",
    ">    - **\\_\\_add\\_\\_()**\n",
    ">4. Other methods\n",
    ">    - **\\_\\_str\\_\\_()** vs. **\\_\\_repr\\_\\_()**\n",
    ">    - **\\_\\_iter\\_\\_()** and **\\_\\_next\\_\\_()**\n",
    ">\n",
    ">Reference: https://www.tutorialsteacher.com/python/magic-methods-in-python"
   ]
  },
  {
   "cell_type": "markdown",
   "metadata": {},
   "source": [
    "## 1. Introduction"
   ]
  },
  {
   "cell_type": "markdown",
   "metadata": {},
   "source": [
    "**Magic methods** in Python are the special methods that start and end with the double underscores. They are also called **dunder methods**. Magic methods are not meant to be invoked directly by you, but the invocation happens internally from the class on a certain action. For example, when you add two numbers using the + operator, internally, the __add__() method will be called.\n",
    "\n",
    "Built-in classes in Python define many magic methods. Use the **dir()** function to see the number of magic methods inherited by a class. For example, the following lists all the attributes and methods defined in the **int** class."
   ]
  },
  {
   "cell_type": "code",
   "execution_count": 1,
   "metadata": {},
   "outputs": [
    {
     "data": {
      "text/plain": [
       "['__abs__',\n",
       " '__add__',\n",
       " '__and__',\n",
       " '__bool__',\n",
       " '__ceil__',\n",
       " '__class__',\n",
       " '__delattr__',\n",
       " '__dir__',\n",
       " '__divmod__',\n",
       " '__doc__',\n",
       " '__eq__',\n",
       " '__float__',\n",
       " '__floor__',\n",
       " '__floordiv__',\n",
       " '__format__',\n",
       " '__ge__',\n",
       " '__getattribute__',\n",
       " '__getnewargs__',\n",
       " '__gt__',\n",
       " '__hash__',\n",
       " '__index__',\n",
       " '__init__',\n",
       " '__init_subclass__',\n",
       " '__int__',\n",
       " '__invert__',\n",
       " '__le__',\n",
       " '__lshift__',\n",
       " '__lt__',\n",
       " '__mod__',\n",
       " '__mul__',\n",
       " '__ne__',\n",
       " '__neg__',\n",
       " '__new__',\n",
       " '__or__',\n",
       " '__pos__',\n",
       " '__pow__',\n",
       " '__radd__',\n",
       " '__rand__',\n",
       " '__rdivmod__',\n",
       " '__reduce__',\n",
       " '__reduce_ex__',\n",
       " '__repr__',\n",
       " '__rfloordiv__',\n",
       " '__rlshift__',\n",
       " '__rmod__',\n",
       " '__rmul__',\n",
       " '__ror__',\n",
       " '__round__',\n",
       " '__rpow__',\n",
       " '__rrshift__',\n",
       " '__rshift__',\n",
       " '__rsub__',\n",
       " '__rtruediv__',\n",
       " '__rxor__',\n",
       " '__setattr__',\n",
       " '__sizeof__',\n",
       " '__str__',\n",
       " '__sub__',\n",
       " '__subclasshook__',\n",
       " '__truediv__',\n",
       " '__trunc__',\n",
       " '__xor__',\n",
       " 'as_integer_ratio',\n",
       " 'bit_length',\n",
       " 'conjugate',\n",
       " 'denominator',\n",
       " 'from_bytes',\n",
       " 'imag',\n",
       " 'numerator',\n",
       " 'real',\n",
       " 'to_bytes']"
      ]
     },
     "execution_count": 1,
     "metadata": {},
     "output_type": "execute_result"
    }
   ],
   "source": [
    "dir(int)"
   ]
  },
  {
   "cell_type": "markdown",
   "metadata": {},
   "source": [
    "List of all the attributes and methods defined in the **str** class."
   ]
  },
  {
   "cell_type": "code",
   "execution_count": 2,
   "metadata": {},
   "outputs": [
    {
     "data": {
      "text/plain": [
       "['__add__',\n",
       " '__class__',\n",
       " '__contains__',\n",
       " '__delattr__',\n",
       " '__dir__',\n",
       " '__doc__',\n",
       " '__eq__',\n",
       " '__format__',\n",
       " '__ge__',\n",
       " '__getattribute__',\n",
       " '__getitem__',\n",
       " '__getnewargs__',\n",
       " '__gt__',\n",
       " '__hash__',\n",
       " '__init__',\n",
       " '__init_subclass__',\n",
       " '__iter__',\n",
       " '__le__',\n",
       " '__len__',\n",
       " '__lt__',\n",
       " '__mod__',\n",
       " '__mul__',\n",
       " '__ne__',\n",
       " '__new__',\n",
       " '__reduce__',\n",
       " '__reduce_ex__',\n",
       " '__repr__',\n",
       " '__rmod__',\n",
       " '__rmul__',\n",
       " '__setattr__',\n",
       " '__sizeof__',\n",
       " '__str__',\n",
       " '__subclasshook__',\n",
       " 'capitalize',\n",
       " 'casefold',\n",
       " 'center',\n",
       " 'count',\n",
       " 'encode',\n",
       " 'endswith',\n",
       " 'expandtabs',\n",
       " 'find',\n",
       " 'format',\n",
       " 'format_map',\n",
       " 'index',\n",
       " 'isalnum',\n",
       " 'isalpha',\n",
       " 'isascii',\n",
       " 'isdecimal',\n",
       " 'isdigit',\n",
       " 'isidentifier',\n",
       " 'islower',\n",
       " 'isnumeric',\n",
       " 'isprintable',\n",
       " 'isspace',\n",
       " 'istitle',\n",
       " 'isupper',\n",
       " 'join',\n",
       " 'ljust',\n",
       " 'lower',\n",
       " 'lstrip',\n",
       " 'maketrans',\n",
       " 'partition',\n",
       " 'removeprefix',\n",
       " 'removesuffix',\n",
       " 'replace',\n",
       " 'rfind',\n",
       " 'rindex',\n",
       " 'rjust',\n",
       " 'rpartition',\n",
       " 'rsplit',\n",
       " 'rstrip',\n",
       " 'split',\n",
       " 'splitlines',\n",
       " 'startswith',\n",
       " 'strip',\n",
       " 'swapcase',\n",
       " 'title',\n",
       " 'translate',\n",
       " 'upper',\n",
       " 'zfill']"
      ]
     },
     "execution_count": 2,
     "metadata": {},
     "output_type": "execute_result"
    }
   ],
   "source": [
    "dir(str)"
   ]
  },
  {
   "cell_type": "markdown",
   "metadata": {},
   "source": [
    "Example: The **+** operator calls the **\\_\\_add\\_\\_()** method"
   ]
  },
  {
   "cell_type": "code",
   "execution_count": 3,
   "metadata": {},
   "outputs": [
    {
     "data": {
      "text/plain": [
       "15"
      ]
     },
     "execution_count": 3,
     "metadata": {},
     "output_type": "execute_result"
    }
   ],
   "source": [
    "num = 10\n",
    "num+5"
   ]
  },
  {
   "cell_type": "code",
   "execution_count": 4,
   "metadata": {},
   "outputs": [
    {
     "data": {
      "text/plain": [
       "15"
      ]
     },
     "execution_count": 4,
     "metadata": {},
     "output_type": "execute_result"
    }
   ],
   "source": [
    "num = 10\n",
    "num.__add__(5)"
   ]
  },
  {
   "cell_type": "markdown",
   "metadata": {},
   "source": [
    "## 2. Initiallization and Construction"
   ]
  },
  {
   "cell_type": "markdown",
   "metadata": {},
   "source": [
    "### The **\\_\\_new\\_\\_()** and **\\_\\_init\\_\\_()** methods.\n",
    "\n",
    "Languages such as Java and C# use the new operator to create a new instance of a class. In Python the **\\_\\_new\\_\\_()** magic method is implicitly called before the **\\_\\_new\\_\\_()** method. The **\\_\\_new\\_\\_()** method returns a new object, which is then initialized by **\\_\\_new\\_\\_()**."
   ]
  },
  {
   "cell_type": "code",
   "execution_count": 87,
   "metadata": {},
   "outputs": [],
   "source": [
    "class Employee:\n",
    "    def __new__(cls):\n",
    "        print (\"__new__ magic method is called\")\n",
    "        inst = object.__new__(cls)\n",
    "        return (inst)\n",
    "    def __init__(self):\n",
    "        print (\"__init__ magic method is called\")\n",
    "        self.name='Maria'"
   ]
  },
  {
   "cell_type": "code",
   "execution_count": 8,
   "metadata": {},
   "outputs": [
    {
     "name": "stdout",
     "output_type": "stream",
     "text": [
      "__new__ magic method is called\n",
      "__init__ magic method is called\n"
     ]
    }
   ],
   "source": [
    "emp = Employee()"
   ]
  },
  {
   "cell_type": "markdown",
   "metadata": {},
   "source": [
    "### The **\\_\\_str\\_\\_()** method.\n",
    "\n",
    "Another useful magic method is **\\_\\_str\\_\\_()**. It is overridden to return a printable string representation of any user defined class. We have seen str() built-in function which returns a string from the object parameter. For example, str(12) returns '12'. When invoked, it calls the **\\_\\_str\\_\\_()** method in the int class."
   ]
  },
  {
   "cell_type": "code",
   "execution_count": 47,
   "metadata": {},
   "outputs": [
    {
     "name": "stdout",
     "output_type": "stream",
     "text": [
      "12\n",
      "12\n"
     ]
    }
   ],
   "source": [
    "# type casting to string\n",
    "num=12\n",
    "str(num)  "
   ]
  },
  {
   "cell_type": "code",
   "execution_count": 48,
   "metadata": {},
   "outputs": [
    {
     "data": {
      "text/plain": [
       "'12'"
      ]
     },
     "execution_count": 48,
     "metadata": {},
     "output_type": "execute_result"
    }
   ],
   "source": [
    "# is equivalent to\n",
    "int.__str__(num)\n",
    "#print(type(int.__str__(num)))"
   ]
  },
  {
   "cell_type": "code",
   "execution_count": 51,
   "metadata": {},
   "outputs": [
    {
     "data": {
      "text/plain": [
       "'12'"
      ]
     },
     "execution_count": 51,
     "metadata": {},
     "output_type": "execute_result"
    }
   ],
   "source": [
    "#\n",
    "num.__str__()\n",
    "#print(type(num.__str__()))"
   ]
  },
  {
   "cell_type": "code",
   "execution_count": 88,
   "metadata": {},
   "outputs": [],
   "source": [
    "class Employee:\n",
    "    def __init__(self):\n",
    "        self.name='Nick'\n",
    "        self.salary=10000\n",
    "    def __str__(self):\n",
    "        return('name='+self.name+' salary=$'+str(self.salary))"
   ]
  },
  {
   "cell_type": "code",
   "execution_count": 44,
   "metadata": {},
   "outputs": [
    {
     "name": "stdout",
     "output_type": "stream",
     "text": [
      "<class 'str'>\n",
      "name=Swati salary=$10000\n"
     ]
    },
    {
     "data": {
      "text/plain": [
       "'name=Swati salary=$10000'"
      ]
     },
     "execution_count": 44,
     "metadata": {},
     "output_type": "execute_result"
    }
   ],
   "source": [
    "e1=Employee()\n",
    "print(type(e1.__str__()))\n",
    "print(e1)\n",
    "e1.__str__()"
   ]
  },
  {
   "cell_type": "code",
   "execution_count": 58,
   "metadata": {},
   "outputs": [
    {
     "data": {
      "text/plain": [
       "7"
      ]
     },
     "execution_count": 58,
     "metadata": {},
     "output_type": "execute_result"
    }
   ],
   "source": [
    "num=10\n",
    "num.__sub__(3)"
   ]
  },
  {
   "cell_type": "markdown",
   "metadata": {},
   "source": [
    "## 3. Operator Methods"
   ]
  },
  {
   "cell_type": "markdown",
   "metadata": {},
   "source": [
    "- The **\\_\\_add\\_\\_()** method oveloads the **+** operator. This method gets invoked when the **+** operator is used.\n",
    "- The **\\_\\_sub\\_\\_()** method oveloads the **-** operator. This method gets invoked when the **-** operator is used.\n",
    "- The **\\_\\_mul\\_\\_()** method oveloads the **&ast;** operator. This method gets invoked when the **&ast;** operator is used.\n",
    "- The **\\_\\_lt\\_\\_()** method oveloads the **<** operator. This method gets invoked when the **<** operator is used.\n",
    "- The **\\_\\_gt\\_\\_()** method oveloads the **>** operator. This method gets invoked when the **>** operator is used.\n",
    "- The **\\_\\_le\\_\\_()** method oveloads the **<=** operator. This method gets invoked when the **<=** operator is used.\n",
    "- The **\\_\\_ge\\_\\_()** method oveloads the **>=** operator. This method gets invoked when the **>=** operator is used.\n",
    "- The **\\_\\_eq\\_\\_()** method oveloads the **==** operator. This method gets invoked when the **==** operator is used.\n",
    "- The **\\_\\_ne\\_\\_()** method oveloads the **!=** operator. This method gets invoked when the **!=** operator is used."
   ]
  },
  {
   "cell_type": "markdown",
   "metadata": {},
   "source": [
    "### Example: Making my own ranking of class objects. \n",
    "\n",
    "sl.11\n",
    "\n",
    "Compare Students based on their id, such a way that smaller id gets higher ranking.\n",
    "<br/>So, I want student with id 1 to be greater than student with id 3"
   ]
  },
  {
   "cell_type": "code",
   "execution_count": 1,
   "metadata": {},
   "outputs": [],
   "source": [
    "class Student:\n",
    "    __id = 0\n",
    "    name = \"\"\n",
    "    studentCounter = 0\n",
    "\n",
    "    # Initialisation and Construction\n",
    "    def __new__(cls, newName):\n",
    "        Student.incrementID()   # increment static counter by 1 for every new instance of the class\n",
    "        inst = object.__new__(cls)\n",
    "        return (inst)\n",
    "    def __init__(self, newName):\n",
    "        self.name = newName\n",
    "        self.__id = Student.studentCounter\n",
    "\n",
    "    @staticmethod\n",
    "    def incrementID():\n",
    "        Student.studentCounter+=1 \n",
    "\n",
    "    # Operator Overloading\n",
    "    def __lt__(self, object2):\n",
    "        #return self.__id > object2.__id\n",
    "        comparison = self.__id > object2.__id\n",
    "        print('Ranking: ' + self.name + ' (' + str(self.__id) +') ' +' < ' + object2.name + ' (' + str(object2.__id) +') '+ ' is: ' + str(comparison))\n",
    "    def __gt__(self, object2):\n",
    "        #return self.__id < object2.__id\n",
    "        comparison = self.__id < object2.__id\n",
    "        print('Ranking: ' + self.name + ' (' + str(self.__id) +') ' +' > ' + object2.name + ' (' + str(object2.__id) +') '+ ' is: ' + str(comparison))\n",
    "    def __le__(self, object2):\n",
    "        #return self.__id >= object2.__id\n",
    "        comparison = self.__id >= object2.__id\n",
    "        print('Ranking: ' + self.name + ' (' + str(self.__id) +') ' +' <= ' + object2.name + ' (' + str(object2.__id) +') '+ ' is: ' + str(comparison))\n",
    "    def __ge__(self, object2):\n",
    "        #return self.__id <= object2.__id\n",
    "        comparison = self.__id <= object2.__id\n",
    "        print('Ranking: ' + self.name + ' (' + str(self.__id) +') ' +' >= ' + object2.name + ' (' + str(object2.__id) +') '+ ' is: ' + str(comparison))\n",
    "    def __eq__(self, object2):\n",
    "        #return self.__id == object2.__id\n",
    "        comparison = self.__id == object2.__id\n",
    "        print('Ranking: ' + self.name + ' (' + str(self.__id) +') ' +' == ' + object2.name + ' (' + str(object2.__id) +') '+ ' is: ' + str(comparison))\n",
    "    def __ne__(self, object2):\n",
    "        #return self.__id != object2.__id\n",
    "        comparison = self.__id != object2.__id\n",
    "        print('Ranking: ' + self.name + ' (' + str(self.__id) +') ' +' != ' + object2.name + ' (' + str(object2.__id) +') '+ ' is: ' + str(comparison))\n",
    "\n",
    "    # String representation\n",
    "    def __str__(self):\n",
    "        return \"ID: \" + str(self.__id) + \" Student Name: \" + self.name"
   ]
  },
  {
   "cell_type": "code",
   "execution_count": 2,
   "metadata": {},
   "outputs": [
    {
     "name": "stdout",
     "output_type": "stream",
     "text": [
      "ID: 1 Student Name: Kostas\n",
      "ID: 2 Student Name: Maria\n",
      "ID: 3 Student Name: Nick\n"
     ]
    }
   ],
   "source": [
    "a = Student(\"Kostas\")\n",
    "b = Student(\"Maria\")\n",
    "c = Student(\"Nick\")\n",
    "\n",
    "print(a)\n",
    "print(b)\n",
    "print(c)"
   ]
  },
  {
   "cell_type": "code",
   "execution_count": 3,
   "metadata": {},
   "outputs": [
    {
     "name": "stdout",
     "output_type": "stream",
     "text": [
      "Ranking: Kostas (1)  > Maria (2)  is: True\n",
      "Ranking: Maria (2)  > Nick (3)  is: True\n",
      "Ranking: Maria (2)  > Kostas (1)  is: False\n",
      "Ranking: Nick (3)  < Kostas (1)  is: True\n",
      "Ranking: Kostas (1)  < Nick (3)  is: False\n",
      "Ranking: Kostas (1)  == Kostas (1)  is: True\n",
      "Ranking: Kostas (1)  == Nick (3)  is: False\n",
      "Ranking: Maria (2)  != Maria (2)  is: False\n"
     ]
    }
   ],
   "source": [
    "# Check method overloading\n",
    "\n",
    "a>b # True\n",
    "b>c # True\n",
    "b>a # False\n",
    "c<a # True\n",
    "a<c # False\n",
    "a==a # True\n",
    "a==c # True\n",
    "b!=b # False"
   ]
  },
  {
   "cell_type": "markdown",
   "metadata": {},
   "source": [
    "## 4. Other Methods"
   ]
  },
  {
   "cell_type": "markdown",
   "metadata": {},
   "source": [
    "### a) **\\_\\_str\\_\\_()** vs. **\\_\\_repr\\_\\_()**"
   ]
  },
  {
   "cell_type": "markdown",
   "metadata": {},
   "source": [
    "**str()** and **repr()** both are used to get a string representation of object.\n",
    "\n",
    "- The **repr()** function returns a printable representational string of the given object.\n",
    "- **str()** is used for creating output for end user while **repr()** is mainly used for debugging and development. repr’s goal is to be unambiguous and str’s is to be readable.\n"
   ]
  },
  {
   "cell_type": "code",
   "execution_count": 4,
   "metadata": {},
   "outputs": [
    {
     "name": "stdout",
     "output_type": "stream",
     "text": [
      "Hello, World.\n",
      "'Hello, World.'\n"
     ]
    }
   ],
   "source": [
    "s = 'Hello, World.'\n",
    "print (str(s))\n",
    "print (repr(s))"
   ]
  },
  {
   "cell_type": "code",
   "execution_count": 5,
   "metadata": {},
   "outputs": [
    {
     "name": "stdout",
     "output_type": "stream",
     "text": [
      "Item\tUnit price\tQuantity\n",
      "Bun\t1\t2\n",
      "'Item\\tUnit price\\tQuantity\\nBun\\t1\\t2'\n"
     ]
    }
   ],
   "source": [
    "s = \"Item\\tUnit price\\tQuantity\\nBun\\t1\\t2\" \n",
    "\n",
    "print(str(s)) \n",
    "print(repr(s))"
   ]
  },
  {
   "cell_type": "code",
   "execution_count": 6,
   "metadata": {},
   "outputs": [
    {
     "name": "stdout",
     "output_type": "stream",
     "text": [
      "2022-05-13 12:53:49.158572\n",
      "datetime.datetime(2022, 5, 13, 12, 53, 49, 158572)\n"
     ]
    }
   ],
   "source": [
    "import datetime\n",
    "today = datetime.datetime.now()\n",
    "  \n",
    "# Prints readable format for date-time object\n",
    "print (str(today)) # call to __str__, the valuesof object is returned\n",
    "  \n",
    "# prints the official format of date-time object\n",
    "print (repr(today)) # call to __repr__  , an object is returned     "
   ]
  },
  {
   "cell_type": "markdown",
   "metadata": {},
   "source": [
    "sl.12"
   ]
  },
  {
   "cell_type": "code",
   "execution_count": 7,
   "metadata": {},
   "outputs": [
    {
     "name": "stdout",
     "output_type": "stream",
     "text": [
      "Represent_instance(a=1, b=2, c=3)\n"
     ]
    }
   ],
   "source": [
    "class Represent_instance:\n",
    "    def __init__(self, a, b, c):\n",
    "        self.a = a\n",
    "        self.b = b\n",
    "        self.c = c\n",
    "    def __repr__(self):\n",
    "        return f\"Represent_instance(a={self.a}, b={self.b}, c={self.c})\"\n",
    "repr_instance = Represent_instance(1, 2, 3)\n",
    "print(repr_instance)\n"
   ]
  },
  {
   "cell_type": "markdown",
   "metadata": {},
   "source": [
    "### b) **\\_\\_iter\\_\\_()** and **\\_\\_next\\_\\_()**\n",
    "\n",
    "sl.13"
   ]
  },
  {
   "cell_type": "code",
   "execution_count": 22,
   "metadata": {},
   "outputs": [],
   "source": [
    "class TeamMember:\n",
    "\n",
    "    # Initialisation and Construction\n",
    "    def __new__(cls, newName):\n",
    "        inst = object.__new__(cls)\n",
    "        return (inst)\n",
    "    def __init__(self, newName):\n",
    "        self.name = newName\n",
    "\n",
    "    # String representation\n",
    "    def __str__(self):\n",
    "        return \"Team member name: \" + self.name\n",
    "\n",
    "\n",
    "class Team:\n",
    "\n",
    "    # Initialisation and Construction\n",
    "    def __new__(cls, newMemberList):\n",
    "        inst = object.__new__(cls)\n",
    "        return (inst)\n",
    "    def __init__(self, newMemberList):\n",
    "        self.memberList = newMemberList\n",
    "        self._index = 0\n",
    "\n",
    "    '''\n",
    "    Make my Team object iterable\n",
    "    If I do not include these two functions, the next cell will fail.\n",
    "    '''\n",
    "    # Make my Team object iterable\n",
    "    # If I do\n",
    "    def __iter__ (self):\n",
    "        return self\n",
    "    def __next__ (self):\n",
    "        if (self._index < len(self.memberList)):\n",
    "            member=self.memberList[self._index]\n",
    "            self._index+=1\n",
    "            return member\n",
    "        else:\n",
    "            raise StopIteration()"
   ]
  },
  {
   "cell_type": "code",
   "execution_count": 23,
   "metadata": {},
   "outputs": [
    {
     "name": "stdout",
     "output_type": "stream",
     "text": [
      "Team member name: Kostas\n",
      "Team member name: Maria\n",
      "Team member name: Nick\n"
     ]
    }
   ],
   "source": [
    "tm1 = TeamMember(\"Kostas\")\n",
    "tm2 = TeamMember(\"Maria\")\n",
    "tm3 = TeamMember(\"Nick\")\n",
    "\n",
    "team = Team([tm1, tm2, tm3])\n",
    "for member in team:\n",
    "    print(member)"
   ]
  },
  {
   "cell_type": "code",
   "execution_count": null,
   "metadata": {},
   "outputs": [],
   "source": []
  }
 ],
 "metadata": {
  "interpreter": {
   "hash": "c347c8f9a7ef94e4c9e03b4513be7835ed18f45b99a2a817fb579f408b867b16"
  },
  "kernelspec": {
   "display_name": "Python 3.9.7 64-bit",
   "language": "python",
   "name": "python3"
  },
  "language_info": {
   "codemirror_mode": {
    "name": "ipython",
    "version": 3
   },
   "file_extension": ".py",
   "mimetype": "text/x-python",
   "name": "python",
   "nbconvert_exporter": "python",
   "pygments_lexer": "ipython3",
   "version": "3.9.7"
  },
  "orig_nbformat": 4
 },
 "nbformat": 4,
 "nbformat_minor": 2
}
