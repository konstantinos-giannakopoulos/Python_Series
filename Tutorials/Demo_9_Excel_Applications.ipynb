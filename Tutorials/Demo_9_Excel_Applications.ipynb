{
 "cells": [
  {
   "cell_type": "markdown",
   "metadata": {},
   "source": [
    ">#\n",
    "># Demo_9_Excel_Application\n",
    ">#\n",
    "> 1. Libraries for Excel\n",
    ">    - Install **pandas** \n",
    ">    - Install **openpyxl** fw\n",
    "> 2. Reading Excel files\n",
    ">    - Read excel file using pandas\n",
    ">    - Inspect data from excel file.\n",
    ">    - Calculate Statistics\n",
    ">    - Sorting\n",
    ">    - Filtering with **loc** and **iloc** \n",
    "> 3. Writing to Excel file\n",
    "> 4. Export Data from a Database to Excel\n",
    ">    - ETL using DataFrame"
   ]
  },
  {
   "cell_type": "markdown",
   "metadata": {},
   "source": [
    "## 1. Libraries for Excel"
   ]
  },
  {
   "cell_type": "markdown",
   "metadata": {},
   "source": [
    "### a) Install **pandas**"
   ]
  },
  {
   "cell_type": "code",
   "execution_count": 2,
   "metadata": {},
   "outputs": [
    {
     "name": "stdout",
     "output_type": "stream",
     "text": [
      "Package                Version\n",
      "---------------------- -------\n",
      "backcall               0.2.0\n",
      "colorama               0.4.4\n",
      "debugpy                1.5.1\n",
      "decorator              5.1.1\n",
      "entrypoints            0.4\n",
      "executing              0.8.3\n",
      "jupyter-core           4.9.2\n",
      "matplotlib-inline      0.1.3\n",
      "mysql                  0.0.3\n",
      "mysql-connector        2.2.9\n",
      "mysql-connector-python 8.0.22\n",
      "mysqlclient            2.1.0\n",
      "nest-asyncio           1.5.4\n",
      "parso                  0.8.3\n",
      "pickleshare            0.7.5\n",
      "pip                    22.0.4\n",
      "prompt-toolkit         3.0.28\n",
      "protobuf               3.19.4\n",
      "psutil                 5.9.0\n",
      "pure-eval              0.2.2\n",
      "Pygments               2.11.2\n",
      "pyparsing              3.0.8\n",
      "python-dateutil        2.8.2\n",
      "pywin32                303\n",
      "pyzmq                  22.3.0\n",
      "setuptools             60.10.0\n",
      "six                    1.16.0\n",
      "tornado                6.1\n",
      "traitlets              5.1.1\n",
      "wcwidth                0.2.5\n",
      "wheel                  0.37.1\n"
     ]
    }
   ],
   "source": [
    "!pip list"
   ]
  },
  {
   "cell_type": "code",
   "execution_count": 3,
   "metadata": {},
   "outputs": [
    {
     "name": "stdout",
     "output_type": "stream",
     "text": [
      "Requirement already satisfied: pandas in c:\\users\\konstantinos\\appdata\\local\\programs\\python\\python310\\lib\\site-packages (1.4.1)\n",
      "Requirement already satisfied: pytz>=2020.1 in c:\\users\\konstantinos\\appdata\\local\\programs\\python\\python310\\lib\\site-packages (from pandas) (2021.3)\n",
      "Requirement already satisfied: python-dateutil>=2.8.1 in c:\\users\\konstantinos\\appdata\\roaming\\python\\python310\\site-packages (from pandas) (2.8.2)\n",
      "Requirement already satisfied: numpy>=1.21.0 in c:\\users\\konstantinos\\appdata\\local\\programs\\python\\python310\\lib\\site-packages (from pandas) (1.22.3)\n",
      "Requirement already satisfied: six>=1.5 in c:\\users\\konstantinos\\appdata\\roaming\\python\\python310\\site-packages (from python-dateutil>=2.8.1->pandas) (1.16.0)\n",
      "Note: you may need to restart the kernel to use updated packages.\n"
     ]
    }
   ],
   "source": [
    "%pip install pandas"
   ]
  },
  {
   "cell_type": "markdown",
   "metadata": {},
   "source": [
    "### b) Install **openpyxl**"
   ]
  },
  {
   "cell_type": "code",
   "execution_count": 1,
   "metadata": {},
   "outputs": [
    {
     "name": "stdout",
     "output_type": "stream",
     "text": [
      "Requirement already satisfied: openpyxl in c:\\users\\konstantinos\\appdata\\local\\programs\\python\\python310\\lib\\site-packages (3.0.9)\n",
      "Requirement already satisfied: et-xmlfile in c:\\users\\konstantinos\\appdata\\local\\programs\\python\\python310\\lib\\site-packages (from openpyxl) (1.1.0)\n",
      "Note: you may need to restart the kernel to use updated packages.\n"
     ]
    }
   ],
   "source": [
    "%pip install openpyxl"
   ]
  },
  {
   "cell_type": "markdown",
   "metadata": {},
   "source": [
    "## 2. Reading Excel files"
   ]
  },
  {
   "cell_type": "markdown",
   "metadata": {},
   "source": [
    "### a) Read excel file using pandas"
   ]
  },
  {
   "cell_type": "code",
   "execution_count": 24,
   "metadata": {},
   "outputs": [
    {
     "name": "stdout",
     "output_type": "stream",
     "text": [
      "<class 'pandas.core.frame.DataFrame'>\n",
      "     Name Department       Title  Yoe  Wages\n",
      "0    Mike     Safety     Manager    5  15000\n",
      "1  Andrew  Operation  Supervisor    3   8000\n",
      "2    Jack     Safety  Supervisor    3   7000\n",
      "3   Gerry        D&E     Manager    8  15000\n",
      "4   David     Piping    Engineer    4   8300\n",
      "5    Nick        D&E    Engineer    5   6000\n",
      "6  Darren      Admin   Assistant    6   5000\n",
      "7    Adam     Safety  Supervisor    5   8500\n",
      "8   Jerry      Admin   Assistant    6   6500\n"
     ]
    }
   ],
   "source": [
    "import pandas as pd\n",
    "fileName='emp.xlsx'\n",
    "data=pd.read_excel(fileName)\n",
    "print(type(data))\n",
    "print(data)"
   ]
  },
  {
   "cell_type": "markdown",
   "metadata": {},
   "source": [
    "### b) Inspect data from excel file."
   ]
  },
  {
   "cell_type": "code",
   "execution_count": 6,
   "metadata": {},
   "outputs": [
    {
     "name": "stdout",
     "output_type": "stream",
     "text": [
      "     Name Department       Title  Yoe  Wages\n",
      "0    Mike     Safety     Manager    5  15000\n",
      "1  Andrew  Operation  Supervisor    3   8000\n",
      "2    Jack     Safety  Supervisor    3   7000\n",
      "3   Gerry        D&E     Manager    8  15000\n",
      "4   David     Piping    Engineer    4   8300\n"
     ]
    }
   ],
   "source": [
    "#first 5 rows\n",
    "print(data.head(5))"
   ]
  },
  {
   "cell_type": "code",
   "execution_count": 7,
   "metadata": {},
   "outputs": [
    {
     "name": "stdout",
     "output_type": "stream",
     "text": [
      "     Name Department       Title  Yoe  Wages\n",
      "4   David     Piping    Engineer    4   8300\n",
      "5    Nick        D&E    Engineer    5   6000\n",
      "6  Darren      Admin   Assistant    6   5000\n",
      "7    Adam     Safety  Supervisor    5   8500\n",
      "8   Jerry      Admin   Assistant    6   6500\n"
     ]
    }
   ],
   "source": [
    "#tail 5 rows\n",
    "print(data.tail(5))"
   ]
  },
  {
   "cell_type": "code",
   "execution_count": 8,
   "metadata": {},
   "outputs": [
    {
     "name": "stdout",
     "output_type": "stream",
     "text": [
      "     Name       Title\n",
      "0    Mike     Manager\n",
      "1  Andrew  Supervisor\n",
      "2    Jack  Supervisor\n",
      "3   Gerry     Manager\n",
      "4   David    Engineer\n",
      "5    Nick    Engineer\n",
      "6  Darren   Assistant\n",
      "7    Adam  Supervisor\n",
      "8   Jerry   Assistant\n"
     ]
    }
   ],
   "source": [
    "#retrieve only 2 columns\n",
    "data1=pd.DataFrame(data,columns=['Name', 'Title'])\n",
    "print(data1)"
   ]
  },
  {
   "cell_type": "markdown",
   "metadata": {},
   "source": [
    "### c) Calculate Statistics"
   ]
  },
  {
   "cell_type": "code",
   "execution_count": 3,
   "metadata": {},
   "outputs": [
    {
     "name": "stdout",
     "output_type": "stream",
     "text": [
      "Maximum Salary is  15000\n",
      "Mean Salary is  8811.111111111111\n",
      "No of employees:  9\n"
     ]
    }
   ],
   "source": [
    "#Application of stat\n",
    "max1=data['Wages'].max() #return max value of salary\n",
    "print('Maximum Salary is ',max1)\n",
    "mean1=data['Wages'].mean() #return mean value of salary\n",
    "print('Mean Salary is ',mean1)\n",
    "count1=data['Name'].count()\n",
    "print('No of employees: ', count1)"
   ]
  },
  {
   "cell_type": "markdown",
   "metadata": {},
   "source": [
    "### d) Sorting"
   ]
  },
  {
   "cell_type": "code",
   "execution_count": 4,
   "metadata": {},
   "outputs": [
    {
     "name": "stdout",
     "output_type": "stream",
     "text": [
      "     Name Department       Title  Yoe  Wages\n",
      "7    Adam     Safety  Supervisor    5   8500\n",
      "1  Andrew  Operation  Supervisor    3   8000\n",
      "6  Darren      Admin   Assistant    6   5000\n",
      "4   David     Piping    Engineer    4   8300\n",
      "3   Gerry        D&E     Manager    8  15000\n",
      "2    Jack     Safety  Supervisor    3   7000\n",
      "8   Jerry      Admin   Assistant    6   6500\n",
      "0    Mike     Safety     Manager    5  15000\n",
      "5    Nick        D&E    Engineer    5   6000\n"
     ]
    }
   ],
   "source": [
    "#sorting\n",
    "sorted1=data.sort_values(['Name'],ascending=True)\n",
    "print(sorted1)"
   ]
  },
  {
   "cell_type": "code",
   "execution_count": 5,
   "metadata": {},
   "outputs": [
    {
     "name": "stdout",
     "output_type": "stream",
     "text": [
      "  Name Department      Title  Yoe  Wages\n",
      "  Adam     Safety Supervisor    5   8500\n",
      "Andrew  Operation Supervisor    3   8000\n",
      "Darren      Admin  Assistant    6   5000\n",
      " David     Piping   Engineer    4   8300\n",
      " Gerry        D&E    Manager    8  15000\n",
      "  Jack     Safety Supervisor    3   7000\n",
      " Jerry      Admin  Assistant    6   6500\n",
      "  Mike     Safety    Manager    5  15000\n",
      "  Nick        D&E   Engineer    5   6000\n"
     ]
    }
   ],
   "source": [
    "#to eliminate index column\n",
    "print(sorted1.to_string(index=False))"
   ]
  },
  {
   "cell_type": "markdown",
   "metadata": {},
   "source": [
    "### e) Filtering with **loc** and **iloc**"
   ]
  },
  {
   "cell_type": "code",
   "execution_count": 6,
   "metadata": {},
   "outputs": [
    {
     "name": "stdout",
     "output_type": "stream",
     "text": [
      "    Name Department    Title  Yoe  Wages\n",
      "0   Mike     Safety  Manager    5  15000\n",
      "3  Gerry        D&E  Manager    8  15000\n",
      "     Name Department\n",
      "0    Mike     Safety\n",
      "1  Andrew  Operation\n",
      "3   Gerry        D&E\n",
      "4   David     Piping\n",
      "7    Adam     Safety\n",
      "     Name Department       Title  Yoe  Wages\n",
      "0    Mike     Safety     Manager    5  15000\n",
      "1  Andrew  Operation  Supervisor    3   8000\n",
      "2    Jack     Safety  Supervisor    3   7000\n",
      "3   Gerry        D&E     Manager    8  16000\n",
      "4   David     Piping    Engineer    4   8300\n",
      "5    Nick        D&E    Engineer    5   6000\n",
      "6  Darren      Admin   Assistant    6   5000\n",
      "7    Adam     Safety  Supervisor    5   8500\n",
      "8   Jerry      Admin   Assistant    6   6500\n",
      "     Name Department       Title  Yoe  Wages\n",
      "0    Mike     Safety     Manager    5  15000\n",
      "1  Andrew  Operation  Supervisor    3   8000\n",
      "2    Jack     Safety  Supervisor    3   7000\n",
      "3   Gerry        D&E        Head    8  16000\n",
      "4   David     Piping    Engineer    4   8300\n",
      "5    Nick        D&E    Engineer    5   6000\n",
      "6  Darren      Admin   Assistant    6   5000\n",
      "7    Adam     Safety  Supervisor    5   8500\n",
      "8   Jerry      Admin   Assistant    6   6500\n"
     ]
    }
   ],
   "source": [
    "#filter with loc and iloc, slicing with loc and iloc\n",
    "#loc and iloc \n",
    "#loc ---> label - based -- specify the names of columns to filter\n",
    "#iloc - -> index-based -- specify the index of rows and column to filter out\n",
    "\n",
    "#Scenario 1: fetch employees with YOE>3 and Title=Manager\n",
    "print(data.loc[(data.Yoe>3) & (data.Title=='Manager')])\n",
    "\n",
    "#scenario 2: fetch employees name, department where wages>7000\n",
    "print(data.loc[(data.Wages>7000),['Name','Department']])\n",
    "\n",
    "#Scenario3: Update employees wages to 16000 if yoe>7\n",
    "data.loc[(data.Yoe>7),['Wages']]=16000\n",
    "print(data)\n",
    "\n",
    "#Scenario 4: if yoe =8, update Title to Head\n",
    "data.loc[(data.Yoe==8),['Title']]='Head'\n",
    "print(data)"
   ]
  },
  {
   "cell_type": "code",
   "execution_count": 7,
   "metadata": {},
   "outputs": [
    {
     "name": "stdout",
     "output_type": "stream",
     "text": [
      "     Name Department       Title  Yoe  Wages\n",
      "0    Mike     Safety     Manager    5  15000\n",
      "1  Andrew  Operation  Supervisor    3   8000\n",
      "2    Jack     Safety  Supervisor    3   7000\n",
      "3   Gerry        D&E        Head    8  16000\n",
      "4   David     Piping    Engineer    4   8300\n",
      "5    Nick        D&E    Engineer    5   6000\n",
      "6  Darren      Admin  Supervisor    6   7000\n",
      "7    Adam     Safety  Supervisor    5   8500\n",
      "8   Jerry      Admin  Supervisor    6   7000\n"
     ]
    }
   ],
   "source": [
    "#print(data)\n",
    "#Scenario 5: Update Title to Supervisor and wages to 7000 if title is Assistant\n",
    "data.loc[(data.Title=='Assistant'),['Title','Wages']]=['Supervisor',7000]\n",
    "print(data)"
   ]
  },
  {
   "cell_type": "markdown",
   "metadata": {},
   "source": [
    "### Slicing with loc"
   ]
  },
  {
   "cell_type": "code",
   "execution_count": 8,
   "metadata": {},
   "outputs": [
    {
     "name": "stdout",
     "output_type": "stream",
     "text": [
      "     Name Department       Title  Yoe  Wages\n",
      "2    Jack     Safety  Supervisor    3   7000\n",
      "3   Gerry        D&E        Head    8  16000\n",
      "4   David     Piping    Engineer    4   8300\n",
      "5    Nick        D&E    Engineer    5   6000\n",
      "6  Darren      Admin  Supervisor    6   7000\n"
     ]
    }
   ],
   "source": [
    "#slicing with loc\n",
    "#extract 2 to 6 rows\n",
    "print(data.loc[2:6])"
   ]
  },
  {
   "cell_type": "markdown",
   "metadata": {},
   "source": [
    "### Using iloc[]"
   ]
  },
  {
   "cell_type": "code",
   "execution_count": 9,
   "metadata": {},
   "outputs": [
    {
     "name": "stdout",
     "output_type": "stream",
     "text": [
      "        Title\n",
      "2  Supervisor\n",
      "6  Supervisor\n",
      "     Name Department       Title  Yoe  Wages\n",
      "2    Jack     Safety  Supervisor    3   7000\n",
      "6  Darren      Admin  Supervisor    6   7000\n",
      "    Name Department       Title  Yoe  Wages\n",
      "2   Jack     Safety  Supervisor    3   7000\n",
      "3  Gerry        D&E        Head    8  16000\n",
      "4  David     Piping    Engineer    4   8300\n",
      "5   Nick        D&E    Engineer    5   6000\n",
      "Name              Andrew\n",
      "Department     Operation\n",
      "Title         Supervisor\n",
      "Yoe                    3\n",
      "Wages               8000\n",
      "Name: 1, dtype: object\n"
     ]
    }
   ],
   "source": [
    "#iloc\n",
    "#extract 2 & 6 rows and only column with index 2\n",
    "print(data.iloc[[2,6],[2]])\n",
    "#extract rows from 2 & 6\n",
    "print(data.iloc[[2,6]])\n",
    "#extract rows from 2 to 6 ---> slicing\n",
    "print(data.iloc[2:6])\n",
    "#extract 1st row only\n",
    "print(data.iloc[1])"
   ]
  },
  {
   "cell_type": "code",
   "execution_count": 10,
   "metadata": {},
   "outputs": [
    {
     "name": "stdout",
     "output_type": "stream",
     "text": [
      "        Title  Wages\n",
      "2  Supervisor   7000\n",
      "6  Supervisor   7000\n"
     ]
    }
   ],
   "source": [
    "#extract 2 to 6 and column 2 to 4\n",
    "print(data.iloc[[2,6],[2,4]])"
   ]
  },
  {
   "cell_type": "code",
   "execution_count": 11,
   "metadata": {},
   "outputs": [
    {
     "name": "stdout",
     "output_type": "stream",
     "text": [
      "        Title  Yoe  Wages\n",
      "2  Supervisor    3   7000\n",
      "3        Head    8  16000\n",
      "4    Engineer    4   8300\n",
      "5    Engineer    5   6000\n"
     ]
    }
   ],
   "source": [
    "#print(data.loc[[2:6],['Name','Department'])])\n",
    "print(data.iloc[2:6,2:5])"
   ]
  },
  {
   "cell_type": "code",
   "execution_count": 12,
   "metadata": {},
   "outputs": [
    {
     "name": "stdout",
     "output_type": "stream",
     "text": [
      "     Name       Title\n",
      "2    Jack  Supervisor\n",
      "6  Darren  Supervisor\n"
     ]
    }
   ],
   "source": [
    "#extract 2 & 6 rows and columns: Name and Title -- task to discuss after lunch\n",
    "print(data.iloc[[2,6],[0,2]])"
   ]
  },
  {
   "cell_type": "code",
   "execution_count": 13,
   "metadata": {},
   "outputs": [
    {
     "name": "stdout",
     "output_type": "stream",
     "text": [
      "    Name       Title\n",
      "2   Jack  Supervisor\n",
      "3  Gerry        Head\n",
      "4  David    Engineer\n",
      "5   Nick    Engineer\n"
     ]
    }
   ],
   "source": [
    "#extract 2 to 6 rows columns: Name and Title -- task to discuss after lunch\n",
    "print(data.iloc[2:6,[0,2]])"
   ]
  },
  {
   "cell_type": "code",
   "execution_count": 14,
   "metadata": {},
   "outputs": [
    {
     "name": "stdout",
     "output_type": "stream",
     "text": [
      "        Title\n",
      "2  Supervisor\n",
      "3        Head\n",
      "4    Engineer\n",
      "5    Engineer\n"
     ]
    }
   ],
   "source": [
    "print(data.iloc[2:6,2:3])"
   ]
  },
  {
   "cell_type": "markdown",
   "metadata": {},
   "source": [
    "### DataFrame"
   ]
  },
  {
   "cell_type": "code",
   "execution_count": 15,
   "metadata": {},
   "outputs": [
    {
     "name": "stdout",
     "output_type": "stream",
     "text": [
      "(9, 5)\n",
      "            Yoe        Wages\n",
      "count  9.000000      9.00000\n",
      "mean   5.000000   9200.00000\n",
      "std    1.581139   3663.67302\n",
      "min    3.000000   6000.00000\n",
      "25%    4.000000   7000.00000\n",
      "50%    5.000000   8000.00000\n",
      "75%    6.000000   8500.00000\n",
      "max    8.000000  16000.00000\n"
     ]
    }
   ],
   "source": [
    "#Information on DataFRame\n",
    "#print(data.info()) # return index, datatype, memory info\n",
    "print(data.shape) # return no. of rows & column\n",
    "print(data.describe()) # return stat info of dataframe"
   ]
  },
  {
   "cell_type": "markdown",
   "metadata": {},
   "source": [
    "### Convert Dictionary to Dataframe"
   ]
  },
  {
   "cell_type": "code",
   "execution_count": 16,
   "metadata": {},
   "outputs": [
    {
     "name": "stdout",
     "output_type": "stream",
     "text": [
      "  firstname    lastname\n",
      "0    George        Bush\n",
      "1      Bill     Clinton\n",
      "2     Jimmy      Carter\n",
      "3    George  Washington\n",
      "4    Ronald      Reagan\n"
     ]
    }
   ],
   "source": [
    "#convert a dict to Dataframe\n",
    "dict1={'firstname':['George','Bill','Jimmy','George','Ronald'],\n",
    "            'lastname':['Bush','Clinton', 'Carter','Washington','Reagan']}\n",
    "df2=pd.DataFrame(dict1)\n",
    "print(df2)"
   ]
  },
  {
   "cell_type": "code",
   "execution_count": 17,
   "metadata": {},
   "outputs": [
    {
     "name": "stdout",
     "output_type": "stream",
     "text": [
      "           lastname\n",
      "firstname          \n",
      "Bill              1\n",
      "George            2\n",
      "Jimmy             1\n",
      "Ronald            1\n"
     ]
    }
   ],
   "source": [
    "group_data=df2.groupby(df2.firstname).count()\n",
    "print(group_data)"
   ]
  },
  {
   "cell_type": "code",
   "execution_count": 18,
   "metadata": {},
   "outputs": [
    {
     "name": "stdout",
     "output_type": "stream",
     "text": [
      "  firstname    lastname\n",
      "0    George        Bush\n",
      "3    George  Washington\n"
     ]
    }
   ],
   "source": [
    "group_data=df2.groupby(df2.firstname)\n",
    "\n",
    "#extract only George's to a new dataframe\n",
    "#Method 1\n",
    "newgroup=group_data.get_group('George')\n",
    "print(newgroup)"
   ]
  },
  {
   "cell_type": "code",
   "execution_count": 19,
   "metadata": {},
   "outputs": [
    {
     "name": "stdout",
     "output_type": "stream",
     "text": [
      "  firstname    lastname\n",
      "0    George        Bush\n",
      "3    George  Washington\n"
     ]
    }
   ],
   "source": [
    "#Method2\n",
    "df3=df2.loc[(df2.firstname=='George')]\n",
    "print(df3)"
   ]
  },
  {
   "cell_type": "markdown",
   "metadata": {},
   "source": [
    "## 3. Writing to Excel file"
   ]
  },
  {
   "cell_type": "markdown",
   "metadata": {},
   "source": [
    "Writing to excel from Dataframe"
   ]
  },
  {
   "cell_type": "code",
   "execution_count": 21,
   "metadata": {},
   "outputs": [],
   "source": [
    "#writing to excel from dataframe\n",
    "df3.to_excel(\"presidents.xlsx\",sheet_name='USA',index=False) # apt for python 3.9 and above"
   ]
  },
  {
   "cell_type": "markdown",
   "metadata": {},
   "source": [
    "## 4. Export Data from a Database to Excel"
   ]
  },
  {
   "cell_type": "markdown",
   "metadata": {},
   "source": [
    "ETL using DataFrame\n",
    "\n",
    "1. Reading from excel\n",
    "2. Writing to excel\n",
    "3. Writing to SQL"
   ]
  },
  {
   "cell_type": "markdown",
   "metadata": {},
   "source": [
    "### DataFrame to SQLite3"
   ]
  },
  {
   "cell_type": "code",
   "execution_count": 22,
   "metadata": {},
   "outputs": [
    {
     "name": "stdout",
     "output_type": "stream",
     "text": [
      "Error while creating table:  table usa already exists\n",
      "--------------- Database closed ---------------\n"
     ]
    }
   ],
   "source": [
    "#dataframe to sqlite3\n",
    "import sqlite3 as sq\n",
    "try:\n",
    "    con=sq.connect('presidents.db')\n",
    "    cur=con.cursor()\n",
    "    create_table=\"CREATE TABLE usa(firstname TEXT NOT NULL,lastname TEXT NOT NULL);\"\n",
    "    cur.execute(create_table)\n",
    "    con.commit()\n",
    "    #print(df3)\n",
    "    #push data from dataframe to table usa\n",
    "    df3.to_sql(name='usa',con=con,if_exists='replace',index=False)\n",
    "except sq.Error as error:\n",
    "    print(\"Error while creating table: \",error)\n",
    "finally:\n",
    "    cur.close()\n",
    "    con.close()\n",
    "    print('-'*15 ,'Database closed', '-'*15)"
   ]
  },
  {
   "cell_type": "markdown",
   "metadata": {},
   "source": [
    "\n",
    "### DataFrame -> SQL -> DataFrame -> csv/excel\n",
    "\n",
    "Fetching records"
   ]
  },
  {
   "cell_type": "code",
   "execution_count": 23,
   "metadata": {},
   "outputs": [
    {
     "name": "stdout",
     "output_type": "stream",
     "text": [
      "('George', 'Bush')\n",
      "('George', 'Washington')\n",
      "  firstname    lastname\n",
      "0    George        Bush\n",
      "1    George  Washington\n",
      "--------------- Database closed ---------------\n"
     ]
    }
   ],
   "source": [
    "#from dataframe-> sql -> dataframe ->csv/excel\n",
    "#fertching records \n",
    "import sqlite3 as sq\n",
    "try:\n",
    "  #connecting to database\n",
    "  connection=sq.connect(\"presidents.db\")# connection is the handler to your db\n",
    "    #connecting to cursor / resord set\n",
    "  cur=connection.cursor() #cur is the cursorobject which you can bind to any tables within your database\n",
    "  #executing SQL query\n",
    "  cur.execute('select * from usa')\n",
    "  r=cur.fetchall()\n",
    "  for i in r:\n",
    "    print(i)\n",
    "\n",
    "# fetching the records from database to dataframe\n",
    "  import pandas as pd\n",
    "  results=pd.read_sql_query('select * from usa', connection)\n",
    "  print(results)\n",
    "  # writing dataframe to csv\n",
    "  results.to_csv('presidents.csv',index=False)\n",
    "except sq.Error as error:\n",
    "    print(\"Error while fetching: \",error)\n",
    "finally:\n",
    "    cur.close()\n",
    "    con.close()\n",
    "    print('-'*15 ,'Database closed', '-'*15)"
   ]
  },
  {
   "cell_type": "code",
   "execution_count": null,
   "metadata": {},
   "outputs": [],
   "source": []
  }
 ],
 "metadata": {
  "interpreter": {
   "hash": "8cb2474c42576a3606c9634037c9ef0ac64d9294c9ef3038e6307653057325e9"
  },
  "kernelspec": {
   "display_name": "Python 3.10.2 64-bit",
   "language": "python",
   "name": "python3"
  },
  "language_info": {
   "codemirror_mode": {
    "name": "ipython",
    "version": 3
   },
   "file_extension": ".py",
   "mimetype": "text/x-python",
   "name": "python",
   "nbconvert_exporter": "python",
   "pygments_lexer": "ipython3",
   "version": "3.9.7"
  },
  "orig_nbformat": 4
 },
 "nbformat": 4,
 "nbformat_minor": 2
}
