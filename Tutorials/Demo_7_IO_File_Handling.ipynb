{
 "cells": [
  {
   "cell_type": "markdown",
   "metadata": {},
   "source": [
    ">#\n",
    "># Demo_7_IO_File_Handling\n",
    ">#\n",
    ">1. Printing to the Screen\n",
    ">2. Reading Keyboard Input\n",
    ">3. Opening and Closing Files\n",
    ">    - open()\n",
    ">    - The file Object Attributes.\n",
    ">    - close()\n",
    ">4. Reading and Writing Files\n",
    ">    - write()\n",
    ">    - read()\n",
    ">    - File Positions\n",
    ">    - Renaming and Deleting Files\n",
    ">       - rename(), remove()\n",
    ">    - Directories in Python\n",
    ">       - mkdir(), chdir(), getcwd(), rmdir(), listdir()\n",
    ">5. More Examples\n",
    ">    - Modes of File Handling\n",
    ">       - read (r), write (w), readwrite(rw+)\n",
    ">    - File Handling Functions\n",
    ">       - CRUD Operations (Create, Read, Update, Delete) \n",
    ">           - Read a file\n",
    ">           - Overwrite a file\n",
    ">           - Append to a file\n",
    ">\n",
    ">Reference: https://www.tutorialspoint.com/python3/python_files_io.htm"
   ]
  },
  {
   "cell_type": "markdown",
   "metadata": {},
   "source": [
    "## 1. Printing to the Screen\n",
    "\n",
    "The simplest way to produce output is using the print statement where you can pass zero or more expressions separated by commas. This function converts the expressions you pass into a string and writes the result to standard output."
   ]
  },
  {
   "cell_type": "code",
   "execution_count": 7,
   "metadata": {},
   "outputs": [
    {
     "name": "stdout",
     "output_type": "stream",
     "text": [
      "Printing to the screen with Python\n"
     ]
    }
   ],
   "source": [
    "print (\"Printing to the screen with Python\")"
   ]
  },
  {
   "cell_type": "markdown",
   "metadata": {},
   "source": [
    "## 2. Reading Keyboard Input\n",
    "Python provides one built-in function to read a line of text from standard input, which by default comes from the keyboard. This is:\n",
    "- *input()*"
   ]
  },
  {
   "cell_type": "markdown",
   "metadata": {},
   "source": [
    "### The input() Function\n",
    "The input([prompt]) function reads one line from standard input and returns it as a string."
   ]
  },
  {
   "cell_type": "code",
   "execution_count": 6,
   "metadata": {},
   "outputs": [
    {
     "name": "stdout",
     "output_type": "stream",
     "text": [
      "Received input is :  34  and the type is:  <class 'str'>\n"
     ]
    }
   ],
   "source": [
    "str = input(\"Enter your input: \")\n",
    "print(\"Received input is : \", str, \" and the object type is: \", type(str))   # <-- string datatype."
   ]
  },
  {
   "cell_type": "markdown",
   "metadata": {},
   "source": [
    "## 3. Opening and Closing Files\n",
    "Python provides basic functions and methods necessary to manipulate files by default. You can do most of the file manipulation using **a file object**.\n",
    "\n",
    "- The *open()* function\n",
    "- The **file** Object attributes\n",
    "- The *close()* method"
   ]
  },
  {
   "cell_type": "markdown",
   "metadata": {},
   "source": [
    "### 3a) The *open()* function.\n",
    "\n",
    "Before you can read or write a file, you have to open it using Python's built-in open() function. This function creates a file object, which would be utilized to call other support methods associated with it.\n",
    "\n",
    "Syntax\n",
    "<br />\n",
    "*file object = open(file_name [, access_mode][, buffering])*"
   ]
  },
  {
   "cell_type": "markdown",
   "metadata": {},
   "source": [
    "### 3b) The file Object Attributes.\n",
    "\n",
    "Once a file is opened and you have one file object, you can get various information related to that file.\n",
    "\n",
    "Here is a list of all attributes related to file object:\n",
    "- file.closed\n",
    "- file.mode\n",
    "- file.name"
   ]
  },
  {
   "cell_type": "code",
   "execution_count": 22,
   "metadata": {},
   "outputs": [
    {
     "name": "stdout",
     "output_type": "stream",
     "text": [
      "Name of the file:  demo.txt\n",
      "Closed or not :  False\n",
      "Opening mode :  wb\n"
     ]
    }
   ],
   "source": [
    "# Open a file\n",
    "fo = open(\"demo.txt\", \"wb\")\n",
    "print (\"Name of the file: \", fo.name)\n",
    "print (\"Closed or not : \", fo.closed)\n",
    "print (\"Opening mode : \", fo.mode)"
   ]
  },
  {
   "cell_type": "markdown",
   "metadata": {},
   "source": [
    "### The *close()* method\n",
    "The close() method of a file object flushes any unwritten information and closes the file object, after which no more writing can be done.\n",
    "\n",
    "Python automatically closes a file when the reference object of a file is reassigned to another file. It is a good practice to use the close() method to close a file."
   ]
  },
  {
   "cell_type": "code",
   "execution_count": 25,
   "metadata": {},
   "outputs": [
    {
     "name": "stdout",
     "output_type": "stream",
     "text": [
      "Previously opened file:  demo.txt\n"
     ]
    }
   ],
   "source": [
    "# Close the previously opened file\n",
    "print(\"Previously opened file: \", fo.name)\n",
    "fo.close()"
   ]
  },
  {
   "cell_type": "markdown",
   "metadata": {},
   "source": [
    "## 4. Reading and Writing Files\n",
    "\n",
    "The file object provides a set of access methods to read and write files.\n",
    "- read() method \n",
    "- write() method"
   ]
  },
  {
   "cell_type": "markdown",
   "metadata": {},
   "source": [
    "### 4a) The *write()* Method\n",
    "The write() method writes any string to an open file. \n",
    "<br />The write() method does not add a newline character ('\\n') to the end of the string.\n",
    "\n",
    "Syntax\n",
    "<br />\n",
    "fileObject.write(string)"
   ]
  },
  {
   "cell_type": "code",
   "execution_count": null,
   "metadata": {},
   "outputs": [],
   "source": [
    "# Open a file\n",
    "fo = open(\"demo.txt\", \"w\")\n",
    "fo.write(\"This is the first line in the file.\\nThis is the second line in the file.\\n\")\n",
    "\n",
    "# Close opend file\n",
    "fo.close()"
   ]
  },
  {
   "cell_type": "markdown",
   "metadata": {},
   "source": [
    "### 4b) The *read()* Method.\n",
    "\n",
    "The read() method reads a string from an open file.\n",
    "\n",
    "Syntax\n",
    "<br />\n",
    "fileObject.read([count])\n",
    "\n",
    "Here, passed parameter is the number of bytes to be read from the opened file. This method starts reading from the beginning of the file and if count is missing, then it tries to read as much as possible, maybe until the end of file."
   ]
  },
  {
   "cell_type": "code",
   "execution_count": 29,
   "metadata": {},
   "outputs": [
    {
     "name": "stdout",
     "output_type": "stream",
     "text": [
      "Read String is :  This is th\n"
     ]
    }
   ],
   "source": [
    "# Open a file\n",
    "fo = open(\"demo.txt\", \"r+\")\n",
    "str = fo.read(10);\n",
    "print (\"Read String is : \", str)\n",
    "# Close opend file\n",
    "fo.close()"
   ]
  },
  {
   "cell_type": "markdown",
   "metadata": {},
   "source": [
    "### 4c) File Positions\n",
    "\n",
    "The tell() method tells you the current position within the file; in other words, the next read or write will occur at that many bytes from the beginning of the file.\n",
    "\n",
    "The *seek(offset[, from])* method changes the current file position. The offset argument indicates the number of bytes to be moved. The from argument specifies the reference position from where the bytes are to be moved.\n",
    "- If from is set to 0, the beginning of the file is used as the reference position. \n",
    "- If it is set to 1, the current position is used as the reference position. \n",
    "- If it is set to 2 then the end of the file would be taken as the reference position."
   ]
  },
  {
   "cell_type": "code",
   "execution_count": 52,
   "metadata": {},
   "outputs": [
    {
     "name": "stdout",
     "output_type": "stream",
     "text": [
      "Read String is :  This is the first line in the file.\n",
      "This is the se\n",
      "Current file position :  51\n",
      "Again read String is :  the second line in t\n"
     ]
    }
   ],
   "source": [
    "# Open a file\n",
    "fo = open(\"demo.txt\", \"r+\")\n",
    "str = fo.read(50)\n",
    "print (\"Read String is : \", str)\n",
    "\n",
    "# Check current position\n",
    "position = fo.tell()\n",
    "print (\"Current file position : \", position)\n",
    "\n",
    "# Reposition pointer at the beginning once again\n",
    "position = fo.seek(45, 0)\n",
    "str = fo.read(20)\n",
    "print (\"Now read String is : \", str)\n",
    "\n",
    "# Close opened file\n",
    "fo.close()"
   ]
  },
  {
   "cell_type": "markdown",
   "metadata": {},
   "source": [
    "### 4d) Renaming and Deleting Files\n",
    "Python os module provides methods that help you perform file-processing operations, such as renaming and deleting files.\n",
    "\n",
    "To use this module, you need to import it first and then you can call any related functions.\n",
    "\n",
    "The **rename()** Method\n",
    "<br />\n",
    "Takes two arguments, the current filename and the new filename.\n",
    "\n",
    "Syntax\n",
    "<br />\n",
    "os.rename(current_file_name, new_file_name)"
   ]
  },
  {
   "cell_type": "code",
   "execution_count": 53,
   "metadata": {},
   "outputs": [],
   "source": [
    "import os\n",
    "\n",
    "# Rename a file from test1.txt to test2.txt\n",
    "os.rename( \"demo.txt\", \"demo1.txt\" )"
   ]
  },
  {
   "cell_type": "markdown",
   "metadata": {},
   "source": [
    "The **remove()** Method\n",
    "<br />\n",
    "You can use to delete files by supplying the name of the file to be deleted as the argument.\n",
    "\n",
    "Syntax\n",
    "<br />\n",
    "os.remove(file_name)"
   ]
  },
  {
   "cell_type": "code",
   "execution_count": 55,
   "metadata": {},
   "outputs": [],
   "source": [
    "import os\n",
    "\n",
    "# Delete file test2.txt\n",
    "os.remove(\"demo1.txt\")"
   ]
  },
  {
   "cell_type": "markdown",
   "metadata": {},
   "source": [
    "### 4e) Directories in Python\n",
    "\n",
    "All files are contained within various directories, and Python has no problem handling these too. The os module has several methods that help you create, remove, and change directories."
   ]
  },
  {
   "cell_type": "markdown",
   "metadata": {},
   "source": [
    "The **mkdir()** Method\n",
    "<br />\n",
    "You can use the mkdir() method of the os module to create directories in the current directory. You need to supply an argument to this method, which contains the name of the directory to be created.\n",
    "\n",
    "Syntax\n",
    "<br />\n",
    "os.mkdir(\"newdir\")"
   ]
  },
  {
   "cell_type": "code",
   "execution_count": 74,
   "metadata": {},
   "outputs": [],
   "source": [
    "#!/usr/bin/python3\n",
    "import os\n",
    "\n",
    "# Create a directory \"test\"\n",
    "os.mkdir(\"test\")"
   ]
  },
  {
   "cell_type": "markdown",
   "metadata": {},
   "source": [
    "The **getcwd()** Method\n",
    "<br />\n",
    "The getcwd() method displays the current working directory.\n",
    "\n",
    "Syntax\n",
    "<br />\n",
    "os.getcwd()"
   ]
  },
  {
   "cell_type": "code",
   "execution_count": 75,
   "metadata": {},
   "outputs": [
    {
     "data": {
      "text/plain": [
       "'c:\\\\Users\\\\Konstantinos.Giannak\\\\OneDrive - FDM Group\\\\Courses\\\\My_Version\\\\Data_Engineering\\\\Software_Development\\\\Python_APAC\\\\Python_1_week_TechOps_Batch\\\\Day_2_Tuesday'"
      ]
     },
     "execution_count": 75,
     "metadata": {},
     "output_type": "execute_result"
    }
   ],
   "source": [
    "import os\n",
    "\n",
    "# This would give location of the current directory\n",
    "os.getcwd()"
   ]
  },
  {
   "cell_type": "markdown",
   "metadata": {},
   "source": [
    "The **chdir()** Method\n",
    "<br />\n",
    "You can use the chdir() method to change the current directory. The chdir() method takes an argument, which is the name of the directory that you want to make the current directory.\n",
    "\n",
    "Syntax\n",
    "<br />\n",
    "os.chdir(\"newdir\")"
   ]
  },
  {
   "cell_type": "code",
   "execution_count": 71,
   "metadata": {},
   "outputs": [
    {
     "name": "stdout",
     "output_type": "stream",
     "text": [
      "c:\\Users\\Konstantinos.Giannak\\OneDrive - FDM Group\\Courses\\My_Version\\Data_Engineering\\Software_Development\\Python_APAC\\Python_1_week_TechOps_Batch\\Day_2_Tuesday\\test\n",
      "c:\\Users\\Konstantinos.Giannak\\OneDrive - FDM Group\\Courses\\My_Version\\Data_Engineering\\Software_Development\\Python_APAC\\Python_1_week_TechOps_Batch\\Day_2_Tuesday\n"
     ]
    }
   ],
   "source": [
    "import os\n",
    "\n",
    "# Changing a directory to \"test\".\n",
    "os.chdir(\"test\")\n",
    "print(os.getcwd())\n",
    "# Returning to the previous directory.\n",
    "os.chdir(\"../\")\n",
    "print(os.getcwd())"
   ]
  },
  {
   "cell_type": "markdown",
   "metadata": {},
   "source": [
    "The **rmdir()** Method\n",
    "<br />\n",
    "The rmdir() method deletes the directory, which is passed as an argument in the method.\n",
    "\n",
    "Before removing a directory, all the contents in it should be removed.\n",
    "\n",
    "Syntax\n",
    "<br />\n",
    "os.rmdir('dirname')"
   ]
  },
  {
   "cell_type": "code",
   "execution_count": 72,
   "metadata": {},
   "outputs": [],
   "source": [
    "import os\n",
    "\n",
    "# This would  remove \"/tmp/test\"  directory.\n",
    "os.rmdir( \"test\"  )"
   ]
  },
  {
   "cell_type": "markdown",
   "metadata": {},
   "source": [
    "The **listdir()** Method\n",
    "Lists everything inside a directory -- including both files and directories"
   ]
  },
  {
   "cell_type": "code",
   "execution_count": 73,
   "metadata": {},
   "outputs": [
    {
     "name": "stdout",
     "output_type": "stream",
     "text": [
      "['.ipynb_checkpoints', '10_Plotting Graphs.pptx', '7_IO - File Handling.pptx', '8_Database Access.pptx', '9_Excel Applications.pptx', 'Automobile_data.csv', 'cereal_data.csv', 'Demo_10_Plotting_Fraphs.ipynb', 'Demo_7_IO_File_Handling.ipynb', 'Demo_8_Database_Access.ipynb', 'Demo_9_Excel_Applications.ipynb', 'emp.xlsx', 'employee.db', 'Ex 10 Students Grades.docx', 'Ex 8 Excel Application.docx', 'Ex 9 Plotting graph.docx', 'foo.txt', 'presidents.csv', 'presidents.db', 'presidents.xlsx', 'sqlite-tools-win32-x86-3380000', 'temp-plot.html']\n"
     ]
    }
   ],
   "source": [
    "# find everything inside a directory -- including both files and directories\n",
    "from os import listdir;\n",
    "print(os.listdir())\n",
    "\n",
    "# Looking in a directory\n",
    "#arr = os.listdir('c:\\\\Users\\Konstantinos.Giannak')\n",
    "#print(arr)"
   ]
  },
  {
   "cell_type": "markdown",
   "metadata": {},
   "source": [
    "## 5. More Examples"
   ]
  },
  {
   "cell_type": "markdown",
   "metadata": {},
   "source": [
    "### 5a) Modes of File Handling\n",
    "- read (r), write (w), readwrite(rw+)"
   ]
  },
  {
   "cell_type": "code",
   "execution_count": 7,
   "metadata": {},
   "outputs": [
    {
     "name": "stdout",
     "output_type": "stream",
     "text": [
      "Lines: Hello World!\n",
      "Lines: This is our new text file\n",
      "Lines: and this is another line.\n",
      "Lines: This is the last line.\n"
     ]
    }
   ],
   "source": [
    "#modes - read (r), write (w), readwrite(rw+)\n",
    "file = open('demo.txt','w')  \n",
    " \n",
    "file.write('Hello World!')  \n",
    "\n",
    "\n",
    "file.write('\\nThis is our new text file')  \n",
    "\n",
    "file.write('\\nand this is another line.')  \n",
    "\n",
    "file.write('\\nThis is the last line.')  \n",
    "\n",
    "file.close() \n",
    "\n",
    "def test():\n",
    "    f = open('demo.txt', 'r')\n",
    "    for line in f:\n",
    "        print ('Lines:', line.rstrip())\n",
    "    f.close()\n",
    "\n",
    "\n",
    "test()"
   ]
  },
  {
   "cell_type": "markdown",
   "metadata": {},
   "source": [
    "### 5b) File Handling Functions\n",
    "- CRUD Operations (Create, Read, Update, Delete) "
   ]
  },
  {
   "cell_type": "markdown",
   "metadata": {},
   "source": [
    "#### 5b1) Read a file."
   ]
  },
  {
   "cell_type": "markdown",
   "metadata": {},
   "source": [
    "Example: Read a file line by line."
   ]
  },
  {
   "cell_type": "code",
   "execution_count": 8,
   "metadata": {},
   "outputs": [
    {
     "name": "stdout",
     "output_type": "stream",
     "text": [
      "<_io.TextIOWrapper name='demo.txt' mode='r' encoding='cp1252'>\n",
      "line:  Hello World!\n",
      "line:  This is our new text file\n",
      "line:  and this is another line.\n",
      "line:  This is the last line.\n",
      "\n",
      "\n",
      "\n"
     ]
    }
   ],
   "source": [
    "# open file in read mode \n",
    "infile = open('demo.txt', 'r') # open for reading\n",
    "print (infile) # print details of the file object\n",
    "#accesss file elements by line\n",
    "for line in infile:\n",
    "        print ('line: ',line.rstrip())\n",
    "infile.close()\n",
    "print('\\n\\n')"
   ]
  },
  {
   "cell_type": "markdown",
   "metadata": {},
   "source": [
    "Example: Read a file line by line and split each line word by word."
   ]
  },
  {
   "cell_type": "code",
   "execution_count": 9,
   "metadata": {},
   "outputs": [
    {
     "name": "stdout",
     "output_type": "stream",
     "text": [
      "Using Split()\n",
      "\n",
      "\n",
      "\n",
      "['Hello', 'World!']\n",
      "['This', 'is', 'our', 'new', 'text', 'file']\n",
      "['and', 'this', 'is', 'another', 'line.']\n",
      "['This', 'is', 'the', 'last', 'line.']\n",
      "\n",
      "\n",
      "\n"
     ]
    }
   ],
   "source": [
    "#File opened again for Split() usage - accesss the file elements in words\n",
    "infile = open('demo.txt', 'r') \n",
    "print('Using Split()')\n",
    "print('\\n\\n')\n",
    "\n",
    "for line in infile: #memory efficient\n",
    "        print (line.split())\n",
    "\n",
    "infile.close()\n",
    "print('\\n\\n')"
   ]
  },
  {
   "cell_type": "code",
   "execution_count": 10,
   "metadata": {},
   "outputs": [
    {
     "name": "stdout",
     "output_type": "stream",
     "text": [
      "\n",
      " Printing the file using Readlines\n",
      "\n",
      "['Hello World!\\n', 'This is our new text file\\n', 'and this is another line.\\n', 'This is the last line.']\n"
     ]
    }
   ],
   "source": [
    "infile2 = open('demo.txt', 'r') # open for reading\n",
    "print('\\n','Printing the file using Readlines\\n')\n",
    "print (infile2.readlines())\n",
    "infile2.close()  #closing the file explicitly"
   ]
  },
  {
   "cell_type": "markdown",
   "metadata": {},
   "source": [
    "#### 5b2) Overwrite a file."
   ]
  },
  {
   "cell_type": "markdown",
   "metadata": {},
   "source": [
    "Example: Rewriting a file."
   ]
  },
  {
   "cell_type": "code",
   "execution_count": 11,
   "metadata": {},
   "outputs": [],
   "source": [
    "#Writing to files\n",
    "outfile = open('demo.txt', 'w') # open for (writing)\n",
    "outfile.write('All programs use basic instructions as building blocks. Here are few of the most common ones, in English:\\n')\n",
    "outfile.write('Do this, then do that. ')\n",
    "outfile.write('If this condition is true, perform this action; otherwise do that action')\n",
    "outfile.write('Do this action that number of times')\n",
    "outfile.close() #closing the file explicitly"
   ]
  },
  {
   "cell_type": "markdown",
   "metadata": {},
   "source": [
    "Example: Read the lines of the overwritten file."
   ]
  },
  {
   "cell_type": "code",
   "execution_count": 13,
   "metadata": {},
   "outputs": [
    {
     "name": "stdout",
     "output_type": "stream",
     "text": [
      "\n",
      " Printing the file using Readlines\n",
      "\n",
      "['All programs use basic instructions as building blocks. Here are few of the most common ones, in English:\\n', 'Do this, then do that. If this condition is true, perform this action; otherwise do that actionDo this action that number of times']\n"
     ]
    }
   ],
   "source": [
    "infile3 = open('demo.txt', 'r') # open for reading . Demo.txt files have been overwitten\n",
    "print('\\n','Printing the file using Readlines\\n')\n",
    "print (infile3.readlines())\n",
    "infile3.close() #closing the file explicitly"
   ]
  },
  {
   "cell_type": "markdown",
   "metadata": {},
   "source": [
    "#### 5b3) Append to File"
   ]
  },
  {
   "cell_type": "code",
   "execution_count": 14,
   "metadata": {},
   "outputs": [],
   "source": [
    "#Append to File\n",
    "\n",
    "file1 = open('demo.txt', 'a') # open for appending to existing content\n",
    "file1.write('\\nKeep doing until condition is true')\n",
    "file1.close()"
   ]
  },
  {
   "cell_type": "markdown",
   "metadata": {},
   "source": [
    "Check the appended file."
   ]
  },
  {
   "cell_type": "code",
   "execution_count": 17,
   "metadata": {},
   "outputs": [
    {
     "name": "stdout",
     "output_type": "stream",
     "text": [
      "\n",
      " Printing the file using Readlines\n",
      "\n",
      "['All programs use basic instructions as building blocks. Here are few of the most common ones, in English:\\n', 'Do this, then do that. If this condition is true, perform this action; otherwise do that actionDo this action that number of times\\n', 'Keep doing until condition is true']\n"
     ]
    }
   ],
   "source": [
    "infile3 = open('demo.txt', 'r') # open for reading . Demo.txt files have been overwitten\n",
    "print('\\n','Printing the file using Readlines\\n')\n",
    "print (infile3.readlines())\n",
    "infile3.close() #closing the file explicitly"
   ]
  },
  {
   "cell_type": "code",
   "execution_count": null,
   "metadata": {},
   "outputs": [],
   "source": []
  }
 ],
 "metadata": {
  "interpreter": {
   "hash": "8cb2474c42576a3606c9634037c9ef0ac64d9294c9ef3038e6307653057325e9"
  },
  "kernelspec": {
   "display_name": "Python 3 (ipykernel)",
   "language": "python",
   "name": "python3"
  },
  "language_info": {
   "codemirror_mode": {
    "name": "ipython",
    "version": 3
   },
   "file_extension": ".py",
   "mimetype": "text/x-python",
   "name": "python",
   "nbconvert_exporter": "python",
   "pygments_lexer": "ipython3",
   "version": "3.9.7"
  }
 },
 "nbformat": 4,
 "nbformat_minor": 2
}
