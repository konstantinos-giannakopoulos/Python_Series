{
 "cells": [
  {
   "cell_type": "markdown",
   "metadata": {},
   "source": [
    ">#\n",
    "># Demo_4_Lists_and_Tuples\n",
    ">#\n",
    ">### Container Datatypes:\n",
    ">    - **List**\n",
    ">    - **Tuple**\n",
    ">    - **Set**\n",
    ">    - **Dictionary**\n",
    "> -----------------\n",
    ">1. Lists **[...]**\n",
    ">   - Creating a list \n",
    ">   - Adding elements to list \n",
    ">   - Slicing \n",
    ">   - Striding\n",
    ">   - Sorting\n",
    ">   - Remove\n",
    ">   - Copying from one list to another\n",
    ">   - List Comprehension\n",
    ">2. Tuples **(...)**\n",
    ">   - Creating a tuple \n",
    ">   - Conversion between tuple and list and Adding elements to a tuple\n",
    ">   - Index\n",
    ">   - Min,Max\n",
    ">   - Enumeration\n",
    ">   - Map"
   ]
  },
  {
   "cell_type": "markdown",
   "metadata": {},
   "source": [
    "## 1. Lists **[...]**\n",
    "\n",
    "A primary datastructure:\n",
    "- A list is an ordered sequence of zero or more objects. \n",
    "- It is a dynamic array.\n",
    "- Items in list are indexed (index starts from 0).\n",
    "- List items can be of different type.\n",
    "- Lists are mutable, that new items can be added to any index of the list.\n",
    "- Items can be removed from any index of the list.\n",
    "\n",
    "\n",
    "Properties of Lists:\n",
    "- ordered\n",
    "- indexed\n",
    "- iterable\n",
    "- mutable"
   ]
  },
  {
   "cell_type": "markdown",
   "metadata": {},
   "source": [
    "### a) Creating a list"
   ]
  },
  {
   "cell_type": "code",
   "execution_count": 4,
   "metadata": {},
   "outputs": [
    {
     "name": "stdout",
     "output_type": "stream",
     "text": [
      "<class 'list'>\n"
     ]
    }
   ],
   "source": [
    "# Method 1 - Using the list built-in constructor\n",
    "myList1 = list()\n",
    "print(type(myList1))"
   ]
  },
  {
   "cell_type": "code",
   "execution_count": 5,
   "metadata": {},
   "outputs": [
    {
     "name": "stdout",
     "output_type": "stream",
     "text": [
      "<class 'list'>\n"
     ]
    }
   ],
   "source": [
    "# Method 2 - Using []\n",
    "myList2 = []\n",
    "print(type(myList2))"
   ]
  },
  {
   "cell_type": "code",
   "execution_count": 1,
   "metadata": {},
   "outputs": [
    {
     "name": "stdout",
     "output_type": "stream",
     "text": [
      "<class 'list'>\n"
     ]
    }
   ],
   "source": [
    "# Method 3 - by adding values\n",
    "myList3 = [1, 2, 3, 4]\n",
    "print(type(myList3))"
   ]
  },
  {
   "cell_type": "markdown",
   "metadata": {},
   "source": [
    "Examples"
   ]
  },
  {
   "cell_type": "code",
   "execution_count": 3,
   "metadata": {},
   "outputs": [
    {
     "name": "stdout",
     "output_type": "stream",
     "text": [
      "[2, 3, 5, 7, 11]\n"
     ]
    }
   ],
   "source": [
    "list_of_primes=[2,3,5,7,11]\n",
    "print(list_of_primes)"
   ]
  },
  {
   "cell_type": "code",
   "execution_count": 7,
   "metadata": {},
   "outputs": [],
   "source": [
    "#create an empty\n",
    "empty_list=[]\n",
    "\n",
    "#list as versatile data type\n",
    "names=['Anson', 'Amos', 'Tom']\n",
    "mixed=[1,2,'Teddy', True, 0 , False]\n",
    "list_of_lists=[[1,2],[3,4],'goat', [False]]"
   ]
  },
  {
   "cell_type": "markdown",
   "metadata": {},
   "source": [
    "### b) Adding elements to list"
   ]
  },
  {
   "cell_type": "code",
   "execution_count": 8,
   "metadata": {},
   "outputs": [
    {
     "name": "stdout",
     "output_type": "stream",
     "text": [
      "['cake', 'cookies', 'cheese', 'biscuits', 'bread']\n"
     ]
    }
   ],
   "source": [
    "#Adding elemensts to list\n",
    "#method 1 ---- adding a list to existing list\n",
    "items=['cake','cookies','cheese']\n",
    "total_items=items +['biscuits', 'bread']\n",
    "print(total_items)"
   ]
  },
  {
   "cell_type": "markdown",
   "metadata": {},
   "source": [
    "Method 1 ---- **List Concatenation**: adding a list to existing list with **list + list**"
   ]
  },
  {
   "cell_type": "code",
   "execution_count": 2,
   "metadata": {},
   "outputs": [
    {
     "name": "stdout",
     "output_type": "stream",
     "text": [
      "Method 1: books in booklist:  []\n"
     ]
    }
   ],
   "source": [
    "num=int(input(\"Enter the number of books to add to stock: \"))\n",
    "book_list=[]\n",
    "i=0\n",
    "while i<num:\n",
    "    book=input('Enter the book name to add: ') # book is a string\n",
    "    book_list=book_list+[book] # converted string to list by enclosing in []\n",
    "    i+=1\n",
    "print('Method 1: books in booklist: ', book_list)"
   ]
  },
  {
   "cell_type": "markdown",
   "metadata": {},
   "source": [
    "Method 2 ---- insert()"
   ]
  },
  {
   "cell_type": "code",
   "execution_count": 15,
   "metadata": {},
   "outputs": [
    {
     "name": "stdout",
     "output_type": "stream",
     "text": [
      "Method 2: books in booklist:  ['book_1', 'c++', 'book_2']\n"
     ]
    }
   ],
   "source": [
    "#method 2 --- insert\n",
    "book_list.insert(1, 'c++')\n",
    "print('Method 2: books in booklist: ', book_list)"
   ]
  },
  {
   "cell_type": "markdown",
   "metadata": {},
   "source": [
    "Method 3 ---- append()"
   ]
  },
  {
   "cell_type": "code",
   "execution_count": 16,
   "metadata": {},
   "outputs": [
    {
     "name": "stdout",
     "output_type": "stream",
     "text": [
      "Method 3: books in booklist:  ['book_1', 'c++', 'book_2', 'unix']\n"
     ]
    }
   ],
   "source": [
    "#method 3 -- append\n",
    "book_list.append('unix')\n",
    "print('Method 3: books in booklist: ', book_list)"
   ]
  },
  {
   "cell_type": "markdown",
   "metadata": {},
   "source": [
    "Method 4 ---- extend()"
   ]
  },
  {
   "cell_type": "code",
   "execution_count": 17,
   "metadata": {},
   "outputs": [
    {
     "name": "stdout",
     "output_type": "stream",
     "text": [
      "Method 4: books in booklist:  ['book_1', 'c++', 'book_2', 'unix', 'book_extend_1', 'book_extend_2']\n"
     ]
    }
   ],
   "source": [
    "#method 4 --- extend\n",
    "book_list.extend(['book_extend_1','book_extend_2'])\n",
    "print('Method 4: books in booklist: ', book_list)"
   ]
  },
  {
   "cell_type": "markdown",
   "metadata": {},
   "source": [
    "Method 5 ---- zip()"
   ]
  },
  {
   "cell_type": "code",
   "execution_count": 19,
   "metadata": {},
   "outputs": [
    {
     "name": "stdout",
     "output_type": "stream",
     "text": [
      "<zip object at 0x000001D7A7AC8C80> <class 'zip'>\n",
      "[('Tom', 'Alphose'), ('John Doe', 'Pepper'), ('Jane Doe', 'Carter')]\n"
     ]
    }
   ],
   "source": [
    "#method 5 -- zip --- aggregating 2 lists where elements have 1-1 correspondence\n",
    "owner_names=['Tom', 'John Doe', 'Jane Doe']\n",
    "dog_names=['Alphose','Pepper','Carter']\n",
    "owner_dogs=zip(owner_names,dog_names)\n",
    "print(owner_dogs, type (owner_dogs))\n",
    "print(list(owner_dogs))"
   ]
  },
  {
   "cell_type": "markdown",
   "metadata": {},
   "source": [
    "### c) Slicing\n",
    "\n",
    "Accessing a specific portion or a subset of the list for some operation while the orginal list remains unaffected."
   ]
  },
  {
   "cell_type": "code",
   "execution_count": 23,
   "metadata": {},
   "outputs": [
    {
     "name": "stdout",
     "output_type": "stream",
     "text": [
      "['lentils', 'laksa']\n",
      "['laksa', 'pumpkin']\n",
      "['minestrone', 'lentils']\n",
      "pumpkin\n",
      "['lentils', 'laksa', 'pumpkin']\n",
      "['minestrone', 'lentils']\n"
     ]
    }
   ],
   "source": [
    "#slicing and striding\n",
    "soups=['minestrone','lentils','laksa','pumpkin']\n",
    "print(soups[1:3]) # get from index 1 to index 3: 'lentils','laksa'\n",
    "print(soups[2:])  # get from index 2 to the end: ['laksa', 'pumpkin']\n",
    "print(soups[:2])  # get from start to index 2: ['minestrone', 'lentils']\n",
    "\n",
    "print(soups[-1])  # get the last element only: pumpkin\n",
    "print(soups[-3:]) # get the last three elements: 'lentils','laksa','pumpkin'\n",
    "print(soups[:-2]) #'minestrone','lentils'"
   ]
  },
  {
   "cell_type": "markdown",
   "metadata": {},
   "source": [
    "### d) Striding\n",
    "\n",
    "The amount you want to skip in a particular direction."
   ]
  },
  {
   "cell_type": "code",
   "execution_count": 25,
   "metadata": {},
   "outputs": [
    {
     "name": "stdout",
     "output_type": "stream",
     "text": [
      "Ph tluiga\n"
     ]
    }
   ],
   "source": [
    "slogan=\"Python with linux is great\"\n",
    "print(slogan[::3])   # To stride slicing with 3 characters to skip: P**h** **t**l**u**i**g**a*"
   ]
  },
  {
   "cell_type": "code",
   "execution_count": 26,
   "metadata": {},
   "outputs": [
    {
     "name": "stdout",
     "output_type": "stream",
     "text": [
      "3\n"
     ]
    }
   ],
   "source": [
    "#count\n",
    "backpack=['pen','pencil','pen','eraser','pen']\n",
    "print(backpack.count('pen'))"
   ]
  },
  {
   "cell_type": "code",
   "execution_count": 28,
   "metadata": {},
   "outputs": [
    {
     "name": "stdout",
     "output_type": "stream",
     "text": [
      "5\n"
     ]
    }
   ],
   "source": [
    "#length\n",
    "print(len(backpack))"
   ]
  },
  {
   "cell_type": "markdown",
   "metadata": {},
   "source": [
    "### e) Sorting"
   ]
  },
  {
   "cell_type": "markdown",
   "metadata": {},
   "source": [
    "Method 1: Sort"
   ]
  },
  {
   "cell_type": "code",
   "execution_count": 29,
   "metadata": {},
   "outputs": [
    {
     "name": "stdout",
     "output_type": "stream",
     "text": [
      "Original : ['book_1', 'c++', 'book_2', 'unix', 'book_extend_1', 'book_extend_2']\n",
      "After sort() ['book_1', 'book_2', 'book_extend_1', 'book_extend_2', 'c++', 'unix']\n"
     ]
    }
   ],
   "source": [
    "#sort\n",
    "#Method 1\n",
    "booklist=['book_1', 'c++', 'book_2', 'unix', 'book_extend_1', 'book_extend_2']\n",
    "print('Original :',book_list)\n",
    "book_list.sort()\n",
    "print('After sort()',book_list)"
   ]
  },
  {
   "cell_type": "code",
   "execution_count": 35,
   "metadata": {},
   "outputs": [
    {
     "name": "stdout",
     "output_type": "stream",
     "text": [
      "[12, 23, 23, 33, 45, 45, 76, 78]\n",
      "[78, 76, 45, 45, 33, 23, 23, 12]\n"
     ]
    }
   ],
   "source": [
    "numbers=[45,23,76,33,78,12,45,23]\n",
    "numbers.sort() # ascending\n",
    "print(numbers)\n",
    "numbers.sort(reverse=True) # descending\n",
    "print(numbers)"
   ]
  },
  {
   "cell_type": "markdown",
   "metadata": {},
   "source": [
    "Method 2: Sorted"
   ]
  },
  {
   "cell_type": "code",
   "execution_count": 47,
   "metadata": {},
   "outputs": [
    {
     "name": "stdout",
     "output_type": "stream",
     "text": [
      "[12, 23, 23, 33, 45, 45, 76, 78]\n",
      "[99, 77, 66, 55, 44, 33, 22, 11]\n"
     ]
    }
   ],
   "source": [
    "#Method 2 --- sorted()\n",
    "numbers=[45,23,76,33,78,12,45,23]\n",
    "\n",
    "# we need to assign the sorted list to a new variable\n",
    "sorted_numbers_asc=sorted(numbers) # ascending\n",
    "print(sorted_numbers_asc)\n",
    "sorted_numbers_desc=sorted(num,reverse=True) # descending\n",
    "print(sorted_numbers_desc)"
   ]
  },
  {
   "cell_type": "code",
   "execution_count": 45,
   "metadata": {},
   "outputs": [
    {
     "name": "stdout",
     "output_type": "stream",
     "text": [
      "Sorted list [12, 23, 23, 33, 45, 45, 76, 78]\n",
      "Original:  [45, 23, 76, 33, 78, 12, 45, 23]\n"
     ]
    }
   ],
   "source": [
    "# !!! The original list does not change.\n",
    "new_num=sorted(numbers)\n",
    "print('Sorted list',new_num)\n",
    "print('Original: ',numbers)"
   ]
  },
  {
   "cell_type": "markdown",
   "metadata": {},
   "source": [
    "### f) Remove "
   ]
  },
  {
   "cell_type": "markdown",
   "metadata": {},
   "source": [
    "Method 1: pop (LIFO --- Last In First Out): Pops out the last element of the list."
   ]
  },
  {
   "cell_type": "code",
   "execution_count": 46,
   "metadata": {},
   "outputs": [
    {
     "name": "stdout",
     "output_type": "stream",
     "text": [
      "[45, 23, 76, 33, 78, 12, 45]\n"
     ]
    }
   ],
   "source": [
    "numbers=[45,23,76,33,78,12,45,23]\n",
    "# !!! The original list does not change.\n",
    "numbers.pop()\n",
    "print(numbers)"
   ]
  },
  {
   "cell_type": "code",
   "execution_count": 49,
   "metadata": {},
   "outputs": [
    {
     "name": "stdout",
     "output_type": "stream",
     "text": [
      "23\n"
     ]
    }
   ],
   "source": [
    "numbers=[45,23,76,33,78,12,45,23]\n",
    "# we need to assign the updated list to a new variable\n",
    "num1=numbers.pop()\n",
    "print(num1)"
   ]
  },
  {
   "cell_type": "code",
   "execution_count": 54,
   "metadata": {},
   "outputs": [
    {
     "name": "stdout",
     "output_type": "stream",
     "text": [
      "new shopping list:  []\n",
      "new cart list ['apple', 'butter', 'cheese', 'yoghurt', 'milk']\n"
     ]
    }
   ],
   "source": [
    "shopping_list=['milk','yoghurt', 'cheese','butter', 'apple']\n",
    "cart=[]\n",
    "# fill the cart with elements from shopping list so that your shopping list becomes empty\n",
    "while shopping_list!=[]:\n",
    "    cart.append(shopping_list.pop())\n",
    "\n",
    "print('new shopping list: ', shopping_list)\n",
    "print('new cart list', cart)"
   ]
  },
  {
   "cell_type": "code",
   "execution_count": 55,
   "metadata": {},
   "outputs": [
    {
     "name": "stdout",
     "output_type": "stream",
     "text": [
      "reversed cart list:  ['milk', 'yoghurt', 'cheese', 'butter', 'apple']\n"
     ]
    }
   ],
   "source": [
    "#reverse\n",
    "cart.reverse()\n",
    "print('reversed cart list: ', cart)"
   ]
  },
  {
   "cell_type": "markdown",
   "metadata": {},
   "source": [
    "Method 2: clear (Deletes all elements - Clears out the list)"
   ]
  },
  {
   "cell_type": "code",
   "execution_count": 57,
   "metadata": {},
   "outputs": [
    {
     "name": "stdout",
     "output_type": "stream",
     "text": [
      "[]\n"
     ]
    }
   ],
   "source": [
    "numbers=[45,23,76,33,78,12,45,23]\n",
    "#Removal - method 2\n",
    "numbers.clear() \n",
    "print(numbers)"
   ]
  },
  {
   "cell_type": "markdown",
   "metadata": {},
   "source": [
    "Method 3: remove (Remove an element of the list)"
   ]
  },
  {
   "cell_type": "code",
   "execution_count": 59,
   "metadata": {},
   "outputs": [
    {
     "name": "stdout",
     "output_type": "stream",
     "text": [
      "['apple', 'butter', 'yoghurt', 'milk']\n"
     ]
    }
   ],
   "source": [
    "#Removal - method 3\n",
    "cart = ['apple', 'butter', 'cheese', 'yoghurt', 'milk']\n",
    "#remove element at index 2 from cart\n",
    "cart.remove(cart[2]) \n",
    "print(cart)"
   ]
  },
  {
   "cell_type": "code",
   "execution_count": 64,
   "metadata": {},
   "outputs": [
    {
     "name": "stdout",
     "output_type": "stream",
     "text": [
      "length of shopping list:  5\n",
      "  item picked:  milk\n",
      "  cart list status:  ['milk']\n",
      "  shopping list status:  ['yoghurt', 'cheese', 'butter', 'apple']\n",
      "  length of shopping list:  4\n",
      "  item picked:  cheese\n",
      "  cart list status:  ['milk', 'cheese']\n",
      "  shopping list status:  ['yoghurt', 'butter', 'apple']\n",
      "  length of shopping list:  3\n",
      "  item picked:  apple\n",
      "  cart list status:  ['milk', 'cheese', 'apple']\n",
      "  shopping list status:  ['yoghurt', 'butter']\n",
      "  length of shopping list:  2\n",
      "['yoghurt', 'butter']\n",
      "['milk', 'cheese', 'apple']\n"
     ]
    }
   ],
   "source": [
    "# !!! Error when we use both append and remove during list iteration\n",
    "\n",
    "shopping_list=['milk','yoghurt', 'cheese','butter', 'apple']\n",
    "print('length of shopping list: ', len(shopping_list))\n",
    "cart_list=[]\n",
    "for item in shopping_list:\n",
    "\n",
    "    cart_list.append(item)   # add an element to the cart list\n",
    "\n",
    "    shopping_list.remove(item) #  remove an item from the shopping list 'cheese','butter', 'apple'\n",
    "    print('  item picked: ',item)\n",
    "    print('  cart list status: ',cart_list)\n",
    "    print('  shopping list status: ',shopping_list)\n",
    "    print('  length of shopping list: ',len(shopping_list))\n",
    "\n",
    "print(shopping_list)\n",
    "print(cart_list)"
   ]
  },
  {
   "cell_type": "code",
   "execution_count": 1,
   "metadata": {},
   "outputs": [
    {
     "ename": "NameError",
     "evalue": "name 'cart' is not defined",
     "output_type": "error",
     "traceback": [
      "\u001b[1;31m---------------------------------------------------------------------------\u001b[0m",
      "\u001b[1;31mNameError\u001b[0m                                 Traceback (most recent call last)",
      "\u001b[1;32mc:\\Users\\Konstantinos.Giannak\\OneDrive - FDM Group\\Courses\\My_Version\\Data_Engineering\\Software_Development\\Python_APAC\\Python_1_week_TechOps_Batch\\Day_1_Monday\\Demo_4_Lists and Tuples.ipynb Cell 41'\u001b[0m in \u001b[0;36m<cell line: 1>\u001b[1;34m()\u001b[0m\n\u001b[1;32m----> <a href='vscode-notebook-cell:/c%3A/Users/Konstantinos.Giannak/OneDrive%20-%20FDM%20Group/Courses/My_Version/Data_Engineering/Software_Development/Python_APAC/Python_1_week_TechOps_Batch/Day_1_Monday/Demo_4_Lists%20and%20Tuples.ipynb#ch0000040?line=0'>1</a>\u001b[0m cart\u001b[39m.\u001b[39mclear()\n\u001b[0;32m      <a href='vscode-notebook-cell:/c%3A/Users/Konstantinos.Giannak/OneDrive%20-%20FDM%20Group/Courses/My_Version/Data_Engineering/Software_Development/Python_APAC/Python_1_week_TechOps_Batch/Day_1_Monday/Demo_4_Lists%20and%20Tuples.ipynb#ch0000040?line=1'>2</a>\u001b[0m shopping_list\u001b[39m=\u001b[39m[\u001b[39m'\u001b[39m\u001b[39mmilk\u001b[39m\u001b[39m'\u001b[39m,\u001b[39m'\u001b[39m\u001b[39myoghurt\u001b[39m\u001b[39m'\u001b[39m, \u001b[39m'\u001b[39m\u001b[39mcheese\u001b[39m\u001b[39m'\u001b[39m,\u001b[39m'\u001b[39m\u001b[39mbutter\u001b[39m\u001b[39m'\u001b[39m, \u001b[39m'\u001b[39m\u001b[39mapple\u001b[39m\u001b[39m'\u001b[39m]\n\u001b[0;32m      <a href='vscode-notebook-cell:/c%3A/Users/Konstantinos.Giannak/OneDrive%20-%20FDM%20Group/Courses/My_Version/Data_Engineering/Software_Development/Python_APAC/Python_1_week_TechOps_Batch/Day_1_Monday/Demo_4_Lists%20and%20Tuples.ipynb#ch0000040?line=2'>3</a>\u001b[0m \u001b[39mprint\u001b[39m(\u001b[39mlen\u001b[39m(shopping_list))\n",
      "\u001b[1;31mNameError\u001b[0m: name 'cart' is not defined"
     ]
    }
   ],
   "source": [
    "cart.clear()\n",
    "shopping_list=['milk','yoghurt', 'cheese','butter', 'apple']\n",
    "print(len(shopping_list))\n",
    "for item in shopping_list:\n",
    "    cart.append(item)\n",
    "shopping_list.clear()\n",
    "print(shopping_list)\n",
    "print(cart)"
   ]
  },
  {
   "cell_type": "markdown",
   "metadata": {},
   "source": [
    "### g) Copying from one list to another"
   ]
  },
  {
   "cell_type": "code",
   "execution_count": 4,
   "metadata": {},
   "outputs": [
    {
     "name": "stdout",
     "output_type": "stream",
     "text": [
      "[45, 23, 76, 33, 78, 12, 45, 23, 3]\n",
      "[45, 23, 76, 33, 78, 12, 45, 23, 3]\n"
     ]
    }
   ],
   "source": [
    "# Be careful of the lists' behavior.\n",
    "# Maybe this is not what you want to do.\n",
    "numbers1=[45,23,76,33,78,12,45,23]\n",
    "numbers2 = numbers1  # points to the same object as numbers1\n",
    "\n",
    "numbers1.append(3)\n",
    "\n",
    "print(numbers1)\n",
    "print(numbers2)"
   ]
  },
  {
   "cell_type": "code",
   "execution_count": null,
   "metadata": {},
   "outputs": [],
   "source": [
    "# Method 1\n",
    "numbers1=[45,23,76,33,78,12,45,23]\n",
    "numbers2=[]  # create a new object\n",
    "\n",
    "# copy elements one by one\n",
    "for number in numbers1:\n",
    "    numbers2.append(number)\n",
    "\n",
    "numbers1.append(3)\n",
    "\n",
    "print(numbers1)\n",
    "print(numbers2)"
   ]
  },
  {
   "cell_type": "code",
   "execution_count": null,
   "metadata": {},
   "outputs": [],
   "source": [
    "# Method 2\n",
    "numbers1=[45,23,76,33,78,12,45,23]\n",
    "numbers2= numbers1.copy() # create a new object and copy all elements\n",
    "\n",
    "numbers1.append(3)\n",
    "\n",
    "print(numbers1)\n",
    "print(numbers2)"
   ]
  },
  {
   "cell_type": "markdown",
   "metadata": {},
   "source": [
    "### h) List Comprehension \n",
    "'if' keyword followed by a condition"
   ]
  },
  {
   "cell_type": "code",
   "execution_count": 2,
   "metadata": {},
   "outputs": [
    {
     "name": "stdout",
     "output_type": "stream",
     "text": [
      "[0, 4, 16, 36, 64]\n"
     ]
    }
   ],
   "source": [
    "# original method\n",
    "#find the square of all even ranging from 0 to 9\n",
    "res=[]\n",
    "for i in range(9):\n",
    "    if i%2==0:\n",
    "        res=res+[i**2]\n",
    "\n",
    "print(res)"
   ]
  },
  {
   "cell_type": "code",
   "execution_count": 67,
   "metadata": {},
   "outputs": [
    {
     "name": "stdout",
     "output_type": "stream",
     "text": [
      "[0, 4, 16, 36, 64]\n"
     ]
    }
   ],
   "source": [
    "#list comprehension\n",
    "res1=[i**2 for i in range(9) if i%2==0]\n",
    "print(res1)"
   ]
  },
  {
   "cell_type": "code",
   "execution_count": 69,
   "metadata": {},
   "outputs": [
    {
     "name": "stdout",
     "output_type": "stream",
     "text": [
      "[22, 11, 13, 7, 21]\n"
     ]
    }
   ],
   "source": [
    "# original method\n",
    "years_of_birth=[2000,2011,2009,2015,2001]\n",
    "#find the current age\n",
    "#list with current age\n",
    "ages=[]\n",
    "for year in years_of_birth:\n",
    "    ages.append(2022-year)\n",
    "print(ages)"
   ]
  },
  {
   "cell_type": "code",
   "execution_count": 71,
   "metadata": {},
   "outputs": [
    {
     "name": "stdout",
     "output_type": "stream",
     "text": [
      "[22, 11, 13, 7, 21]\n"
     ]
    }
   ],
   "source": [
    "#using list comprehension to find age\n",
    "ages1=[2022-year for year in years_of_birth]\n",
    "print(ages1)"
   ]
  },
  {
   "cell_type": "code",
   "execution_count": 72,
   "metadata": {},
   "outputs": [
    {
     "name": "stdout",
     "output_type": "stream",
     "text": [
      "[11, 7]\n"
     ]
    }
   ],
   "source": [
    "#find the age using list comprehension if only year > 2010\n",
    "ages2=[2022-year for year in years_of_birth if year>2010]\n",
    "print(ages2)"
   ]
  },
  {
   "cell_type": "markdown",
   "metadata": {},
   "source": [
    "## 2. Tuples **(...)**\n",
    "Properties \n",
    "- ordered\n",
    "- indexed\n",
    "- immutable"
   ]
  },
  {
   "cell_type": "markdown",
   "metadata": {},
   "source": [
    "### a) Creating a tuple"
   ]
  },
  {
   "cell_type": "code",
   "execution_count": 12,
   "metadata": {},
   "outputs": [
    {
     "name": "stdout",
     "output_type": "stream",
     "text": [
      "<class 'tuple'>\n"
     ]
    }
   ],
   "source": [
    "# Method 1 - Using the tuple built-in constructor\n",
    "myTuple1 = tuple()\n",
    "print(type(myTuple1))"
   ]
  },
  {
   "cell_type": "code",
   "execution_count": 9,
   "metadata": {},
   "outputs": [
    {
     "name": "stdout",
     "output_type": "stream",
     "text": [
      "<class 'tuple'>\n"
     ]
    }
   ],
   "source": [
    "# Method 2 - Using ()\n",
    "myTuple2 = ()\n",
    "print(type(myTuple2))"
   ]
  },
  {
   "cell_type": "code",
   "execution_count": 11,
   "metadata": {},
   "outputs": [
    {
     "name": "stdout",
     "output_type": "stream",
     "text": [
      "<class 'tuple'>\n"
     ]
    }
   ],
   "source": [
    "# Method 3 - by adding values\n",
    "myTuple3 = (1, 2, 3, 4)\n",
    "print(type(myTuple3))"
   ]
  },
  {
   "cell_type": "markdown",
   "metadata": {},
   "source": [
    "Examples"
   ]
  },
  {
   "cell_type": "code",
   "execution_count": 73,
   "metadata": {},
   "outputs": [
    {
     "name": "stdout",
     "output_type": "stream",
     "text": [
      "('a', 'b', 'c', 2, 'Monday', True)\n",
      "2\n"
     ]
    }
   ],
   "source": [
    "a_tuple=('a','b','c',2, 'Monday', True)\n",
    "print(a_tuple)\n",
    "print(a_tuple[3])"
   ]
  },
  {
   "cell_type": "markdown",
   "metadata": {},
   "source": [
    "### b) Conversion between tuple and list and Adding elements to a tuple\n",
    "1. Adding elements to tuple.\n",
    "2. Convert to list.\n",
    "3. Convert back to tuple."
   ]
  },
  {
   "cell_type": "code",
   "execution_count": 74,
   "metadata": {},
   "outputs": [
    {
     "name": "stdout",
     "output_type": "stream",
     "text": [
      "('a', 'b', 'new value', 'c', 2, 'Monday', True)\n"
     ]
    }
   ],
   "source": [
    "#adding elements to tuple -- convert to list, add, convert back to tuple\n",
    "a_tuple=('a','b','c',2, 'Monday', True)\n",
    "a_tuple_tolist=list(a_tuple)\n",
    "a_tuple_tolist.insert(2,'new value')\n",
    "a_tuple=tuple(a_tuple_tolist)\n",
    "print(a_tuple)"
   ]
  },
  {
   "cell_type": "markdown",
   "metadata": {},
   "source": [
    "### c) Index"
   ]
  },
  {
   "cell_type": "code",
   "execution_count": 76,
   "metadata": {},
   "outputs": [
    {
     "name": "stdout",
     "output_type": "stream",
     "text": [
      "2\n"
     ]
    }
   ],
   "source": [
    "#index\n",
    "a_tuple=('a', 'b', 'new value', 'c', 2, 'Monday', True)\n",
    "index=a_tuple.index('new value')\n",
    "print(index)"
   ]
  },
  {
   "cell_type": "markdown",
   "metadata": {},
   "source": [
    "### d) Min, Max"
   ]
  },
  {
   "cell_type": "code",
   "execution_count": 77,
   "metadata": {},
   "outputs": [
    {
     "name": "stdout",
     "output_type": "stream",
     "text": [
      "2\n",
      "100\n"
     ]
    }
   ],
   "source": [
    "num_tuple=(3,45,2,78,11,100)\n",
    "print(min(num_tuple))\n",
    "print(max(num_tuple))"
   ]
  },
  {
   "cell_type": "markdown",
   "metadata": {},
   "source": [
    "### e) Enumeration"
   ]
  },
  {
   "cell_type": "code",
   "execution_count": 79,
   "metadata": {},
   "outputs": [
    {
     "name": "stdout",
     "output_type": "stream",
     "text": [
      "<enumerate object at 0x000001D7A7B25340> <class 'enumerate'>\n",
      "[(0, 'bread'), (1, 'milk'), (2, 'cookie')]\n"
     ]
    }
   ],
   "source": [
    "#enumeration\n",
    "items_tuple=('bread','milk','cookie')\n",
    "enumeratedItems=enumerate(items_tuple)\n",
    "print(enumeratedItems, type(enumeratedItems))\n",
    "# we need to convert to a list in order to view the elements of an enumerate object\n",
    "enumeratedItems_tolist=list(enumeratedItems)\n",
    "print(enumeratedItems_tolist) # list of tuple"
   ]
  },
  {
   "cell_type": "markdown",
   "metadata": {},
   "source": [
    "### f) Map"
   ]
  },
  {
   "cell_type": "code",
   "execution_count": 80,
   "metadata": {},
   "outputs": [
    {
     "name": "stdout",
     "output_type": "stream",
     "text": [
      "[1331, 85184, 10648, 456533, 35937, 287496, 970299]\n",
      "[None, 1936, 484, None, None, 4356, None]\n",
      "[1331, 85184, 10648, 456533, 35937, 287496, 970299]\n"
     ]
    }
   ],
   "source": [
    "#map\n",
    "def squareOfeven(n):\n",
    "    if n%2==0:\n",
    "        return n*n\n",
    "\n",
    "def cubeOf(n):\n",
    "    return n*n*n\n",
    "\n",
    "#traditional approach\n",
    "templist=[]\n",
    "for i in num:\n",
    "    templist=templist+ [cubeOf(i)]\n",
    "\n",
    "print (templist)\n",
    "\n",
    "# find the square of even in num\n",
    "result=map(squareOfeven,num) # map maps each element of the tuple to the function\n",
    "result=list(result)\n",
    "print(result)\n",
    "\n",
    "result1=map(cubeOf,num)\n",
    "print(list(result1))"
   ]
  },
  {
   "cell_type": "markdown",
   "metadata": {},
   "source": []
  }
 ],
 "metadata": {
  "interpreter": {
   "hash": "c347c8f9a7ef94e4c9e03b4513be7835ed18f45b99a2a817fb579f408b867b16"
  },
  "kernelspec": {
   "display_name": "Python 3.9.7 64-bit",
   "language": "python",
   "name": "python3"
  },
  "language_info": {
   "codemirror_mode": {
    "name": "ipython",
    "version": 3
   },
   "file_extension": ".py",
   "mimetype": "text/x-python",
   "name": "python",
   "nbconvert_exporter": "python",
   "pygments_lexer": "ipython3",
   "version": "3.9.7"
  },
  "orig_nbformat": 4
 },
 "nbformat": 4,
 "nbformat_minor": 2
}
