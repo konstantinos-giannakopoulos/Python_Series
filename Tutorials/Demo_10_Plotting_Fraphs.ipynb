{
 "cells": [
  {
   "cell_type": "markdown",
   "metadata": {},
   "source": [
    ">#\n",
    "># Demo_10_Plotting_Graphs\n",
    ">#\n",
    "> 1. Libraries:\n",
    ">    - pygal\n",
    ">    - lxmxl\n",
    ">    - plotly\n",
    ">    - matplotlib\n",
    ">    - seaborn"
   ]
  },
  {
   "cell_type": "markdown",
   "metadata": {},
   "source": [
    "## 1. Libraries"
   ]
  },
  {
   "cell_type": "markdown",
   "metadata": {},
   "source": [
    "#### pip"
   ]
  },
  {
   "cell_type": "markdown",
   "metadata": {},
   "source": [
    "Pip is a recursive acronym that can stand for either \" Pip Installs Packages \" or **\"Pip Installs Python\"**. \n",
    "Alternatively, pip stands for \"preferred installer program\".  \n",
    "\n",
    "PIP is **a package manager** for Python packages and/or modules."
   ]
  },
  {
   "cell_type": "markdown",
   "metadata": {},
   "source": [
    "#### Upgrade pip if needed"
   ]
  },
  {
   "cell_type": "code",
   "execution_count": 1,
   "metadata": {},
   "outputs": [
    {
     "name": "stdout",
     "output_type": "stream",
     "text": [
      "Defaulting to user installation because normal site-packages is not writeable\n",
      "Requirement already satisfied: pip in c:\\users\\konstantinos.giannak\\appdata\\roaming\\python\\python39\\site-packages (22.0.4)\n",
      "Note: you may need to restart the kernel to use updated packages.\n"
     ]
    }
   ],
   "source": [
    "%pip install --upgrade pip"
   ]
  },
  {
   "cell_type": "markdown",
   "metadata": {},
   "source": [
    "#### List the already installed libraries"
   ]
  },
  {
   "cell_type": "code",
   "execution_count": 1,
   "metadata": {},
   "outputs": [
    {
     "name": "stdout",
     "output_type": "stream",
     "text": [
      "Package                Version\n",
      "---------------------- -------\n",
      "backcall               0.2.0\n",
      "colorama               0.4.4\n",
      "debugpy                1.5.1\n",
      "decorator              5.1.1\n",
      "entrypoints            0.4\n",
      "executing              0.8.3\n",
      "fastjsonschema         2.15.3\n",
      "ipython-genutils       0.2.0\n",
      "jupyter-core           4.9.2\n",
      "jupyterlab-widgets     1.1.0\n",
      "MarkupSafe             2.1.1\n",
      "matplotlib-inline      0.1.3\n",
      "mistune                0.8.4\n",
      "mysql                  0.0.3\n",
      "mysql-connector        2.2.9\n",
      "mysql-connector-python 8.0.22\n",
      "mysqlclient            2.1.0\n",
      "nest-asyncio           1.5.4\n",
      "packaging              21.3\n",
      "pandocfilters          1.5.0\n",
      "parso                  0.8.3\n",
      "pickleshare            0.7.5\n",
      "pip                    22.0.4\n",
      "prometheus-client      0.14.1\n",
      "prompt-toolkit         3.0.28\n",
      "protobuf               3.19.4\n",
      "psutil                 5.9.0\n",
      "pure-eval              0.2.2\n",
      "pycparser              2.21\n",
      "Pygments               2.11.2\n",
      "pyparsing              3.0.8\n",
      "pyrsistent             0.18.1\n",
      "python-dateutil        2.8.2\n",
      "pywin32                303\n",
      "pywinpty               2.0.5\n",
      "pyzmq                  22.3.0\n",
      "Send2Trash             1.8.0\n",
      "setuptools             60.10.0\n",
      "six                    1.16.0\n",
      "soupsieve              2.3.2\n",
      "terminado              0.13.3\n",
      "tinycss2               1.1.1\n",
      "tornado                6.1\n",
      "traitlets              5.1.1\n",
      "wcwidth                0.2.5\n",
      "webencodings           0.5.1\n",
      "wheel                  0.37.1\n"
     ]
    }
   ],
   "source": [
    "# Checking installed libraries\n",
    "!pip list"
   ]
  },
  {
   "cell_type": "markdown",
   "metadata": {},
   "source": [
    "### a) pygal"
   ]
  },
  {
   "cell_type": "code",
   "execution_count": 2,
   "metadata": {},
   "outputs": [
    {
     "name": "stdout",
     "output_type": "stream",
     "text": [
      "Requirement already satisfied: pygal in c:\\users\\konstantinos\\appdata\\local\\programs\\python\\python310\\lib\\site-packages (3.0.0)\n",
      "Note: you may need to restart the kernel to use updated packages.\n"
     ]
    }
   ],
   "source": [
    "%pip install pygal"
   ]
  },
  {
   "cell_type": "code",
   "execution_count": 3,
   "metadata": {},
   "outputs": [
    {
     "name": "stdout",
     "output_type": "stream",
     "text": [
      "file://C:/Users/KONSTA~1/AppData/Local/Temp/tmpv1dr1bli.html\n"
     ]
    }
   ],
   "source": [
    "#pygal demo\n",
    "import pandas as pd\n",
    "olympicData={'Hostcity':['London','Beijing','Athens','Sydney','Atlanta'],\n",
    "'Year':[2012,2008,2004,2000,1996],\n",
    "'Noc':[205,204,201,200,197]}\n",
    "#convert dictionary to dataframe\n",
    "df=pd.DataFrame(olympicData)\n",
    "import pygal as pg\n",
    "pgBar=pg.Bar()\n",
    "for i in olympicData.get('Hostcity'):\n",
    "    pgBar.add(i,olympicData.get('Noc'))\n",
    "pgBar.render_in_browser()"
   ]
  },
  {
   "cell_type": "code",
   "execution_count": 4,
   "metadata": {},
   "outputs": [
    {
     "name": "stdout",
     "output_type": "stream",
     "text": [
      "  Hostcity  Year  Noc\n",
      "0   London  2012  205\n",
      "1  Beijing  2008  204\n",
      "2   Athens  2004  201\n",
      "3   Sydney  2000  200\n",
      "4  Atlanta  1996  197\n"
     ]
    }
   ],
   "source": [
    "print(df)"
   ]
  },
  {
   "cell_type": "code",
   "execution_count": 6,
   "metadata": {},
   "outputs": [
    {
     "name": "stdout",
     "output_type": "stream",
     "text": [
      "file://C:/Users/KONSTA~1/AppData/Local/Temp/tmpj4tuzpd0.html\n"
     ]
    }
   ],
   "source": [
    "pgbar1=pg.Bar()\n",
    "pgbar1.add('Noc',df['Noc'][:])\n",
    "pgbar1.render_in_browser()"
   ]
  },
  {
   "cell_type": "code",
   "execution_count": 7,
   "metadata": {},
   "outputs": [
    {
     "name": "stdout",
     "output_type": "stream",
     "text": [
      "file://C:/Users/KONSTA~1/AppData/Local/Temp/tmpmeztxe_n.html\n"
     ]
    }
   ],
   "source": [
    "pgPie=pg.Pie()\n",
    "pgPie.add('Amazon',90)\n",
    "pgPie.add('Shoppee',60)\n",
    "pgPie.add('Lazadaa',70)\n",
    "pgPie.add('Alibaba',50)\n",
    "pgPie.render_in_browser()"
   ]
  },
  {
   "cell_type": "markdown",
   "metadata": {},
   "source": [
    "### b) lxml"
   ]
  },
  {
   "cell_type": "code",
   "execution_count": 8,
   "metadata": {},
   "outputs": [
    {
     "name": "stdout",
     "output_type": "stream",
     "text": [
      "Requirement already satisfied: lxml in c:\\users\\konstantinos\\appdata\\local\\programs\\python\\python310\\lib\\site-packages (4.8.0)\n",
      "Note: you may need to restart the kernel to use updated packages.\n"
     ]
    }
   ],
   "source": [
    "%pip install lxml"
   ]
  },
  {
   "cell_type": "markdown",
   "metadata": {},
   "source": [
    "### c) plotly"
   ]
  },
  {
   "cell_type": "code",
   "execution_count": 9,
   "metadata": {},
   "outputs": [
    {
     "name": "stdout",
     "output_type": "stream",
     "text": [
      "Requirement already satisfied: plotly in c:\\users\\konstantinos\\appdata\\local\\programs\\python\\python310\\lib\\site-packages (5.6.0)\n",
      "Requirement already satisfied: tenacity>=6.2.0 in c:\\users\\konstantinos\\appdata\\local\\programs\\python\\python310\\lib\\site-packages (from plotly) (8.0.1)\n",
      "Requirement already satisfied: six in c:\\users\\konstantinos\\appdata\\roaming\\python\\python310\\site-packages (from plotly) (1.16.0)\n",
      "Note: you may need to restart the kernel to use updated packages.\n"
     ]
    }
   ],
   "source": [
    "%pip install plotly"
   ]
  },
  {
   "cell_type": "code",
   "execution_count": 10,
   "metadata": {},
   "outputs": [
    {
     "data": {
      "text/plain": [
       "'temp-plot.html'"
      ]
     },
     "execution_count": 10,
     "metadata": {},
     "output_type": "execute_result"
    }
   ],
   "source": [
    "dict1={'Name':['Alex','Adam','Tom','Todd','John Doe'],'Height':[1.75,1.67,1.56,1.45,1.8]}\n",
    "df1=pd.DataFrame(dict1)\n",
    "\n",
    "import plotly.express as px\n",
    "from plotly.offline import plot\n",
    "pbar=px.bar(df1,x='Name',y='Height',title='Distribution of Height',\n",
    "labels={'Name':'Students','Height':'in meters'}, color_discrete_sequence=['blueviolet'],\n",
    "height=500,width=800)\n",
    "\n",
    "plot(pbar)"
   ]
  },
  {
   "cell_type": "code",
   "execution_count": 11,
   "metadata": {},
   "outputs": [
    {
     "name": "stdout",
     "output_type": "stream",
     "text": [
      "file://C:/Users/KONSTA~1/AppData/Local/Temp/tmpn1mjcdex.html\n"
     ]
    }
   ],
   "source": [
    "pgline=pg.Line()\n",
    "pgline.x_label=map(str,df1['Name'])\n",
    "pgline.add('Height in m',df1['Height'])\n",
    "pgline.render_in_browser()"
   ]
  },
  {
   "cell_type": "code",
   "execution_count": 13,
   "metadata": {},
   "outputs": [
    {
     "name": "stdout",
     "output_type": "stream",
     "text": [
      "                         name             mfr  type  calories  protein  fat  \\\n",
      "0                   100% Bran         Nabisco  Cold        70        4    1   \n",
      "1           100% Natural Bran     Quaker Oats  Cold       120        3    5   \n",
      "2                    All-Bran         Kellogs  Cold        70        4    1   \n",
      "3   All-Bran with Extra Fiber         Kellogs  Cold        50        4    0   \n",
      "4              Almond Delight  Ralston Purina  Cold       110        2    2   \n",
      "..                        ...             ...   ...       ...      ...  ...   \n",
      "72                    Triples   General Mills  Cold       110        2    1   \n",
      "73                       Trix   General Mills  Cold       110        1    1   \n",
      "74                 Wheat Chex  Ralston Purina  Cold       100        3    1   \n",
      "75                   Wheaties   General Mills  Cold       100        3    1   \n",
      "76        Wheaties Honey Gold   General Mills  Cold       110        2    1   \n",
      "\n",
      "    sodium  fiber  carbo  sugars  potass  vitamins   shelf  weight  cups  \\\n",
      "0      130   10.0    5.0       6     280        25     Top     1.0  0.33   \n",
      "1       15    2.0    8.0       8     135         0     Top     1.0  1.00   \n",
      "2      260    9.0    7.0       5     320        25     Top     1.0  0.33   \n",
      "3      140   14.0    8.0       0     330        25     Top     1.0  0.50   \n",
      "4      200    1.0   14.0       8      -1        25     Top     1.0  0.75   \n",
      "..     ...    ...    ...     ...     ...       ...     ...     ...   ...   \n",
      "72     250    0.0   21.0       3      60        25     Top     1.0  0.75   \n",
      "73     140    0.0   13.0      12      25        25  Middle     1.0  1.00   \n",
      "74     230    3.0   17.0       3     115        25  Bottom     1.0  0.67   \n",
      "75     200    3.0   17.0       3     110        25  Bottom     1.0  1.00   \n",
      "76     200    1.0   16.0       8      60        25  Bottom     1.0  0.75   \n",
      "\n",
      "    rating  cereal  \n",
      "0    68.40       1  \n",
      "1    33.98       1  \n",
      "2    59.43       1  \n",
      "3    93.70       1  \n",
      "4    34.38       1  \n",
      "..     ...     ...  \n",
      "72   39.11       1  \n",
      "73   27.75       1  \n",
      "74   49.79       1  \n",
      "75   51.59       1  \n",
      "76   36.19       1  \n",
      "\n",
      "[77 rows x 17 columns]\n"
     ]
    }
   ],
   "source": [
    "import pandas as pd\n",
    "df2=pd.read_csv('cereal_data.csv') # reads csv from current folder\n",
    "print(df2)"
   ]
  },
  {
   "cell_type": "code",
   "execution_count": 14,
   "metadata": {},
   "outputs": [
    {
     "data": {
      "text/plain": [
       "'temp-plot.html'"
      ]
     },
     "execution_count": 14,
     "metadata": {},
     "output_type": "execute_result"
    }
   ],
   "source": [
    "pxscatter=px.scatter(df2,x='sugars', y='rating',hover_name='name',\n",
    "            title='Cereal ratings vs sugars')\n",
    "plot(pxscatter)"
   ]
  },
  {
   "cell_type": "code",
   "execution_count": 15,
   "metadata": {},
   "outputs": [
    {
     "data": {
      "text/plain": [
       "'temp-plot.html'"
      ]
     },
     "execution_count": 15,
     "metadata": {},
     "output_type": "execute_result"
    }
   ],
   "source": [
    "pxhisto=px.histogram(df2, x='rating',title='Rating distribution')\n",
    "plot(pxhisto)"
   ]
  },
  {
   "cell_type": "code",
   "execution_count": 16,
   "metadata": {},
   "outputs": [
    {
     "name": "stderr",
     "output_type": "stream",
     "text": [
      "C:\\Users\\Konstantinos\\AppData\\Local\\Programs\\Python\\Python310\\lib\\site-packages\\plotly\\express\\_core.py:1637: FutureWarning:\n",
      "\n",
      "The frame.append method is deprecated and will be removed from pandas in a future version. Use pandas.concat instead.\n",
      "\n",
      "C:\\Users\\Konstantinos\\AppData\\Local\\Programs\\Python\\Python310\\lib\\site-packages\\plotly\\express\\_core.py:1637: FutureWarning:\n",
      "\n",
      "The frame.append method is deprecated and will be removed from pandas in a future version. Use pandas.concat instead.\n",
      "\n"
     ]
    },
    {
     "data": {
      "text/plain": [
       "'temp-plot.html'"
      ]
     },
     "execution_count": 16,
     "metadata": {},
     "output_type": "execute_result"
    }
   ],
   "source": [
    "pxsun=px.sunburst(df2, path=['mfr','shelf'], values='cereal')\n",
    "plot(pxsun)"
   ]
  },
  {
   "cell_type": "markdown",
   "metadata": {},
   "source": [
    "### d) matplotlib"
   ]
  },
  {
   "cell_type": "code",
   "execution_count": 21,
   "metadata": {},
   "outputs": [
    {
     "name": "stdout",
     "output_type": "stream",
     "text": [
      "Requirement already satisfied: matplotlib in c:\\users\\konstantinos\\appdata\\local\\programs\\python\\python310\\lib\\site-packages (3.5.1)\n",
      "Requirement already satisfied: numpy>=1.17 in c:\\users\\konstantinos\\appdata\\local\\programs\\python\\python310\\lib\\site-packages (from matplotlib) (1.22.3)\n",
      "Requirement already satisfied: pillow>=6.2.0 in c:\\users\\konstantinos\\appdata\\local\\programs\\python\\python310\\lib\\site-packages (from matplotlib) (9.0.1)\n",
      "Requirement already satisfied: packaging>=20.0 in c:\\users\\konstantinos\\appdata\\local\\programs\\python\\python310\\lib\\site-packages (from matplotlib) (21.3)\n",
      "Requirement already satisfied: cycler>=0.10 in c:\\users\\konstantinos\\appdata\\local\\programs\\python\\python310\\lib\\site-packages (from matplotlib) (0.11.0)\n",
      "Requirement already satisfied: pyparsing>=2.2.1 in c:\\users\\konstantinos\\appdata\\local\\programs\\python\\python310\\lib\\site-packages (from matplotlib) (3.0.7)\n",
      "Requirement already satisfied: kiwisolver>=1.0.1 in c:\\users\\konstantinos\\appdata\\local\\programs\\python\\python310\\lib\\site-packages (from matplotlib) (1.4.0)\n",
      "Requirement already satisfied: python-dateutil>=2.7 in c:\\users\\konstantinos\\appdata\\roaming\\python\\python310\\site-packages (from matplotlib) (2.8.2)\n",
      "Requirement already satisfied: fonttools>=4.22.0 in c:\\users\\konstantinos\\appdata\\local\\programs\\python\\python310\\lib\\site-packages (from matplotlib) (4.30.0)\n",
      "Requirement already satisfied: six>=1.5 in c:\\users\\konstantinos\\appdata\\roaming\\python\\python310\\site-packages (from python-dateutil>=2.7->matplotlib) (1.16.0)\n",
      "Note: you may need to restart the kernel to use updated packages.\n"
     ]
    }
   ],
   "source": [
    "%pip install matplotlib\n"
   ]
  },
  {
   "cell_type": "markdown",
   "metadata": {},
   "source": [
    "Example 1: Plotting from lists"
   ]
  },
  {
   "cell_type": "code",
   "execution_count": 2,
   "metadata": {},
   "outputs": [
    {
     "data": {
      "text/plain": [
       "[<matplotlib.lines.Line2D at 0x1a1dc21fb50>]"
      ]
     },
     "execution_count": 2,
     "metadata": {},
     "output_type": "execute_result"
    },
    {
     "data": {
      "image/png": "[encoded data removed]",
      "text/plain": [
       "<Figure size 432x288 with 1 Axes>"
      ]
     },
     "metadata": {
      "needs_background": "light"
     },
     "output_type": "display_data"
    }
   ],
   "source": [
    "import matplotlib.pyplot as plt\n",
    "\n",
    "fruits = ['Apple', 'Orange', 'Banana', 'Pear', 'Mango', 'Avocado']\n",
    "cost = [44.91, 58.09, 78.07, 17.7, 108.5, 170.6]\n",
    "qty = [449.48, 553.57, 696.783, 870.133, 1000.4, 1309.1]\n",
    "plt.plot(fruits, cost, color='g')\n",
    "plt.plot(fruits, qty, color='orange')"
   ]
  },
  {
   "cell_type": "markdown",
   "metadata": {},
   "source": [
    "Example 2: Plotting from an Excel file."
   ]
  },
  {
   "cell_type": "code",
   "execution_count": 3,
   "metadata": {},
   "outputs": [
    {
     "name": "stdout",
     "output_type": "stream",
     "text": [
      "<class 'pandas.core.frame.DataFrame'>\n",
      "     Name Department       Title  Yoe  Wages\n",
      "0    Mike     Safety     Manager    5  15000\n",
      "1  Andrew  Operation  Supervisor    3   8000\n",
      "2    Jack     Safety  Supervisor    3   7000\n",
      "3   Gerry        D&E     Manager    8  15000\n",
      "4   David     Piping    Engineer    4   8300\n",
      "5    Nick        D&E    Engineer    5   6000\n",
      "6  Darren      Admin   Assistant    6   5000\n",
      "7    Adam     Safety  Supervisor    5   8500\n",
      "8   Jerry      Admin   Assistant    6   6500\n"
     ]
    },
    {
     "data": {
      "image/png": "[encoded data removed]",
      "text/plain": [
       "<Figure size 432x288 with 1 Axes>"
      ]
     },
     "metadata": {
      "needs_background": "light"
     },
     "output_type": "display_data"
    }
   ],
   "source": [
    "import pandas as pd\n",
    "import matplotlib.pyplot as plt\n",
    "\n",
    "fileName='emp.xlsx'\n",
    "data=pd.read_excel(fileName)\n",
    "print(type(data))\n",
    "print(data)\n",
    "\n",
    "plt.xlabel('Name')\n",
    "plt.ylabel('Wages')\n",
    "plt.plot(data['Name'],data.Wages)\n",
    "plt.show()"
   ]
  },
  {
   "cell_type": "markdown",
   "metadata": {},
   "source": [
    "### e) seaborn"
   ]
  },
  {
   "cell_type": "code",
   "execution_count": 17,
   "metadata": {},
   "outputs": [
    {
     "name": "stdout",
     "output_type": "stream",
     "text": [
      "Requirement already satisfied: seaborn in c:\\users\\konstantinos\\appdata\\local\\programs\\python\\python310\\lib\\site-packages (0.11.2)\n",
      "Requirement already satisfied: scipy>=1.0 in c:\\users\\konstantinos\\appdata\\local\\programs\\python\\python310\\lib\\site-packages (from seaborn) (1.8.0)\n",
      "Requirement already satisfied: matplotlib>=2.2 in c:\\users\\konstantinos\\appdata\\local\\programs\\python\\python310\\lib\\site-packages (from seaborn) (3.5.1)\n",
      "Requirement already satisfied: pandas>=0.23 in c:\\users\\konstantinos\\appdata\\local\\programs\\python\\python310\\lib\\site-packages (from seaborn) (1.4.1)\n",
      "Requirement already satisfied: numpy>=1.15 in c:\\users\\konstantinos\\appdata\\local\\programs\\python\\python310\\lib\\site-packages (from seaborn) (1.22.3)\n",
      "Requirement already satisfied: pillow>=6.2.0 in c:\\users\\konstantinos\\appdata\\local\\programs\\python\\python310\\lib\\site-packages (from matplotlib>=2.2->seaborn) (9.0.1)\n",
      "Requirement already satisfied: pyparsing>=2.2.1 in c:\\users\\konstantinos\\appdata\\local\\programs\\python\\python310\\lib\\site-packages (from matplotlib>=2.2->seaborn) (3.0.7)\n",
      "Requirement already satisfied: fonttools>=4.22.0 in c:\\users\\konstantinos\\appdata\\local\\programs\\python\\python310\\lib\\site-packages (from matplotlib>=2.2->seaborn) (4.30.0)\n",
      "Requirement already satisfied: packaging>=20.0 in c:\\users\\konstantinos\\appdata\\local\\programs\\python\\python310\\lib\\site-packages (from matplotlib>=2.2->seaborn) (21.3)\n",
      "Requirement already satisfied: python-dateutil>=2.7 in c:\\users\\konstantinos\\appdata\\roaming\\python\\python310\\site-packages (from matplotlib>=2.2->seaborn) (2.8.2)\n",
      "Requirement already satisfied: kiwisolver>=1.0.1 in c:\\users\\konstantinos\\appdata\\local\\programs\\python\\python310\\lib\\site-packages (from matplotlib>=2.2->seaborn) (1.4.0)\n",
      "Requirement already satisfied: cycler>=0.10 in c:\\users\\konstantinos\\appdata\\local\\programs\\python\\python310\\lib\\site-packages (from matplotlib>=2.2->seaborn) (0.11.0)\n",
      "Requirement already satisfied: pytz>=2020.1 in c:\\users\\konstantinos\\appdata\\local\\programs\\python\\python310\\lib\\site-packages (from pandas>=0.23->seaborn) (2021.3)\n",
      "Requirement already satisfied: six>=1.5 in c:\\users\\konstantinos\\appdata\\roaming\\python\\python310\\site-packages (from python-dateutil>=2.7->matplotlib>=2.2->seaborn) (1.16.0)\n",
      "Note: you may need to restart the kernel to use updated packages.\n"
     ]
    }
   ],
   "source": [
    "%pip install seaborn"
   ]
  },
  {
   "cell_type": "markdown",
   "metadata": {},
   "source": [
    "matplotlib and seaborn example"
   ]
  },
  {
   "cell_type": "code",
   "execution_count": 18,
   "metadata": {},
   "outputs": [
    {
     "data": {
      "image/png": "[encoded data removed]",
      "text/plain": [
       "<Figure size 360x360 with 1 Axes>"
      ]
     },
     "metadata": {
      "needs_background": "light"
     },
     "output_type": "display_data"
    }
   ],
   "source": [
    "import seaborn as sns\n",
    "import matplotlib.pyplot as plt\n",
    "snscat=sns.catplot(x='mfr',y='rating',data=df2,kind='box')\n",
    "plt.xticks(rotation=45)\n",
    "plt.show()"
   ]
  },
  {
   "cell_type": "code",
   "execution_count": 20,
   "metadata": {},
   "outputs": [
    {
     "data": {
      "image/png": "[encoded data removed]",
      "text/plain": [
       "<Figure size 415x360 with 1 Axes>"
      ]
     },
     "metadata": {
      "needs_background": "light"
     },
     "output_type": "display_data"
    }
   ],
   "source": [
    "snsdisplot=sns.displot(x='mfr',hue='calories', data=df2, multiple='stack')\n",
    "plt.xticks(rotation=45)\n",
    "plt.show()"
   ]
  },
  {
   "cell_type": "code",
   "execution_count": null,
   "metadata": {},
   "outputs": [],
   "source": []
  }
 ],
 "metadata": {
  "interpreter": {
   "hash": "c347c8f9a7ef94e4c9e03b4513be7835ed18f45b99a2a817fb579f408b867b16"
  },
  "kernelspec": {
   "display_name": "Python 3.9.7 64-bit",
   "language": "python",
   "name": "python3"
  },
  "language_info": {
   "codemirror_mode": {
    "name": "ipython",
    "version": 3
   },
   "file_extension": ".py",
   "mimetype": "text/x-python",
   "name": "python",
   "nbconvert_exporter": "python",
   "pygments_lexer": "ipython3",
   "version": "3.9.7"
  },
  "orig_nbformat": 4
 },
 "nbformat": 4,
 "nbformat_minor": 2
}
