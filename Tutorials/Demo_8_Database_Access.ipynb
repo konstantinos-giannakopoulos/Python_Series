{
 "cells": [
  {
   "cell_type": "markdown",
   "metadata": {},
   "source": [
    ">#\n",
    "># Demo_8_Database_Access\n",
    ">#"
   ]
  },
  {
   "cell_type": "code",
   "execution_count": 4,
   "metadata": {},
   "outputs": [],
   "source": [
    "!pip list"
   ]
  },
  {
   "cell_type": "markdown",
   "metadata": {},
   "source": [
    "## Install SQLite3"
   ]
  },
  {
   "cell_type": "code",
   "execution_count": 5,
   "metadata": {},
   "outputs": [
    {
     "name": "stdout",
     "output_type": "stream",
     "text": [
      "Defaulting to user installation because normal site-packages is not writeable\n",
      "Note: you may need to restart the kernel to use updated packages.\n"
     ]
    },
    {
     "name": "stderr",
     "output_type": "stream",
     "text": [
      "ERROR: Could not find a version that satisfies the requirement sqlite3 (from versions: none)\n",
      "ERROR: No matching distribution found for sqlite3\n"
     ]
    }
   ],
   "source": [
    "%pip install sqlite3"
   ]
  },
  {
   "cell_type": "markdown",
   "metadata": {},
   "source": [
    "## Import SQLite3"
   ]
  },
  {
   "cell_type": "code",
   "execution_count": 6,
   "metadata": {},
   "outputs": [],
   "source": [
    "import sqlite3"
   ]
  },
  {
   "cell_type": "markdown",
   "metadata": {},
   "source": [
    "\n",
    "## Database connectivity to Sqlite3\n",
    "\n",
    "1. Import sqlite3\n",
    "2. Connect to database\n",
    "3. Connect to cursor\n",
    "4. Execute sql query\n",
    "5. Fetch and process itto your requirement\n",
    "6. Close cursor & close database\n"
   ]
  },
  {
   "cell_type": "markdown",
   "metadata": {},
   "source": [
    "## Fetching Records"
   ]
  },
  {
   "cell_type": "code",
   "execution_count": 8,
   "metadata": {},
   "outputs": [
    {
     "name": "stdout",
     "output_type": "stream",
     "text": [
      "No of records fetched:  3\n",
      "Name:  John Doe\n",
      "Salary:  5500.0\n",
      "Phone num:  98999999\n",
      "Name:  David\n",
      "Salary:  9500.0\n",
      "Phone num:  789899999\n",
      "Name:  Michelle\n",
      "Salary:  6500.0\n",
      "Phone num:  879879999\n",
      "--------------- Database closed ---------------\n"
     ]
    }
   ],
   "source": [
    "#fertching records - simple sql select statement execution - Trial\n",
    "import sqlite3 as sq\n",
    "try:\n",
    "  #connecting to database\n",
    "  connection=sq.connect(\"employee.db\")# connection is the handler to your db\n",
    "  \n",
    "  #connecting to cursor / resord set\n",
    "  cur=connection.cursor() #cur is the cursorobject which you can bind to any tables within your database\n",
    "  #executing SQL query\n",
    "  cur.execute('select * from emp')\n",
    "  records=cur.fetchall() #records -- tuple of tuples\n",
    "  print( 'No of records fetched: ', len(records))\n",
    "  for r in records:\n",
    "      print('Name: ',r[0])\n",
    "      print('Salary: ', r[1])\n",
    "      print('Phone num: ',r[2])\n",
    "\n",
    "\n",
    "except sq.Error as error:\n",
    "    print(\"Error while fetching records: \",error)\n",
    "finally:\n",
    "    cur.close()\n",
    "    connection.close()\n",
    "    print('-'*15 ,'Database closed', '-'*15)"
   ]
  },
  {
   "cell_type": "markdown",
   "metadata": {},
   "source": [
    "## Creating a table"
   ]
  },
  {
   "cell_type": "code",
   "execution_count": 9,
   "metadata": {},
   "outputs": [
    {
     "name": "stdout",
     "output_type": "stream",
     "text": [
      "Error while creating table:  table emp already exists\n",
      "--------------- Database closed ---------------\n"
     ]
    }
   ],
   "source": [
    "#creating a table\n",
    "import sqlite3 as sq\n",
    "try:\n",
    "\n",
    "    connection=sq.connect('employee.db')\n",
    "    cur=connection.cursor()\n",
    "    create_table=\"CREATE TABLE emp(name TEXT NOT NULL,department TEXT NOT NULL, title TEXT, yoe NUMBER, wages DECIMAL NOT NULL);\"\n",
    "    cur.execute(create_table)\n",
    "    connection.commit()\n",
    "    print('emp table was created successfully')\n",
    "except sq.Error as error:\n",
    "  print(\"Error while creating table: \",error)\n",
    "finally:\n",
    "    cur.close()\n",
    "    connection.close()\n",
    "    print('-'*15 ,'Database closed', '-'*15)"
   ]
  },
  {
   "cell_type": "markdown",
   "metadata": {},
   "source": [
    "## Inserting Records"
   ]
  },
  {
   "cell_type": "code",
   "execution_count": 6,
   "metadata": {},
   "outputs": [
    {
     "name": "stdout",
     "output_type": "stream",
     "text": [
      "Error while record insertion:  table emp has no column named department\n",
      "Database closed\n"
     ]
    }
   ],
   "source": [
    "#inserting records to emp\n",
    "import sqlite3 as sq\n",
    "try:\n",
    "    db_connection=sq.connect('employee.db')\n",
    "    cur=db_connection.cursor()\n",
    "    #Method 1\n",
    "    '''insert_query=\"INSERT INTO emp(name, department, title, yoe, wages) values('John Doe','HR','Admin',4,4500)\"\n",
    "    cur.execute(insert_query)\n",
    "    db_connection.commit()'''\n",
    "    \n",
    "    #Method 2\n",
    "    data_to_ingest=[('Tom','Finance','Admin',2,3200),('Todd','Operation','Supervisor',3,4200),\n",
    "        ('Mary Tan','Recruitment','Admin',1,2400)]\n",
    "    insert_query1=\"INSERT INTO emp(name, department, title, yoe, wages) values(?,?,?,?,?)\"\n",
    "    c=0\n",
    "    for d in data_to_ingest:\n",
    "        count=cur.execute(insert_query1,d)# returns 1\n",
    "        c+=count\n",
    "        db_connection.commit()\n",
    "\n",
    "    print('count: ',c)\n",
    "    print ('Record was inserted successfully')\n",
    "except sq.Error as error:\n",
    "    print(\"Error while record insertion: \",error)\n",
    "finally:\n",
    "    cur.close()\n",
    "    db_connection.close()\n",
    "    print('Database closed')"
   ]
  },
  {
   "cell_type": "markdown",
   "metadata": {},
   "source": [
    "## Fetching Records"
   ]
  },
  {
   "cell_type": "code",
   "execution_count": 7,
   "metadata": {},
   "outputs": [
    {
     "name": "stdout",
     "output_type": "stream",
     "text": [
      "Numberof records fetched:  3\n",
      "('John Doe', 5500.0, 98999999)\n",
      "('David', 9500.0, 789899999)\n",
      "('Michelle', 6500.0, 879879999)\n",
      "database closed\n"
     ]
    }
   ],
   "source": [
    "#fetch records from emp\n",
    "import sqlite3 as sq\n",
    "try:\n",
    "    db_connection=sq.connect('employee.db')\n",
    "    cur=db_connection.cursor()\n",
    "    cur.execute('select * from emp')\n",
    "    records=cur.fetchall()\n",
    "    print('Numberof records fetched: ',len(records))\n",
    "    for r in records:\n",
    "        print(r)\n",
    "except sq.Error as e:\n",
    "    print('Error while fetching records: ',e)\n",
    "finally:\n",
    "    cur.close()\n",
    "    db_connection.close()\n",
    "    print('database closed')"
   ]
  },
  {
   "cell_type": "code",
   "execution_count": 9,
   "metadata": {},
   "outputs": [
    {
     "name": "stdout",
     "output_type": "stream",
     "text": [
      "Error while fetching records:  no such column: wages\n",
      "database closed\n"
     ]
    }
   ],
   "source": [
    "#fetch records from emp\n",
    "import sqlite3 as sq\n",
    "try:\n",
    "    db_connection=sq.connect('employee.db')\n",
    "    cur=db_connection.cursor()\n",
    "    \n",
    " #query1\n",
    " #select from emp where name is Tom\n",
    "    \"\"\" query1= cur.execute('select * from emp where name=\"Tom\"')\n",
    "    for q in query1:\n",
    "       print(q) \"\"\"\n",
    "\n",
    "#query2\n",
    "#  select emp details based on user requirement\n",
    "    empname=input(\"enter the employee name: \")\n",
    " #   query2=cur.execute('select * from emp where name=?',[empname])\n",
    "  #  for q in query2:\n",
    "  #      print(q) \n",
    "\n",
    "#query 3\n",
    "# select name, wages from emp where name=? and title=?\n",
    "    query3=cur.execute('select name, wages from emp where name=? and title=?',[empname, input('Enter the title for %s: '%empname)])\n",
    "    for q in query3:\n",
    "        print(q)\n",
    "except sq.Error as e:\n",
    "    print('Error while fetching records: ',e)\n",
    "finally:\n",
    "    cur.close()\n",
    "    db_connection.close()\n",
    "    print('database closed')"
   ]
  }
 ],
 "metadata": {
  "interpreter": {
   "hash": "c347c8f9a7ef94e4c9e03b4513be7835ed18f45b99a2a817fb579f408b867b16"
  },
  "kernelspec": {
   "display_name": "Python 3.9.7 64-bit",
   "language": "python",
   "name": "python3"
  },
  "language_info": {
   "codemirror_mode": {
    "name": "ipython",
    "version": 3
   },
   "file_extension": ".py",
   "mimetype": "text/x-python",
   "name": "python",
   "nbconvert_exporter": "python",
   "pygments_lexer": "ipython3",
   "version": "3.9.7"
  },
  "orig_nbformat": 4
 },
 "nbformat": 4,
 "nbformat_minor": 2
}
