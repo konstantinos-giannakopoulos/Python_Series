{
 "cells": [
  {
   "cell_type": "markdown",
   "metadata": {},
   "source": [
    "#\n",
    "># Demo_2_Python_Fundamentals\n",
    ">#\n",
    ">1. Structure of Python Program\n",
    ">    1. Example\n",
    ">    2. Common Errors\n",
    ">2. Objects\n",
    ">    1. Pass by Object Reference\n",
    ">    2. Checking the memory address of the object\n",
    ">3. Data Types\n",
    ">    1. General\n",
    ">    2. Boolean - Logical Operators\n",
    ">    3. Integer, Float, Complex - Numeric Operators\n",
    ">    4. String Formatters \n",
    ">       1. Interactive way - using Placeholders.\n",
    ">       2. Dynamic Applications for placeholders\n",
    ">    5. String Manipulation\n",
    ">       1. Split\n",
    ">       2. Slicing and Striding\n",
    ">       3. Reversing\n",
    ">       4. Regular Expressions\n",
    ">       5. Lower, Strip, Replace, Find\n",
    ">       6. String Comparison\n",
    ">    6. Working with Dates\n",
    ">4. Python as a Calculator\n",
    ">#"
   ]
  },
  {
   "cell_type": "markdown",
   "metadata": {},
   "source": [
    "## 1. Structure of Python Program"
   ]
  },
  {
   "cell_type": "markdown",
   "metadata": {},
   "source": [
    "### The Python Conceptual Hierarchy\n",
    "\n",
    "Python programs can be decomposed into modules, statements, expressions, and objects, as follows: \n",
    "- Programs are composed of modules. \n",
    "- Modules contain statements. \n",
    "- Statements contain expressions.\n",
    "\n",
    "<br />**Module:** A  file containing Python definitions and statements. The file name is the module name with the suffix .py appended. \n",
    "<br />A Python module is a file containing Python definitions and statements. \n",
    "<br />A module can define functions, classes, and variables. A module can also include runnable code. Grouping related code into a module makes the code easier to understand and use.\n",
    "\n",
    "**Statements:** \n",
    "- Statements that are intended to initialize the module. They are executed only the first time the module name is encountered in an import statement.\n",
    "<br />e.g.The import statement syntax is: import modulename\n",
    "- A statement is an instruction that a Python interpreter can execute.\n",
    "\n",
    "**Expressions:** A combination of operators and operands (a,b,P,Q) that is interpreted to produce some other value.\n",
    "- Arithmetic (Integral, Floating): a (+, -, *, /) b \n",
    "- Relational: a (> , < , >= , <=, ==) b\n",
    "- Logical: P (and, or, not) Q \n",
    "- Bitwise: a (>>, <<) b\n",
    "- Combinational \n",
    "\n",
    "**Objects:** Objects are combined into expressions through operators.\n",
    "<br />Python’s Core Data Types: Numbers, Strings, Lists, Dictionaries, Tuples, sets, Files, Booleans, None, types, Functions, modules, classes, Compiled code, stack tracebacks\n",
    "\n",
    "References: \n",
    "<br />https://docs.python.org/3/tutorial/modules.html\n",
    "<br />https://www.oreilly.com/library/view/learning-python-4th/9780596805395/ch04.html\n",
    "\n",
    "**Executing modules as scripts**. <br />\n",
    "When you run a Python module with: &nbsp;&nbsp;&nbsp;  *python fibo.py [arguments]*\n",
    "\n",
    "**Packages** are a way of structuring Python’s module namespace by using “dotted module names”. <br />\n",
    "For example, the module name **A.B** designates a submodule named B in a package named A.\n"
   ]
  },
  {
   "cell_type": "markdown",
   "metadata": {},
   "source": [
    "### a) Example"
   ]
  },
  {
   "cell_type": "code",
   "execution_count": 6,
   "metadata": {},
   "outputs": [
    {
     "name": "stdout",
     "output_type": "stream",
     "text": [
      "---------- Method 1 ----------\n",
      "Too low\n",
      "Too low\n",
      "Too low\n",
      "Too low\n",
      "Too low\n",
      "Right!\n",
      "You took only 6 tries!\n"
     ]
    }
   ],
   "source": [
    "'''\n",
    "Module that guesses the random number between 1 to 9\n",
    "'''\n",
    "# import library random\n",
    "import random \n",
    "\n",
    "print('-'*10, \"Method 1\", '-'*10) # statements\n",
    "\n",
    "# Assigning values to variables.\n",
    "rd = random.randint(1,9) # expressions\n",
    "guess = 0   \n",
    "c = 0       # object of type int\n",
    "\n",
    "while guess != rd and guess != \"exit\": # while block statement\n",
    "    guess = input(\"Enter a guess between 1 to 9: \")\n",
    "\n",
    "    if guess == \"exit\": # if block statement\n",
    "        break\n",
    "\n",
    "    guess = int(guess) \n",
    "    c += 1\n",
    "\n",
    "    if guess < rd: # if-elif-else block statement\n",
    "        print(\"Too low\")\n",
    "    elif guess > rd:\n",
    "        print(\"Too high\")\n",
    "    else:\n",
    "        print(\"Right!\")\n",
    "        print(\"You took only\", c, \"tries!\")"
   ]
  },
  {
   "cell_type": "markdown",
   "metadata": {},
   "source": [
    "### b) Common Errors"
   ]
  },
  {
   "cell_type": "markdown",
   "metadata": {},
   "source": [
    "!!! Case Sensitive error "
   ]
  },
  {
   "cell_type": "code",
   "execution_count": 2,
   "metadata": {},
   "outputs": [
    {
     "ename": "NameError",
     "evalue": "name 'name' is not defined",
     "output_type": "error",
     "traceback": [
      "\u001b[1;31m---------------------------------------------------------------------------\u001b[0m",
      "\u001b[1;31mNameError\u001b[0m                                 Traceback (most recent call last)",
      "\u001b[1;32mc:\\Users\\Konstantinos\\OneDrive - FDM Group\\Courses\\My_Version\\Data_Engineering\\Software_Development\\Python_APAC\\TechOps_Batch\\Day_1_Monday\\Demo_2_Python_Fundamentals.ipynb Cell 5'\u001b[0m in \u001b[0;36m<cell line: 3>\u001b[1;34m()\u001b[0m\n\u001b[0;32m      <a href='vscode-notebook-cell:/c%3A/Users/Konstantinos/OneDrive%20-%20FDM%20Group/Courses/My_Version/Data_Engineering/Software_Development/Python_APAC/TechOps_Batch/Day_1_Monday/Demo_2_Python_Fundamentals.ipynb#ch0000052?line=0'>1</a>\u001b[0m \u001b[39m# python is case sensitive\u001b[39;00m\n\u001b[0;32m      <a href='vscode-notebook-cell:/c%3A/Users/Konstantinos/OneDrive%20-%20FDM%20Group/Courses/My_Version/Data_Engineering/Software_Development/Python_APAC/TechOps_Batch/Day_1_Monday/Demo_2_Python_Fundamentals.ipynb#ch0000052?line=1'>2</a>\u001b[0m Name\u001b[39m=\u001b[39m\u001b[39m'\u001b[39m\u001b[39mHamsi\u001b[39m\u001b[39m'\u001b[39m\n\u001b[1;32m----> <a href='vscode-notebook-cell:/c%3A/Users/Konstantinos/OneDrive%20-%20FDM%20Group/Courses/My_Version/Data_Engineering/Software_Development/Python_APAC/TechOps_Batch/Day_1_Monday/Demo_2_Python_Fundamentals.ipynb#ch0000052?line=2'>3</a>\u001b[0m \u001b[39mprint\u001b[39m(name)\n",
      "\u001b[1;31mNameError\u001b[0m: name 'name' is not defined"
     ]
    }
   ],
   "source": [
    "# python is case sensitive\n",
    "Name='Hamsi'\n",
    "print(name)"
   ]
  },
  {
   "cell_type": "markdown",
   "metadata": {},
   "source": [
    "!!! Indentation error"
   ]
  },
  {
   "cell_type": "code",
   "execution_count": 4,
   "metadata": {},
   "outputs": [
    {
     "ename": "IndentationError",
     "evalue": "unexpected indent (3652580789.py, line 3)",
     "output_type": "error",
     "traceback": [
      "\u001b[1;36m  Input \u001b[1;32mIn [4]\u001b[1;36m\u001b[0m\n\u001b[1;33m    print(Name)\u001b[0m\n\u001b[1;37m    ^\u001b[0m\n\u001b[1;31mIndentationError\u001b[0m\u001b[1;31m:\u001b[0m unexpected indent\n"
     ]
    }
   ],
   "source": [
    "# whitespace significant\n",
    "Name='Hamsi'\n",
    " print(Name)"
   ]
  },
  {
   "cell_type": "markdown",
   "metadata": {},
   "source": [
    "\n",
    "## 2. Objects\n",
    "### a) Pass by Object Reference\n",
    "\n",
    "1. By reference means that the argument you're passing to the function is **a reference to an object** that already exists in memory rather than an independent copy of that object.\n",
    "2. Data types can be **mutable**, or **immutable**\n"
   ]
  },
  {
   "cell_type": "markdown",
   "metadata": {},
   "source": [
    "#\n",
    "###  Python parameters are passed by object reference.\n",
    "#\n",
    "\n",
    "[Reference Link: Python Doc](https://docs.python.org/3/faq/programming.html#how-do-i-write-a-function-with-output-parameters-call-by-reference)\n"
   ]
  },
  {
   "cell_type": "markdown",
   "metadata": {},
   "source": [
    "Case 1: **Lists are mutable**, i.e. we can change their content, so appending an element to y changes x too."
   ]
  },
  {
   "cell_type": "code",
   "execution_count": 7,
   "metadata": {},
   "outputs": [
    {
     "name": "stdout",
     "output_type": "stream",
     "text": [
      "[10] [10]\n"
     ]
    }
   ],
   "source": [
    "# Lists are mutable\n",
    "x = []  # new object\n",
    "y = x   # assignment\n",
    "y.append(10) \n",
    "print(x,y)   # The value of list x changes also!"
   ]
  },
  {
   "cell_type": "markdown",
   "metadata": {},
   "source": [
    "Case 2: **Ints are immutable**, i.e. their value cannot change. A new object is created here."
   ]
  },
  {
   "cell_type": "code",
   "execution_count": 8,
   "metadata": {},
   "outputs": [
    {
     "name": "stdout",
     "output_type": "stream",
     "text": [
      "6 5\n"
     ]
    }
   ],
   "source": [
    "# ints are immutable\n",
    "x = 5  \n",
    "y = x    # new object\n",
    "x = x + 1   # 5 can't be mutated, we are creating a new object here\n",
    "print(x,y)  # The value of int y remains the same."
   ]
  },
  {
   "cell_type": "markdown",
   "metadata": {},
   "source": [
    "How do I write a function with output parameters (call by reference)?"
   ]
  },
  {
   "cell_type": "markdown",
   "metadata": {},
   "source": [
    "Way 1: By returning a tuple of the results:"
   ]
  },
  {
   "cell_type": "code",
   "execution_count": 9,
   "metadata": {},
   "outputs": [
    {
     "data": {
      "text/plain": [
       "('new-value', 100)"
      ]
     },
     "execution_count": 9,
     "metadata": {},
     "output_type": "execute_result"
    }
   ],
   "source": [
    "def func1(a, b):\n",
    "    a = 'new-value'        # a and b are local names\n",
    "    b = b + 1              # assigned to new objects\n",
    "    return a, b            # return new values\n",
    "\n",
    "x, y = 'old-value', 99\n",
    "func1(x, y)"
   ]
  },
  {
   "cell_type": "markdown",
   "metadata": {},
   "source": [
    "Way 2: By passing a mutable (changeable in-place) object:"
   ]
  },
  {
   "cell_type": "code",
   "execution_count": 10,
   "metadata": {},
   "outputs": [
    {
     "data": {
      "text/plain": [
       "['new-value', 100]"
      ]
     },
     "execution_count": 10,
     "metadata": {},
     "output_type": "execute_result"
    }
   ],
   "source": [
    "def func2(a):\n",
    "    a[0] = 'new-value'     # 'a' references a mutable list\n",
    "    a[1] = a[1] + 1        # changes a shared object\n",
    "\n",
    "args = ['old-value', 99]\n",
    "func2(args)\n",
    "args"
   ]
  },
  {
   "cell_type": "markdown",
   "metadata": {},
   "source": [
    "Way 3: By passing in a dictionary that gets mutated:"
   ]
  },
  {
   "cell_type": "code",
   "execution_count": 11,
   "metadata": {},
   "outputs": [
    {
     "data": {
      "text/plain": [
       "{'a': 'new-value', 'b': 100}"
      ]
     },
     "execution_count": 11,
     "metadata": {},
     "output_type": "execute_result"
    }
   ],
   "source": [
    "def func3(args):\n",
    "    args['a'] = 'new-value'     # args is a mutable dictionary\n",
    "    args['b'] = args['b'] + 1   # change it in-place\n",
    "\n",
    "args = {'a': 'old-value', 'b': 99}\n",
    "func3(args)\n",
    "args"
   ]
  },
  {
   "cell_type": "markdown",
   "metadata": {},
   "source": [
    "\n",
    "### b) Checking the memory address of the object\n"
   ]
  },
  {
   "cell_type": "code",
   "execution_count": 13,
   "metadata": {},
   "outputs": [
    {
     "name": "stdout",
     "output_type": "stream",
     "text": [
      "Initial address of n: 1559685195024\n",
      "Initial address of x: 1559685195024\n",
      "  Final address of x: 1559685195312\n",
      "  Final address of n: 1559685195024\n"
     ]
    }
   ],
   "source": [
    "def main():\n",
    "    n = 9001\n",
    "    print(f\"Initial address of n: {id(n)}\")\n",
    "    increment(n)    # this is the same object\n",
    "    print(f\"  Final address of n: {id(n)}\")\n",
    "\n",
    "def increment(x):\n",
    "    print(f\"Initial address of x: {id(x)}\")\n",
    "    x += 1          # new object is created\n",
    "    print(f\"  Final address of x: {id(x)}\")\n",
    "\n",
    "main()"
   ]
  },
  {
   "cell_type": "markdown",
   "metadata": {},
   "source": [
    "\n",
    "## 3. Data Types\n"
   ]
  },
  {
   "cell_type": "markdown",
   "metadata": {},
   "source": [
    "### a) General\n",
    "- Text \n",
    "    - String\n",
    "- Numeric\n",
    "    - Integer, Float, Complex, Fractions\n",
    "- Sequence -----------------------------\\\n",
    "    - List **[]**, Tuple **()**, Range &nbsp;&nbsp;&nbsp;&nbsp;&nbsp;&nbsp;&nbsp; &nbsp;&nbsp;&nbsp;&nbsp;&nbsp;&nbsp;&nbsp;&nbsp;\\\n",
    "- Set **{}** &nbsp; &nbsp; &nbsp; &nbsp; &nbsp;&nbsp; &nbsp;&nbsp; &nbsp; &nbsp; &nbsp; &nbsp; &nbsp; &nbsp; &nbsp;&nbsp; &nbsp; &nbsp; &nbsp; &nbsp; &nbsp; &nbsp; &nbsp;  &nbsp; &nbsp; &nbsp; &nbsp; &nbsp; ----> [Datastructures]\n",
    "- Mapping &nbsp; &nbsp; &nbsp; &nbsp; &nbsp; &nbsp; &nbsp; &nbsp; &nbsp; &nbsp; &nbsp; &nbsp; &nbsp; &nbsp; &nbsp; &nbsp; &nbsp; &nbsp; &nbsp; &nbsp; &nbsp; &nbsp; &nbsp;/\n",
    "    - Dictionary **{\"key\":\"value\",...}** &nbsp;&nbsp;/\n",
    "- Boolean -----------------------------/\n",
    "- Byte\n",
    "- Bytearray"
   ]
  },
  {
   "cell_type": "code",
   "execution_count": 14,
   "metadata": {},
   "outputs": [
    {
     "name": "stdout",
     "output_type": "stream",
     "text": [
      "<class 'str'>\n",
      "<class 'int'>\n",
      "<class 'float'>\n",
      "<class 'complex'>\n",
      "<class 'list'>\n",
      "<class 'tuple'>\n",
      "<class 'range'>\n",
      "<class 'dict'>\n",
      "<class 'set'>\n",
      "<class 'bool'>\n",
      "<class 'bytes'>\n",
      "<class 'bytearray'>\n"
     ]
    }
   ],
   "source": [
    "x = \"Hello World\" # str(\"\") - Text type\n",
    "print(type(x))\n",
    "x = 20 # int() - Numeric type\n",
    "print(type(x))\n",
    "x = 20.5 # float() - Numeric type\n",
    "print(type(x))\n",
    "x = 1j # complex() - Numeric type\n",
    "print(type(x))\n",
    "x = [\"apple\", \"banana\", \"cherry\"] # list[\"\",\"\",...] - Sequence type\n",
    "print(type(x))\n",
    "x = (\"apple\", \"banana\", \"cherry\") # tuple(\"\",\"\",...) - Sequence type\n",
    "print(type(x))\n",
    "x = range(6) # range() - Sequence type\n",
    "print(type(x))\n",
    "x = {\"name\" : \"John\", \"age\" : 36} # dictionary {\"key\":\"value\",...}  - Dictionary is a mapping type\n",
    "print(type(x))\n",
    "x = {\"apple\", \"banana\", \"cherry\"} # set{\"\",\"\",...}\n",
    "print(type(x))\n",
    "x = True # bool()\n",
    "print(type(x))\n",
    "x = b\"Hello\" # bytes()\n",
    "print(type(x))\n",
    "x = bytearray(5) # bytearray()\n",
    "print(type(x))"
   ]
  },
  {
   "cell_type": "markdown",
   "metadata": {},
   "source": [
    "### b) Boolean - Logical Operators\n",
    "- and\n",
    "- or\n",
    "- not"
   ]
  },
  {
   "cell_type": "code",
   "execution_count": 16,
   "metadata": {},
   "outputs": [
    {
     "data": {
      "text/plain": [
       "True"
      ]
     },
     "execution_count": 16,
     "metadata": {},
     "output_type": "execute_result"
    }
   ],
   "source": [
    "(True) and (True)"
   ]
  },
  {
   "cell_type": "code",
   "execution_count": 23,
   "metadata": {},
   "outputs": [
    {
     "name": "stdout",
     "output_type": "stream",
     "text": [
      "Code inside if statement\n"
     ]
    }
   ],
   "source": [
    "x=2\n",
    "if(x==2) and (x<5):\n",
    "    print(\"Code inside if statement\")\n",
    "else:\n",
    "    print(\"If statement is ignored\")"
   ]
  },
  {
   "cell_type": "code",
   "execution_count": 17,
   "metadata": {},
   "outputs": [
    {
     "data": {
      "text/plain": [
       "True"
      ]
     },
     "execution_count": 17,
     "metadata": {},
     "output_type": "execute_result"
    }
   ],
   "source": [
    "(True) or (True)"
   ]
  },
  {
   "cell_type": "code",
   "execution_count": 24,
   "metadata": {},
   "outputs": [
    {
     "name": "stdout",
     "output_type": "stream",
     "text": [
      "Code inside if statement\n"
     ]
    }
   ],
   "source": [
    "x=2\n",
    "if(x==2) or (x<5):\n",
    "    print(\"Code inside if statement\")\n",
    "else:\n",
    "    print(\"If statement is ignored\")"
   ]
  },
  {
   "cell_type": "code",
   "execution_count": 26,
   "metadata": {},
   "outputs": [
    {
     "data": {
      "text/plain": [
       "False"
      ]
     },
     "execution_count": 26,
     "metadata": {},
     "output_type": "execute_result"
    }
   ],
   "source": [
    "(True) and (False)"
   ]
  },
  {
   "cell_type": "code",
   "execution_count": 30,
   "metadata": {},
   "outputs": [
    {
     "data": {
      "text/plain": [
       "False"
      ]
     },
     "execution_count": 30,
     "metadata": {},
     "output_type": "execute_result"
    }
   ],
   "source": [
    "(False) and (True)"
   ]
  },
  {
   "cell_type": "code",
   "execution_count": 31,
   "metadata": {},
   "outputs": [
    {
     "name": "stdout",
     "output_type": "stream",
     "text": [
      "If statement is ignored\n"
     ]
    }
   ],
   "source": [
    "x=3\n",
    "if(x==2) and (x<5):\n",
    "    print(\"Code inside if statement\")\n",
    "else:\n",
    "    print(\"If statement is ignored\")"
   ]
  },
  {
   "cell_type": "code",
   "execution_count": 19,
   "metadata": {},
   "outputs": [
    {
     "data": {
      "text/plain": [
       "True"
      ]
     },
     "execution_count": 19,
     "metadata": {},
     "output_type": "execute_result"
    }
   ],
   "source": [
    "(True) or (False)"
   ]
  },
  {
   "cell_type": "code",
   "execution_count": 29,
   "metadata": {},
   "outputs": [
    {
     "name": "stdout",
     "output_type": "stream",
     "text": [
      "Code inside if statement\n"
     ]
    }
   ],
   "source": [
    "x=7\n",
    "if(x<10) or (x<5):\n",
    "    print(\"Code inside if statement\")\n",
    "else:\n",
    "    print(\"If statement is ignored\")"
   ]
  },
  {
   "cell_type": "markdown",
   "metadata": {},
   "source": [
    "### c) Integer, Float, Complex - Numeric Operators"
   ]
  },
  {
   "cell_type": "code",
   "execution_count": 35,
   "metadata": {},
   "outputs": [
    {
     "name": "stdout",
     "output_type": "stream",
     "text": [
      "1.5\n"
     ]
    }
   ],
   "source": [
    "#Example code: integers\n",
    "int_var1=3\n",
    "int_var2=2\n",
    "print(int_var1/int_var2)"
   ]
  },
  {
   "cell_type": "code",
   "execution_count": 39,
   "metadata": {},
   "outputs": [
    {
     "name": "stdout",
     "output_type": "stream",
     "text": [
      "1.6296000000000002\n",
      "type cast to int:  1\n"
     ]
    }
   ],
   "source": [
    "#Example code: floats\n",
    "float_var1=3.5436\n",
    "float_var2=1.914\n",
    "float_subtraction = float_var1-float_var2\n",
    "print(float_subtraction)\n",
    "print(\"type cast to int: \", (int(float_subtraction)))"
   ]
  },
  {
   "cell_type": "code",
   "execution_count": 37,
   "metadata": {},
   "outputs": [
    {
     "name": "stdout",
     "output_type": "stream",
     "text": [
      "(35+2j)\n"
     ]
    }
   ],
   "source": [
    "#Example code: complex numbers\n",
    "complex_var=2j\n",
    "complex_var1=35\n",
    "print(complex_var + complex_var1)"
   ]
  },
  {
   "cell_type": "markdown",
   "metadata": {},
   "source": [
    "### e) String Manipulation\n",
    "String: \n",
    "<br />An immutable sequence of Unicode characters. \n",
    "<br />Or, a contiguous set of characters represented in the quotation marks.\n",
    "* They are indexable\n",
    "* They are iteratable\n",
    "* They can be defined with either single or double quotes\n"
   ]
  },
  {
   "cell_type": "code",
   "execution_count": 11,
   "metadata": {},
   "outputs": [
    {
     "name": "stdout",
     "output_type": "stream",
     "text": [
      "This is a test.\n",
      "s\n",
      "This is a test. TEST\n"
     ]
    }
   ],
   "source": [
    "#String and String functions\n",
    "testString=\"This is a test.\"\n",
    "print(testString)      # Prints complete string\n",
    "print(testString[3])   # Prints the 4th character of the string\n",
    "print(testString + \" TEST\")  # Prints concatenated string"
   ]
  },
  {
   "cell_type": "code",
   "execution_count": 61,
   "metadata": {},
   "outputs": [
    {
     "name": "stdout",
     "output_type": "stream",
     "text": [
      "My name is 'Kostas'\n"
     ]
    }
   ],
   "source": [
    "profile=\"My name is 'Kostas'\"\n",
    "print(profile)"
   ]
  },
  {
   "cell_type": "code",
   "execution_count": 62,
   "metadata": {},
   "outputs": [
    {
     "name": "stdout",
     "output_type": "stream",
     "text": [
      "My name is \"Kostas\"\n"
     ]
    }
   ],
   "source": [
    "profile='My name is \"Kostas\"'\n",
    "print(profile)"
   ]
  },
  {
   "cell_type": "code",
   "execution_count": 63,
   "metadata": {},
   "outputs": [
    {
     "ename": "SyntaxError",
     "evalue": "invalid syntax (962442801.py, line 2)",
     "output_type": "error",
     "traceback": [
      "\u001b[1;36m  Input \u001b[1;32mIn [63]\u001b[1;36m\u001b[0m\n\u001b[1;33m    profile=\"My name is \"Kostas\"\"\u001b[0m\n\u001b[1;37m                         ^\u001b[0m\n\u001b[1;31mSyntaxError\u001b[0m\u001b[1;31m:\u001b[0m invalid syntax\n"
     ]
    }
   ],
   "source": [
    "# error with quotes\n",
    "profile=\"My name is \"Kostas\"\"\n",
    "print(profile)"
   ]
  },
  {
   "cell_type": "markdown",
   "metadata": {},
   "source": [
    "Split()"
   ]
  },
  {
   "cell_type": "code",
   "execution_count": 64,
   "metadata": {},
   "outputs": [
    {
     "name": "stdout",
     "output_type": "stream",
     "text": [
      "On splitting \"This is a test\", I get \"['This', 'is', 'a', 'test']\"\n"
     ]
    }
   ],
   "source": [
    "testString=\"This is a test\"\n",
    "#split the string into words based on space\n",
    "result=testString.split()\n",
    "print(result)\n",
    "#format for string\n",
    "print('On splitting \"%s\", I get \"%s\"'%(testString,result))"
   ]
  },
  {
   "cell_type": "code",
   "execution_count": 65,
   "metadata": {},
   "outputs": [
    {
     "name": "stdout",
     "output_type": "stream",
     "text": [
      "On splitting \"This is a test\", based on \"t\",  I get \"['This is a ', 'es', '']\"\n"
     ]
    }
   ],
   "source": [
    "result2=testString.split('t')\n",
    "print('On splitting \"%s\", based on \"t\",  I get \"%s\"'%(testString,result2))"
   ]
  },
  {
   "cell_type": "code",
   "execution_count": 66,
   "metadata": {},
   "outputs": [
    {
     "name": "stdout",
     "output_type": "stream",
     "text": [
      "I love dogs and cats\n",
      "I love dogs and cats\n",
      "I love dogs and cats\n"
     ]
    }
   ],
   "source": [
    "a='dogs'\n",
    "b='cats'\n",
    "print('I love %s and %s'%(a,b))\n",
    "print(f'I love {a} and {b}')\n",
    "print('I love {} and {}'.format(a,b))"
   ]
  },
  {
   "cell_type": "markdown",
   "metadata": {},
   "source": [
    "Slicing and Striding\n",
    "\n",
    "Striding:\n",
    "<br /> Where start describes where the slice starts (inclusive), end is where it ends (exclusive), and stride describes the space between items in the sliced ​​list . \n",
    "<br /> For example, a stride of 2 would select every other item from the original list to place in the sliced ​​list."
   ]
  },
  {
   "cell_type": "code",
   "execution_count": 9,
   "metadata": {},
   "outputs": [
    {
     "name": "stdout",
     "output_type": "stream",
     "text": [
      "a\n",
      "slicing from 1st to 3rd:  I a\n",
      "slicing from 5th to 8th:   Tra\n",
      "slicing from 3rd:  am Trainer\n",
      "Ia rie\n",
      " mTanr\n"
     ]
    }
   ],
   "source": [
    "#slicing and striding\n",
    "c='I am Trainer'\n",
    "print(c[2]) # # Prints 3rd character of the string\n",
    "# slicing\n",
    "print('slicing from 1st to 3rd: ',c[0:3]) # Prints characters starting from 1st to 3rd\n",
    "print('slicing from 5th to 8th: ',c[4:8]) # Prints characters starting from 5th to 8th\n",
    "print('slicing from 3rd: ',c[2:])         # Prints string starting from 3rd character\n",
    "\n",
    "# striding\n",
    "print(c[::2])  # I*a* *r*i*e*\n",
    "print(c[1::2])  # * *m*T*a*n*r"
   ]
  },
  {
   "cell_type": "markdown",
   "metadata": {},
   "source": [
    "Reversing"
   ]
  },
  {
   "cell_type": "code",
   "execution_count": 68,
   "metadata": {},
   "outputs": [
    {
     "name": "stdout",
     "output_type": "stream",
     "text": [
      "reniarT ma I\n",
      "Trainer am I\n"
     ]
    }
   ],
   "source": [
    "print(c[::-1]) # scope resultion operator\n",
    "#reversing a string\n",
    "\n",
    "c=c.split()\n",
    "c=\" \".join(c[::-1]) # reverse as words\n",
    "print(c)"
   ]
  },
  {
   "cell_type": "markdown",
   "metadata": {},
   "source": [
    "Regular Expressions"
   ]
  },
  {
   "cell_type": "code",
   "execution_count": 69,
   "metadata": {},
   "outputs": [
    {
     "name": "stdout",
     "output_type": "stream",
     "text": [
      "['Hello', 'world', '', 'uiui', 'foo', '']\n"
     ]
    }
   ],
   "source": [
    "line='Hello, world ; uiui, foo;'\n",
    "#eliminate , and ; using; split\n",
    "import re # regular expression\n",
    "words=re.split(r'[;,\\s]\\s*', line)\n",
    "print(words)"
   ]
  },
  {
   "cell_type": "markdown",
   "metadata": {},
   "source": [
    "lower(), strip(), replace(), find()"
   ]
  },
  {
   "cell_type": "code",
   "execution_count": 70,
   "metadata": {},
   "outputs": [
    {
     "name": "stdout",
     "output_type": "stream",
     "text": [
      "kostas\n",
      "6\n",
      "True\n",
      "I am a Trainer\n",
      "kkostas\n",
      "False\n",
      "4\n",
      "Kostas\n",
      "kostas\n"
     ]
    }
   ],
   "source": [
    "#Other String functions\n",
    "name='Kostas'\n",
    "print(name.lower()) # converts to lower case\n",
    "name1=name.lower()\n",
    "print(len(name)) # returns length of string\n",
    "print(name.isalpha()) # checks if it is aplha\n",
    "profile=\"    I am a Trainer\"\n",
    "print(profile.strip()) # strips the whitespaces\n",
    "print(name.replace('K','kk')) #  replace H by hh\n",
    "print(profile.isspace()) # check profile is space\n",
    "print(name.find('a')) # returns index os letter to be found\n",
    "print(name) # original string is unaffected in pool and so cannot mutate\n",
    "# transformations does not affect the original string\n",
    "print(name1)"
   ]
  },
  {
   "cell_type": "markdown",
   "metadata": {},
   "source": [
    "### d) String Formatters\n",
    "User Input Dynamically assign value to object."
   ]
  },
  {
   "cell_type": "code",
   "execution_count": 40,
   "metadata": {},
   "outputs": [
    {
     "name": "stdout",
     "output_type": "stream",
     "text": [
      "Please enter your age: \n",
      "<class 'str'>\n",
      "<class 'int'> after type casting\n",
      "Age less than 18\n"
     ]
    }
   ],
   "source": [
    "print(\"Please enter your age: \")\n",
    "age=input()\n",
    "print(type(age))\n",
    "age=int(age) # type casting: Convert the fetched string value to int.\n",
    "print(type(age), \"after type casting\")\n",
    "if age<18: # Logical operator returning Boolean value ()\n",
    "    print(\"Age less than 18\" ) # if True\n",
    "else:\n",
    "    print(\"Age greater than 18\") # if False"
   ]
  },
  {
   "cell_type": "markdown",
   "metadata": {},
   "source": [
    "1. Interactive way - using Placeholders."
   ]
  },
  {
   "cell_type": "markdown",
   "metadata": {},
   "source": [
    "Method 1 --> **{}**"
   ]
  },
  {
   "cell_type": "code",
   "execution_count": 41,
   "metadata": {},
   "outputs": [
    {
     "name": "stdout",
     "output_type": "stream",
     "text": [
      "20 products exist\n"
     ]
    }
   ],
   "source": [
    "'''\n",
    "interactive way - using placeholders\n",
    "Method 1 --> {}\n",
    "'''\n",
    "qty=int(input('Enter the quantity of products: '))\n",
    "print('{} products exist'.format(qty))"
   ]
  },
  {
   "cell_type": "code",
   "execution_count": 42,
   "metadata": {},
   "outputs": [
    {
     "name": "stdout",
     "output_type": "stream",
     "text": [
      "The value of myfloat is 35.75\n",
      "The value of myint is 35\n",
      "The value of myresult is 2.25\n"
     ]
    }
   ],
   "source": [
    "#float\n",
    "op1=12.3\n",
    "op2=23.45\n",
    "myfloat=op1+op2 # addition of 2 floats\n",
    "myint=int(myfloat)\n",
    "op3=9\n",
    "op4=4\n",
    "myresult=op3/op4 # division of two ints\n",
    "print('The value of myfloat is {:.2f}'.format(myfloat))\n",
    "print('The value of myint is {:d}'.format(myint))\n",
    "print('The value of myresult is {:.2f}'.format(myresult))"
   ]
  },
  {
   "cell_type": "markdown",
   "metadata": {},
   "source": [
    "Method 2 --> **%**"
   ]
  },
  {
   "cell_type": "code",
   "execution_count": 44,
   "metadata": {},
   "outputs": [
    {
     "name": "stdout",
     "output_type": "stream",
     "text": [
      "The value of myresult : 2\n",
      "The value of myfloat : 35.750000\n"
     ]
    }
   ],
   "source": [
    "'''\n",
    "using placeholders\n",
    "Method 2 --> %\n",
    "'''\n",
    "print('The value of myresult : %d'%myresult)\n",
    "print('The value of myfloat : %f'%myfloat)"
   ]
  },
  {
   "cell_type": "markdown",
   "metadata": {},
   "source": [
    "Method 3 ---> **f**"
   ]
  },
  {
   "cell_type": "code",
   "execution_count": 45,
   "metadata": {},
   "outputs": [
    {
     "name": "stdout",
     "output_type": "stream",
     "text": [
      "The value of myfloat is 35.750\n"
     ]
    }
   ],
   "source": [
    "'''\n",
    "using placeholders \n",
    "Method 2 --> f\n",
    "'''\n",
    "print(f'The value of myfloat is {myfloat:.3f}')"
   ]
  },
  {
   "cell_type": "code",
   "execution_count": 46,
   "metadata": {},
   "outputs": [
    {
     "name": "stdout",
     "output_type": "stream",
     "text": [
      "The division of 9 and 4 is 2.25\n"
     ]
    }
   ],
   "source": [
    "print('The division of {} and {} is {}'.format(op3,op4,myresult))"
   ]
  },
  {
   "cell_type": "markdown",
   "metadata": {},
   "source": [
    "2. Dynamic Applications for placeholders"
   ]
  },
  {
   "cell_type": "code",
   "execution_count": 56,
   "metadata": {},
   "outputs": [
    {
     "name": "stdout",
     "output_type": "stream",
     "text": [
      "Hello John Doe! Your total purchase cost is 53.44\n"
     ]
    }
   ],
   "source": [
    "#dynamic applications for placeholders\n",
    "data=(\"John\", \"Doe\", 53.44)\n",
    "format_string=\"Hello %s %s! Your total purchase cost is %s\"\n",
    "print(format_string%data)\n",
    "#Expected Output: Hello John Doe! Your total purchase cost is 53.44"
   ]
  },
  {
   "cell_type": "code",
   "execution_count": 57,
   "metadata": {},
   "outputs": [
    {
     "name": "stdout",
     "output_type": "stream",
     "text": [
      "Kostas scored 3 out 10 points\n"
     ]
    }
   ],
   "source": [
    "msg1=\"Kostas scored {} out {} points\"\n",
    "print(msg1.format(input(\"What is your score? \"), input(\"Out of ?\")))"
   ]
  },
  {
   "cell_type": "code",
   "execution_count": 59,
   "metadata": {},
   "outputs": [
    {
     "name": "stdout",
     "output_type": "stream",
     "text": [
      "Tom buys a red pencil\n"
     ]
    }
   ],
   "source": [
    "msg2=\"Tom {verb} a {adjective} {noun}\"\n",
    "verb=input(\"Enter the action (verb): \")\n",
    "print(msg2.format(verb=verb, adjective='red', noun=input(\"Enter the noun: \")))"
   ]
  },
  {
   "cell_type": "markdown",
   "metadata": {},
   "source": [
    "### f) Working with Dates"
   ]
  },
  {
   "cell_type": "markdown",
   "metadata": {},
   "source": [
    "### Using the Python datetime Module\n",
    "\n",
    "Constructor of a **datetime** object:\n",
    "\n",
    "class datetime.datetime(year, month, day, hour=0, minute=0, second=0, microsecond=0, tzinfo=None, *, fold=0)"
   ]
  },
  {
   "cell_type": "code",
   "execution_count": 33,
   "metadata": {},
   "outputs": [
    {
     "name": "stdout",
     "output_type": "stream",
     "text": [
      "date:  2022-05-31\n",
      "time:  15:50:42\n",
      "datetime:  2022-05-31 15:50:42\n"
     ]
    }
   ],
   "source": [
    "# By Giving integer values for year, month, day, hour, minute, second to date, time and datetime modules.\n",
    "from datetime import date, time, datetime\n",
    "dt_date = date(year=2022, month=5, day=31)\n",
    "print('date: ', dt_date)\n",
    "dt_time = time(hour=15, minute=50, second=42)\n",
    "print('time: ', dt_time)\n",
    "dt_datetime = datetime(year=2022, month=5, day=31, hour=15, minute=50, second=42)\n",
    "print('datetime: ', dt_datetime)"
   ]
  },
  {
   "cell_type": "markdown",
   "metadata": {},
   "source": [
    "### From String to datetime"
   ]
  },
  {
   "cell_type": "code",
   "execution_count": 34,
   "metadata": {},
   "outputs": [
    {
     "name": "stdout",
     "output_type": "stream",
     "text": [
      "Month name is:  June\n",
      "Month number is:  06\n"
     ]
    }
   ],
   "source": [
    "# from string to datetime\n",
    "from datetime import datetime\n",
    "date_string = '24/06/1987'\n",
    "print('Month name is: ', datetime.strptime(date_string, \"%d/%m/%Y\").strftime(\"%B\")) # show the name of the month\n",
    "print('Month number is: ', datetime.strptime(date_string, \"%d/%m/%Y\").strftime(\"%m\")) # get the number of the month"
   ]
  },
  {
   "cell_type": "markdown",
   "metadata": {},
   "source": [
    "### Timezones"
   ]
  },
  {
   "cell_type": "code",
   "execution_count": 19,
   "metadata": {},
   "outputs": [
    {
     "name": "stdout",
     "output_type": "stream",
     "text": [
      "Defaulting to user installation because normal site-packages is not writeable\n",
      "Requirement already satisfied: pytz in c:\\users\\konstantinos.giannak\\appdata\\roaming\\python\\python39\\site-packages (2022.1)\n",
      "Note: you may need to restart the kernel to use updated packages.\n"
     ]
    }
   ],
   "source": [
    "# Install pytz module if not installed\n",
    "%pip install pytz "
   ]
  },
  {
   "cell_type": "code",
   "execution_count": 29,
   "metadata": {},
   "outputs": [
    {
     "name": "stdout",
     "output_type": "stream",
     "text": [
      "Timezone naive: 2022-05-04 14:21:56.331490\n",
      "Timezone Aware: 2022-05-04 06:21:56.331490+00:00\n",
      "HK DateTime 2022-05-04 14:21:56.331490+08:00\n",
      "US Central DateTime 2022-05-04 01:21:56.331490-05:00\n"
     ]
    }
   ],
   "source": [
    "from datetime import datetime\n",
    "import pytz\n",
    "\n",
    "# current Datetime\n",
    "unaware = datetime.now()\n",
    "print('Timezone naive:', unaware)\n",
    "\n",
    "# Standard UTC timezone aware Datetime\n",
    "aware = datetime.now(pytz.utc)\n",
    "print('Timezone Aware:', aware)\n",
    "\n",
    "# HK timezone datetime\n",
    "aware_hk = datetime.now(pytz.timezone('Asia/Hong_Kong'))\n",
    "print('HK DateTime', aware_hk)\n",
    "\n",
    "# US/Central timezone datetime\n",
    "aware_us_central = datetime.now(pytz.timezone('US/Central'))\n",
    "print('US Central DateTime', aware_us_central)"
   ]
  },
  {
   "cell_type": "markdown",
   "metadata": {},
   "source": [
    "## 4. Python as a Calculator"
   ]
  },
  {
   "cell_type": "code",
   "execution_count": 71,
   "metadata": {},
   "outputs": [
    {
     "name": "stdout",
     "output_type": "stream",
     "text": [
      "8.0\n",
      "4.0\n",
      "3.141592653589793\n",
      "120\n",
      "2\n",
      "2.718281828459045\n",
      "7.38905609893065\n",
      "4.0\n",
      "6\n"
     ]
    }
   ],
   "source": [
    "import math\n",
    "\n",
    "print(math.pow(2,3)) # 2^3\n",
    "print(math.sqrt(16))\n",
    "\n",
    "print(math.pi)\n",
    "print(math.factorial(5)) # 5! = 1*2*3*4*5\n",
    "print(math.floor(9/4))\n",
    "print(math.e)\n",
    "print(math.exp(2)) # e^2\n",
    "print(math.log2(16)) #lg 16 = 4\n",
    "\n",
    "print(math.perm(3,2)) # Returns the number of ways to choose k items from n items with order and without repetition"
   ]
  }
 ],
 "metadata": {
  "interpreter": {
   "hash": "8cb2474c42576a3606c9634037c9ef0ac64d9294c9ef3038e6307653057325e9"
  },
  "kernelspec": {
   "display_name": "Python 3.10.2 64-bit",
   "language": "python",
   "name": "python3"
  },
  "language_info": {
   "codemirror_mode": {
    "name": "ipython",
    "version": 3
   },
   "file_extension": ".py",
   "mimetype": "text/x-python",
   "name": "python",
   "nbconvert_exporter": "python",
   "pygments_lexer": "ipython3",
   "version": "3.9.7"
  },
  "orig_nbformat": 4
 },
 "nbformat": 4,
 "nbformat_minor": 2
}
