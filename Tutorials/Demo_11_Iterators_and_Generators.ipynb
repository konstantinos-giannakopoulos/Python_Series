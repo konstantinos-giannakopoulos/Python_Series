{
 "cells": [
  {
   "cell_type": "markdown",
   "metadata": {},
   "source": [
    "#\n",
    "># Demo_1_Iterators_and_Generators\n",
    ">#\n",
    ">1. Iterators\n",
    ">2. Generators\n",
    ">#"
   ]
  },
  {
   "cell_type": "markdown",
   "metadata": {},
   "source": [
    "In python programming or any other programming language, **looping over** the sequence (or traversing) is the most common aspect. **While loops** and **for loops** are two loops in python that can handle most of the repeated tasks executed by programs. Iterating over sequences is so widespread that Python offers extra capabilities to make it easier and more efficient.\n",
    "\n",
    "One of the tools for traversing is **Iterators** and **Generators** in Python. This chapter kicks off our investigation of these tools. Now, let’s get started with Iterators and Generators in python. "
   ]
  },
  {
   "cell_type": "markdown",
   "metadata": {},
   "source": [
    "\n",
    "## 1. Iterators\n",
    "\n",
    "An **iterator** is an object which implements the iterator protocol , which means it consists of the methods such as \\_\\_iter\\_\\_() and \\_\\_next\\_\\_(). \n",
    "<br/>An iterator is an iterable object with a state so it remembers where it is during iteration.\n",
    "\n",
    "- \\_\\_init\\_\\_()\n",
    "- \\_\\_iter\\_\\_()\n",
    "- \\_\\_next\\_\\_()\n"
   ]
  },
  {
   "cell_type": "markdown",
   "metadata": {},
   "source": [
    "### a) Iterators we have seen so far.\n",
    "\n",
    "- over a String\n",
    "- over a list\n",
    "- over keys of a dictionary"
   ]
  },
  {
   "cell_type": "code",
   "execution_count": 9,
   "metadata": {},
   "outputs": [
    {
     "name": "stdout",
     "output_type": "stream",
     "text": [
      "<class 'str'>\n",
      "P\n",
      "y\n",
      "t\n",
      "h\n",
      "o\n",
      "n\n",
      "-----\n",
      "<class 'list'>\n",
      "2\n",
      "4\n",
      "6\n",
      "-----\n",
      "<class 'dict'>\n",
      "a\n",
      "b\n",
      "c\n"
     ]
    }
   ],
   "source": [
    "# String as an iterable\n",
    "myString = 'Python'\n",
    "print(type(myString))\n",
    "for i in myString:\n",
    "     print(i)\n",
    "\n",
    "print('-----')\n",
    "\n",
    "# list as an iterable\n",
    "myList = [1, 2, 3]\n",
    "print(type(myList))\n",
    "for i in myList:\n",
    "     print(str(i*2))\n",
    "\n",
    "print('-----')\n",
    "\n",
    "# dictionary as an iterable\n",
    "myDictionary = {\"a\":1, \"b\":2, \"c\":3}\n",
    "print(type(myDictionary))\n",
    "for i in myDictionary:\n",
    "     print(i)"
   ]
  },
  {
   "cell_type": "code",
   "execution_count": 10,
   "metadata": {},
   "outputs": [
    {
     "name": "stdout",
     "output_type": "stream",
     "text": [
      "<class 'list'>\n",
      "<list_iterator object at 0x000002D52262DFA0>\n",
      "1\n",
      "2\n",
      "3\n"
     ]
    },
    {
     "ename": "StopIteration",
     "evalue": "",
     "output_type": "error",
     "traceback": [
      "\u001b[1;31m---------------------------------------------------------------------------\u001b[0m",
      "\u001b[1;31mStopIteration\u001b[0m                             Traceback (most recent call last)",
      "\u001b[1;32mc:\\Users\\Konstantinos.Giannak\\OneDrive - FDM Group\\Courses\\My_Version\\Data_Engineering\\Software_Development\\Python_APAC\\2. Advanced Python\\Day_1_Monday\\Demo_1_Iterators_and_Generators.ipynb Cell 6'\u001b[0m in \u001b[0;36m<cell line: 9>\u001b[1;34m()\u001b[0m\n\u001b[0;32m      <a href='vscode-notebook-cell:/c%3A/Users/Konstantinos.Giannak/OneDrive%20-%20FDM%20Group/Courses/My_Version/Data_Engineering/Software_Development/Python_APAC/2.%20Advanced%20Python/Day_1_Monday/Demo_1_Iterators_and_Generators.ipynb#ch0000005?line=6'>7</a>\u001b[0m \u001b[39mprint\u001b[39m(\u001b[39mnext\u001b[39m(it)) \u001b[39m# 2\u001b[39;00m\n\u001b[0;32m      <a href='vscode-notebook-cell:/c%3A/Users/Konstantinos.Giannak/OneDrive%20-%20FDM%20Group/Courses/My_Version/Data_Engineering/Software_Development/Python_APAC/2.%20Advanced%20Python/Day_1_Monday/Demo_1_Iterators_and_Generators.ipynb#ch0000005?line=7'>8</a>\u001b[0m \u001b[39mprint\u001b[39m(\u001b[39mnext\u001b[39m(it)) \u001b[39m# 3\u001b[39;00m\n\u001b[1;32m----> <a href='vscode-notebook-cell:/c%3A/Users/Konstantinos.Giannak/OneDrive%20-%20FDM%20Group/Courses/My_Version/Data_Engineering/Software_Development/Python_APAC/2.%20Advanced%20Python/Day_1_Monday/Demo_1_Iterators_and_Generators.ipynb#ch0000005?line=8'>9</a>\u001b[0m \u001b[39mprint\u001b[39m(\u001b[39mnext\u001b[39;49m(it))\n",
      "\u001b[1;31mStopIteration\u001b[0m: "
     ]
    }
   ],
   "source": [
    "myList = [1, 2, 3]\n",
    "print(type(myList))\n",
    "it = iter(myList)\n",
    "print(it)\n",
    "\n",
    "print(next(it)) # 1\n",
    "print(next(it)) # 2\n",
    "print(next(it)) # 3\n",
    "print(next(it)) # StopIteration Exception"
   ]
  },
  {
   "cell_type": "markdown",
   "metadata": {},
   "source": [
    "### Checking whether an object is Iterable or not.\n",
    "\n",
    "An object is called an iterable if you can get an iterator out of it.\n",
    "\n",
    "A simpler way to determine whether an object is iterable is to check if it supports \\_\\_iter\\_\\_, by using the function named **dir()**.\n",
    "<br/>It returns the list of attributes and methods supported by an object, and by seeing all attributes and methods."
   ]
  },
  {
   "cell_type": "code",
   "execution_count": 11,
   "metadata": {},
   "outputs": [
    {
     "data": {
      "text/plain": [
       "['__add__',\n",
       " '__class__',\n",
       " '__contains__',\n",
       " '__delattr__',\n",
       " '__dir__',\n",
       " '__doc__',\n",
       " '__eq__',\n",
       " '__format__',\n",
       " '__ge__',\n",
       " '__getattribute__',\n",
       " '__getitem__',\n",
       " '__getnewargs__',\n",
       " '__gt__',\n",
       " '__hash__',\n",
       " '__init__',\n",
       " '__init_subclass__',\n",
       " '__iter__',\n",
       " '__le__',\n",
       " '__len__',\n",
       " '__lt__',\n",
       " '__mod__',\n",
       " '__mul__',\n",
       " '__ne__',\n",
       " '__new__',\n",
       " '__reduce__',\n",
       " '__reduce_ex__',\n",
       " '__repr__',\n",
       " '__rmod__',\n",
       " '__rmul__',\n",
       " '__setattr__',\n",
       " '__sizeof__',\n",
       " '__str__',\n",
       " '__subclasshook__',\n",
       " 'capitalize',\n",
       " 'casefold',\n",
       " 'center',\n",
       " 'count',\n",
       " 'encode',\n",
       " 'endswith',\n",
       " 'expandtabs',\n",
       " 'find',\n",
       " 'format',\n",
       " 'format_map',\n",
       " 'index',\n",
       " 'isalnum',\n",
       " 'isalpha',\n",
       " 'isascii',\n",
       " 'isdecimal',\n",
       " 'isdigit',\n",
       " 'isidentifier',\n",
       " 'islower',\n",
       " 'isnumeric',\n",
       " 'isprintable',\n",
       " 'isspace',\n",
       " 'istitle',\n",
       " 'isupper',\n",
       " 'join',\n",
       " 'ljust',\n",
       " 'lower',\n",
       " 'lstrip',\n",
       " 'maketrans',\n",
       " 'partition',\n",
       " 'removeprefix',\n",
       " 'removesuffix',\n",
       " 'replace',\n",
       " 'rfind',\n",
       " 'rindex',\n",
       " 'rjust',\n",
       " 'rpartition',\n",
       " 'rsplit',\n",
       " 'rstrip',\n",
       " 'split',\n",
       " 'splitlines',\n",
       " 'startswith',\n",
       " 'strip',\n",
       " 'swapcase',\n",
       " 'title',\n",
       " 'translate',\n",
       " 'upper',\n",
       " 'zfill']"
      ]
     },
     "execution_count": 11,
     "metadata": {},
     "output_type": "execute_result"
    }
   ],
   "source": [
    "myString = 'Python'\n",
    "dir(myString) # we can find the __iter__"
   ]
  },
  {
   "cell_type": "markdown",
   "metadata": {},
   "source": [
    "### b) Creating my own iterator"
   ]
  },
  {
   "cell_type": "code",
   "execution_count": 12,
   "metadata": {},
   "outputs": [],
   "source": [
    "#iterators\n",
    "# Creating a new object\n",
    "class myrange:\n",
    "    def __init__ (self,n):\n",
    "        self.startpoint=4\n",
    "        self.endpoint=n\n",
    "\n",
    "    def __iter__ (self):\n",
    "        return self\n",
    "    def __next__ (self):\n",
    "        if self.startpoint<self.endpoint:\n",
    "            i=self.startpoint\n",
    "            self.startpoint+=4\n",
    "            return i\n",
    "        else:\n",
    "            raise StopIteration()"
   ]
  },
  {
   "cell_type": "code",
   "execution_count": 24,
   "metadata": {},
   "outputs": [
    {
     "name": "stdout",
     "output_type": "stream",
     "text": [
      "<class '__main__.myrange'>\n",
      "4\n",
      "8\n",
      "12\n",
      "16\n",
      "20\n",
      "24\n",
      "28\n",
      "32\n",
      "<__main__.myrange object at 0x000002D5238EF5E0>\n"
     ]
    }
   ],
   "source": [
    "my_range=myrange(36) \n",
    "#dir(my_range)\n",
    "print(type(my_range))\n",
    "print(next(my_range))\n",
    "print(next(my_range))\n",
    "print(next(my_range))\n",
    "print(next(my_range))\n",
    "print(next(my_range))\n",
    "print(next(my_range))\n",
    "print(next(my_range))\n",
    "print(next(my_range))\n",
    "#print(next(my_range))  # <--- StopIteration error()\n",
    "print(my_range)"
   ]
  },
  {
   "cell_type": "markdown",
   "metadata": {},
   "source": [
    "\n",
    "### Exercise: Generating multiples of 4"
   ]
  },
  {
   "cell_type": "code",
   "execution_count": 25,
   "metadata": {},
   "outputs": [
    {
     "name": "stdout",
     "output_type": "stream",
     "text": [
      "4\n",
      "8\n",
      "12\n",
      "16\n",
      "20\n",
      "24\n",
      "28\n",
      "32\n"
     ]
    }
   ],
   "source": [
    "my_range=myrange(36) # generating multiples of 4\n",
    "for i in my_range: # call to __iter__ is given which invokes __next__\n",
    "    print(i) \n",
    "\n",
    "#print(next(my_range)) # raise stopIteration as my_range reached the endpoint\n",
    "#\n",
    "#print(next(my_range))\n",
    "#print(next(my_range))\n",
    "#print(next(my_range))\n"
   ]
  },
  {
   "cell_type": "markdown",
   "metadata": {},
   "source": [
    "\n",
    "### Exercise: Reversing\n"
   ]
  },
  {
   "cell_type": "code",
   "execution_count": 26,
   "metadata": {},
   "outputs": [],
   "source": [
    "# Using pop function\n",
    "class reversing:\n",
    "    def __init__(self, rlist):\n",
    "        self.rlist=rlist\n",
    "    \n",
    "    def __iter__(self):\n",
    "        return self\n",
    "    \n",
    "    def __next__(self):\n",
    "        if len(self.rlist)>0:\n",
    "            return self.rlist.pop() # <---- Using pop function\n",
    "        else:\n",
    "            raise StopIteration()"
   ]
  },
  {
   "cell_type": "code",
   "execution_count": 28,
   "metadata": {},
   "outputs": [
    {
     "name": "stdout",
     "output_type": "stream",
     "text": [
      "[99, 88, 77, 66, 55, 44, 33]\n"
     ]
    }
   ],
   "source": [
    "\n",
    "reverse=reversing([33,44,55,66,77,88,99])\n",
    "\n",
    "reverse1=[]\n",
    "for i in reverse:\n",
    "    #print(i)\n",
    "    reverse1.append(i)\n",
    "\n",
    "print(reverse1)"
   ]
  },
  {
   "cell_type": "markdown",
   "metadata": {},
   "source": [
    "\n",
    "## 2. Generators\n",
    "\n",
    "Building an iterator in Python requires a significant amount of effort. We must create a class containing __iter__() and __next__() methods, keep track of internal states and raise StopIteration when no values are returned. This is both long and contradictory. In such cases\n",
    "\n",
    "\n",
    "Python has a generator that allows you to create your iterator function. A generator is somewhat of a function that returns an iterator object with a succession of values rather than a single item.\n",
    "\n",
    "A yield statement, rather than a return statement, is used in a generator function. \n",
    "\n",
    "The difference is that, although a return statement terminates a function completely, a yield statement pauses the function while storing all of its states and then continues from there on subsequent calls. \n",
    "\n",
    "yield continues with the loop whereas would terminate"
   ]
  },
  {
   "cell_type": "code",
   "execution_count": 47,
   "metadata": {},
   "outputs": [
    {
     "name": "stdout",
     "output_type": "stream",
     "text": [
      "<class 'generator'>\n",
      "5\n",
      "10\n",
      "15\n",
      "20\n"
     ]
    }
   ],
   "source": [
    "#generators -- they use yield, and yield continues with the loop whereas would terminate\n",
    "def customRange(n):\n",
    "    i = 5\n",
    "    while i < n:\n",
    "        yield i  \n",
    "        i += 5\n",
    "\n",
    "cr=customRange(25)\n",
    "print(type(cr))\n",
    "for i in cr:\n",
    "    print(i)\n",
    "\n",
    "#print(next(cr)) # 5\n",
    "#print(next(cr)) # 10\n",
    "#print(next(cr)) # 15\n",
    "#print(next(cr)) # 20\n",
    "#print(next(cr))\n",
    "#print(next(cr))"
   ]
  },
  {
   "cell_type": "markdown",
   "metadata": {},
   "source": [
    "\n",
    "### Exercise: Represent Instance\n",
    " "
   ]
  },
  {
   "cell_type": "code",
   "execution_count": 1,
   "metadata": {},
   "outputs": [],
   "source": [
    "class Represent_Instance:\n",
    "    # cls stands for the current class\n",
    "    # self -> the current object\n",
    "    def __new__(cls,a,b,c):\n",
    "        print('Setting up the object space for: ',Represent_Instance.__name__, Represent_Instance.__class__ )\n",
    "        return object.__new__(cls)\n",
    "    def __init__(self,a,b,c):\n",
    "        self.a=a\n",
    "        self.b=b\n",
    "        self.c=c\n",
    "    def __str__(self):\n",
    "        return str(self.a)+' '+str(self.b)+ ' '+str(self.c)\n",
    "    def __repr__(self):\n",
    "        return f'Represent_Instance(a={self.a}, b={self.b},c={self.c})'\n",
    "\n",
    "    "
   ]
  },
  {
   "cell_type": "code",
   "execution_count": 2,
   "metadata": {},
   "outputs": [
    {
     "name": "stdout",
     "output_type": "stream",
     "text": [
      "Setting up the object space for:  Represent_Instance <class 'type'>\n",
      "5 6 7\n"
     ]
    }
   ],
   "source": [
    "ri=Represent_Instance(5,6,7)\n",
    "print(ri)"
   ]
  },
  {
   "cell_type": "code",
   "execution_count": 3,
   "metadata": {},
   "outputs": [
    {
     "name": "stdout",
     "output_type": "stream",
     "text": [
      "2022-05-13 12:53:13.693100\n",
      "datetime.datetime(2022, 5, 13, 12, 53, 13, 693100)\n"
     ]
    }
   ],
   "source": [
    "#import datetime\n",
    "#today=datetime.datetime.now() # todays date & time\n",
    "\n",
    "from datetime import datetime\n",
    "today= datetime.now()\n",
    "print(str(today)) # call to __str__, the valuesof object is returned\n",
    "print(repr(today)) # call to __repr__  , an object is returned"
   ]
  },
  {
   "cell_type": "markdown",
   "metadata": {},
   "source": [
    "\n",
    "### Exercise: Cubes\n"
   ]
  },
  {
   "cell_type": "code",
   "execution_count": 4,
   "metadata": {},
   "outputs": [],
   "source": [
    "class cubes:\n",
    "    def __init__(self,start,stop):\n",
    "        self.start=start\n",
    "        self.stop=stop\n",
    "    \n",
    "    def __iter__(self):\n",
    "        for i in range(self.start,self.stop+1): # 1 to 4\n",
    "            yield i**3\n",
    "           "
   ]
  },
  {
   "cell_type": "code",
   "execution_count": 5,
   "metadata": {},
   "outputs": [
    {
     "name": "stdout",
     "output_type": "stream",
     "text": [
      "1\n",
      "8\n",
      "27\n",
      "64\n",
      "125\n"
     ]
    },
    {
     "data": {
      "text/plain": [
       "range(1, 5)"
      ]
     },
     "execution_count": 5,
     "metadata": {},
     "output_type": "execute_result"
    }
   ],
   "source": [
    "c1=iter(cubes(1,5))\n",
    "for i in c1:\n",
    "    print(i)\n",
    "\n",
    "range(1,5) #1 to 4"
   ]
  },
  {
   "cell_type": "code",
   "execution_count": null,
   "metadata": {},
   "outputs": [],
   "source": []
  }
 ],
 "metadata": {
  "interpreter": {
   "hash": "c347c8f9a7ef94e4c9e03b4513be7835ed18f45b99a2a817fb579f408b867b16"
  },
  "kernelspec": {
   "display_name": "Python 3.9.7 64-bit",
   "language": "python",
   "name": "python3"
  },
  "language_info": {
   "codemirror_mode": {
    "name": "ipython",
    "version": 3
   },
   "file_extension": ".py",
   "mimetype": "text/x-python",
   "name": "python",
   "nbconvert_exporter": "python",
   "pygments_lexer": "ipython3",
   "version": "3.9.7"
  },
  "orig_nbformat": 4
 },
 "nbformat": 4,
 "nbformat_minor": 2
}
