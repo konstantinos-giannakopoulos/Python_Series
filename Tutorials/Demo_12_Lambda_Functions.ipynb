{
 "cells": [
  {
   "cell_type": "markdown",
   "metadata": {},
   "source": [
    "#\n",
    "># Day 1 - Lambda Functions\n",
    ">\n",
    ">1) Defining a Lambda function (Anonymous function)\n",
    ">2) Map-Reduce-Filter\n",
    ">3) Advanced Examples\n",
    ">\n",
    ">[Reference Link](https://stackabuse.com/map-filter-and-reduce-in-python-with-examples/)"
   ]
  },
  {
   "cell_type": "markdown",
   "metadata": {},
   "source": [
    "\n",
    "## 1) Defining a Lambda function (Anonymous function)\n",
    "\n",
    "These functions are called anonymous because they are not declared in the standard manner by using the def keyword. You can use the **lambda** keyword to create small anonymous functions.\n",
    "\n",
    "Lambda forms can take any number of arguments but return just one value in the form of an expression. They cannot contain commands or multiple expressions.\n",
    "\n",
    "An anonymous function cannot be a direct call to print because lambda requires an expression\n",
    "\n",
    "Lambda functions have their own local namespace and cannot access variables other than those in their parameter list and those in the global namespace.\n",
    "\n",
    "Although it appears that lambda's are a one-line version of a function, they are not equivalent to inline statements in C or C++, whose purpose is by passing function stack allocation during invocation for performance reasons.\n",
    "\n",
    "The syntax of lambda functions contains only a single statement:\n",
    "\n",
    "**lambda *arguments*: *expression***\n",
    "lambda [arg1 [,arg2,.....argn]]:expression\n"
   ]
  },
  {
   "cell_type": "code",
   "execution_count": 1,
   "metadata": {},
   "outputs": [
    {
     "name": "stdout",
     "output_type": "stream",
     "text": [
      "Value of total :  30\n",
      "\n",
      "Value of total :  40\n"
     ]
    }
   ],
   "source": [
    "# Function definition is here\n",
    "sum = lambda arg1, arg2: arg1 + arg2;\n",
    "\n",
    "# Now you can call sum as a function\n",
    "print (\"Value of total : \", sum( 10, 20 ))\n",
    "print()\n",
    "print (\"Value of total : \", sum( 20, 20 ))"
   ]
  },
  {
   "cell_type": "markdown",
   "metadata": {},
   "source": [
    "\n",
    "### Example 1 - Multiply a given number by 2\n"
   ]
  },
  {
   "cell_type": "code",
   "execution_count": 1,
   "metadata": {},
   "outputs": [
    {
     "data": {
      "text/plain": [
       "66"
      ]
     },
     "execution_count": 1,
     "metadata": {},
     "output_type": "execute_result"
    }
   ],
   "source": [
    "#lambda \n",
    "# one line, anonymous function, can have multiple arguments\n",
    "# multiply the given number by 2\n",
    "given=lambda x:x*2 # defining lambda--> For any given number x, multiply x by 2\n",
    "given(int(input()))\n"
   ]
  },
  {
   "cell_type": "markdown",
   "metadata": {},
   "source": [
    "### Traditional approach"
   ]
  },
  {
   "cell_type": "code",
   "execution_count": 11,
   "metadata": {},
   "outputs": [
    {
     "name": "stdout",
     "output_type": "stream",
     "text": [
      "10\n"
     ]
    }
   ],
   "source": [
    "def multBy2(x):\n",
    "    return x*2\n",
    "\n",
    "a=multBy2(int(input(\"Enter a number: \")))\n",
    "print(a)"
   ]
  },
  {
   "cell_type": "markdown",
   "metadata": {},
   "source": [
    "\n",
    "### Example 2 - Find the square of a given number\n"
   ]
  },
  {
   "cell_type": "code",
   "execution_count": 12,
   "metadata": {},
   "outputs": [
    {
     "data": {
      "text/plain": [
       "25"
      ]
     },
     "execution_count": 12,
     "metadata": {},
     "output_type": "execute_result"
    }
   ],
   "source": [
    "#find the square of a given number using lambda\n",
    "given=lambda x:x**2 # defining lambda--> For any given number x, multiply x by 2\n",
    "given(int(input()))"
   ]
  },
  {
   "cell_type": "markdown",
   "metadata": {},
   "source": [
    "\n",
    "### Example 3 - Lambda with more than one argument\n"
   ]
  },
  {
   "cell_type": "code",
   "execution_count": 4,
   "metadata": {},
   "outputs": [
    {
     "data": {
      "text/plain": [
       "60"
      ]
     },
     "execution_count": 4,
     "metadata": {},
     "output_type": "execute_result"
    }
   ],
   "source": [
    "#lambda with more than one argument\n",
    "#multiply 3 arguments\n",
    "given=lambda x,y,z:x*y*z\n",
    "given(3,4,5)"
   ]
  },
  {
   "cell_type": "code",
   "execution_count": 5,
   "metadata": {},
   "outputs": [
    {
     "data": {
      "text/plain": [
       "True"
      ]
     },
     "execution_count": 5,
     "metadata": {},
     "output_type": "execute_result"
    }
   ],
   "source": [
    "# check if num >10 and <15 using lambda\n",
    "f=lambda num:num>10 and num<15\n",
    "f(13)"
   ]
  },
  {
   "cell_type": "markdown",
   "metadata": {},
   "source": [
    "\n",
    "### Example 4 - Find the factorial of a given number\n"
   ]
  },
  {
   "cell_type": "markdown",
   "metadata": {},
   "source": [
    "\n",
    "#### a) Traditional approach\n"
   ]
  },
  {
   "cell_type": "code",
   "execution_count": 43,
   "metadata": {},
   "outputs": [
    {
     "name": "stdout",
     "output_type": "stream",
     "text": [
      "1\n",
      "2\n",
      "3\n",
      "6\n",
      "9\n",
      "18\n",
      "27\n",
      "54\n"
     ]
    }
   ],
   "source": [
    "#find the factorial of 54 using traditional approach\n",
    "\n",
    "\n",
    "#5!=== 1*2*3*4*5\n",
    "def fact(x):\n",
    "    for i in range(x+1):\n",
    "        i+=1\n",
    "        if x%i==0:\n",
    "            print(i)\n",
    "fact(54)\n",
    "\n"
   ]
  },
  {
   "cell_type": "markdown",
   "metadata": {},
   "source": [
    "\n",
    "#### b) Lambda Function\n"
   ]
  },
  {
   "cell_type": "code",
   "execution_count": 7,
   "metadata": {},
   "outputs": [
    {
     "name": "stdout",
     "output_type": "stream",
     "text": [
      "54 != 230843697339241380472092742683027581083278564571807941132288000000000000\n"
     ]
    }
   ],
   "source": [
    "#find the factorial of 54 using lambda\n",
    "#5!=== 1*2*3*4*5\n",
    "#Method 1\n",
    "fact=lambda num:1 if num<=1 else num*fact(num-1)\n",
    "number=54\n",
    "print(\"%d != %d\"%(number, fact(number)))"
   ]
  },
  {
   "cell_type": "code",
   "execution_count": 8,
   "metadata": {},
   "outputs": [
    {
     "name": "stdout",
     "output_type": "stream",
     "text": [
      "54 != 230843697339241380472092742683027581083278564571807941132288000000000000\n"
     ]
    }
   ],
   "source": [
    "#method 2\n",
    "fact=lambda num:num*fact(num-1) if num>1 else 1\n",
    "num=54\n",
    "print(\"%d != %d\"%(number, fact(num)))"
   ]
  },
  {
   "cell_type": "markdown",
   "metadata": {},
   "source": [
    "\n",
    "## 2) Map() - Reduce() - Filter()\n",
    "\n",
    "The map(), filter() and reduce() functions bring functional programming to Python. \n",
    "\n",
    "These are convenience functions that can be replaced with List Comprehensions or loops.\n"
   ]
  },
  {
   "cell_type": "markdown",
   "metadata": {},
   "source": [
    "\n",
    "### a) Map\n",
    "\n",
    "The map() function iterates through all items in the given iterable and \n",
    "\n",
    "executes the function we passed as an argument on each of them.\n",
    "\n",
    "The syntax is:\n",
    "\n",
    "**map(*function*, *iterable(s)*)**\n",
    "\n",
    "The map() function returns the map_object type,\n",
    "\n",
    "If we would like it to return a list instead, we just cast it when calling the function:\n",
    "\n",
    "**list(map(...))**"
   ]
  },
  {
   "cell_type": "markdown",
   "metadata": {},
   "source": [
    "\n",
    "### Example 1 - Unit Conversion: Feet to meter \n",
    "\n",
    "Traditional approach vs. Lambda function\n"
   ]
  },
  {
   "cell_type": "code",
   "execution_count": 5,
   "metadata": {},
   "outputs": [
    {
     "name": "stdout",
     "output_type": "stream",
     "text": [
      "7.010400000000001\n",
      "10.3632\n",
      "16.764\n",
      "20.4216\n"
     ]
    }
   ],
   "source": [
    "#convert feet to meter\n",
    "\n",
    "#Traditional approach\n",
    "feet=[23,34,55,67]\n",
    "def fTom(x):\n",
    "   for i in x:\n",
    "    print(i*0.3048)\n",
    "fTom(feet)"
   ]
  },
  {
   "cell_type": "code",
   "execution_count": 6,
   "metadata": {},
   "outputs": [
    {
     "name": "stdout",
     "output_type": "stream",
     "text": [
      "[7.010400000000001, 10.3632, 16.764, 20.4216]\n",
      "(7.010400000000001, 10.3632, 16.764, 20.4216)\n",
      "[7.010400000000001, 10.3632, 16.764, 20.4216]\n"
     ]
    }
   ],
   "source": [
    "# map\n",
    "def fTom1(x):\n",
    "   return x*0.3048\n",
    "\n",
    "print(list(map(fTom1, feet))) # map applies ftom1 on each element of feet\n",
    "print(tuple(map(fTom1, feet)))\n",
    "\n",
    "# map with Lambda\n",
    "print(list(map(lambda x:x*0.3048,feet)))"
   ]
  },
  {
   "cell_type": "markdown",
   "metadata": {},
   "source": [
    "\n",
    "### Example 2 - Cube with map and lambda.\n"
   ]
  },
  {
   "cell_type": "code",
   "execution_count": 8,
   "metadata": {},
   "outputs": [
    {
     "name": "stdout",
     "output_type": "stream",
     "text": [
      "[0, 1, 8, 27, 64, 125, 216, 343, 512, 729, 1000, 1331]\n"
     ]
    }
   ],
   "source": [
    "#cube with map and lambda\n",
    "#logic -- x**3\n",
    "#lambda x:x**3\n",
    "print(list(map(lambda x:x**3,range(12))))"
   ]
  },
  {
   "cell_type": "code",
   "execution_count": 9,
   "metadata": {},
   "outputs": [
    {
     "name": "stdout",
     "output_type": "stream",
     "text": [
      "5\n",
      "15\n"
     ]
    }
   ],
   "source": [
    "def maths(x,y):\n",
    "    return x-y, x+y\n",
    "\n",
    "sub,add=maths(10,5)\n",
    "print(sub)\n",
    "print(add)"
   ]
  },
  {
   "cell_type": "markdown",
   "metadata": {},
   "source": [
    "\n",
    "### Auxilary exercise - Swapping variables in Python\n"
   ]
  },
  {
   "cell_type": "code",
   "execution_count": 10,
   "metadata": {},
   "outputs": [
    {
     "name": "stdout",
     "output_type": "stream",
     "text": [
      "30 20\n",
      "30 20\n"
     ]
    }
   ],
   "source": [
    "#swap any two elements\n",
    "x=20\n",
    "y=30\n",
    "#swapping traditionally\n",
    "t=0\n",
    "t=x\n",
    "x=y\n",
    "y=t\n",
    "print(x,y)\n",
    "#python\n",
    "x=20\n",
    "y=30\n",
    "x,y=y,x\n",
    "print(x,y)"
   ]
  },
  {
   "cell_type": "markdown",
   "metadata": {},
   "source": [
    "\n",
    "### Example 3 - Calculate the distance between two datapoints\n"
   ]
  },
  {
   "cell_type": "code",
   "execution_count": 12,
   "metadata": {},
   "outputs": [
    {
     "name": "stdout",
     "output_type": "stream",
     "text": [
      "[2.449489742783178, 3.7416573867739413, 8.774964387392123, 9.1104335791443, 12.206555615733702]\n"
     ]
    }
   ],
   "source": [
    "import math\n",
    "points=[(1,2,1),(-1,-2,3),(4,5,6), (5,-7,3),(8,7,6)]\n",
    "#sqrt(x**2+y**2+z**2)\n",
    "#logic with function def\n",
    "def distance(point):\n",
    "    x,y,z=point\n",
    "    #method 1\n",
    "    #return math.sqrt(x**2+y**2+z**2)\n",
    "    #method 2\n",
    "    p=lambda x:x**2\n",
    "    return math.sqrt(p(x)+p(y)+p(z))\n",
    "print(list(map(distance,points))) # distance is applied on tuple of lists at a given time"
   ]
  },
  {
   "cell_type": "code",
   "execution_count": 14,
   "metadata": {},
   "outputs": [
    {
     "data": {
      "text/plain": [
       "[2.449489742783178,\n",
       " 3.7416573867739413,\n",
       " 8.774964387392123,\n",
       " 9.1104335791443,\n",
       " 12.206555615733702]"
      ]
     },
     "execution_count": 14,
     "metadata": {},
     "output_type": "execute_result"
    }
   ],
   "source": [
    "from math import sqrt # import sqrt function alone from math\n",
    "list(map(lambda point:sqrt(point[0]**2+point[1]**2+point[2]**2), points))"
   ]
  },
  {
   "cell_type": "markdown",
   "metadata": {},
   "source": [
    "\n",
    "### b) Reduce\n",
    "\n",
    "**reduce()** works by calling the function we passed for the first two items in the sequence. \n",
    "The result returned by the function is used in another call to function alongside with the next (third in this case), element.\n",
    "This process repeats until we've gone through all the elements in the sequence.\n",
    "\n",
    "**reduce(*function*, *sequence[,initial]*)**\n",
    "\n",
    "It returns a single value.\n"
   ]
  },
  {
   "cell_type": "markdown",
   "metadata": {},
   "source": [
    "#### Example 1: Finding the sum of n numbers"
   ]
  },
  {
   "cell_type": "code",
   "execution_count": 23,
   "metadata": {},
   "outputs": [
    {
     "name": "stdout",
     "output_type": "stream",
     "text": [
      "15\n"
     ]
    }
   ],
   "source": [
    "#reduce\n",
    "#performs the logic on the 1st two elements of the given iterable(list/tuple) and \n",
    "# save the value and uses the saved value and the next element in the sequence for logic implementation\n",
    "#[1,2,3,4]===> 1+2=3, 3+3=6, 6+4=10\n",
    "# output of reduce will be an aggregated result\n",
    "\n",
    "numList=[1,2,3,4,5]\n",
    "from functools import reduce\n",
    "print(reduce(lambda x,y:x+y, numList))"
   ]
  },
  {
   "cell_type": "markdown",
   "metadata": {},
   "source": [
    "#### Example 2: Finding the average of a list of numbers"
   ]
  },
  {
   "cell_type": "code",
   "execution_count": 16,
   "metadata": {},
   "outputs": [
    {
     "name": "stdout",
     "output_type": "stream",
     "text": [
      "88.6\n"
     ]
    }
   ],
   "source": [
    "score=[89,88,67,99,100]\n",
    "print(reduce(lambda x,y:x+y, score)/len(score))"
   ]
  },
  {
   "cell_type": "markdown",
   "metadata": {},
   "source": [
    "\n",
    "### c) Filter\n",
    "\n",
    "**filter()** takes a function object and an iterable and creates a new list. (Similar to map())\n",
    "\n",
    "As the name suggests, filter() forms **a new list** that contains only elements that satisfy a certain condition.\n",
    "\n",
    "**filter(*function*, *iterable(s)*)**\n"
   ]
  },
  {
   "cell_type": "markdown",
   "metadata": {},
   "source": [
    "#### Example 1: Finding the numbers that are not divisibe by 11"
   ]
  },
  {
   "cell_type": "code",
   "execution_count": 15,
   "metadata": {},
   "outputs": [
    {
     "name": "stdout",
     "output_type": "stream",
     "text": [
      "[23, 50, 90, 95, 45, 98]\n"
     ]
    }
   ],
   "source": [
    "n=[23,55,50,90,95,99,45,98,44]\n",
    "print(list(filter(lambda x:x%11!=0, n))) # 55, 44, 99 will be excluded"
   ]
  },
  {
   "cell_type": "markdown",
   "metadata": {},
   "source": [
    "#### Example 2: Filtering elements of a given list"
   ]
  },
  {
   "cell_type": "code",
   "execution_count": 16,
   "metadata": {},
   "outputs": [
    {
     "name": "stdout",
     "output_type": "stream",
     "text": [
      "['John', 'Thomas', 'Nina']\n"
     ]
    }
   ],
   "source": [
    "#Task : remove those that are not names\n",
    "\n",
    "names=['John', 'Thomas',\"Nina\",0,\"\", False]\n",
    "names1=list(filter(None,names)) #filters  0,\"\", False (0)\n",
    "print(names1)\n"
   ]
  },
  {
   "cell_type": "code",
   "execution_count": 17,
   "metadata": {},
   "outputs": [
    {
     "name": "stdout",
     "output_type": "stream",
     "text": [
      "['John', 'Thomas', 'Nina', 1, 2, 3]\n"
     ]
    }
   ],
   "source": [
    "names=['John', 'Thomas',\"Nina\",0,\"\", False,1,2,3]\n",
    "names2=list(filter(None,names))\n",
    "print(names2)"
   ]
  },
  {
   "cell_type": "markdown",
   "metadata": {},
   "source": [
    "\n",
    "### Advanced Examples\n"
   ]
  },
  {
   "cell_type": "markdown",
   "metadata": {},
   "source": [
    "\n",
    "#### a) Example 1\n"
   ]
  },
  {
   "cell_type": "code",
   "execution_count": 12,
   "metadata": {},
   "outputs": [
    {
     "name": "stdout",
     "output_type": "stream",
     "text": [
      "['John', 'Thomas', 'Nina']\n"
     ]
    }
   ],
   "source": [
    "'''\n",
    "1. filter numerics\n",
    "2. filter empty strings using None\n",
    "'''\n",
    "print(list(filter(None,list(filter(lambda x:type(x)==str, names)))))"
   ]
  },
  {
   "cell_type": "markdown",
   "metadata": {},
   "source": [
    "\n",
    "#### b) Example 2: Finding the palindrome from the given list\n"
   ]
  },
  {
   "cell_type": "code",
   "execution_count": 18,
   "metadata": {},
   "outputs": [
    {
     "name": "stdout",
     "output_type": "stream",
     "text": [
      "['madam', 'fof', 'pyp']\n",
      "['madam', 'fof', 'pyp']\n",
      "['madam', 'fof', 'pyp']\n"
     ]
    }
   ],
   "source": [
    "word=['madam','hamsi','trainer','fof','pyp','data']\n",
    "\n",
    "print(list(filter(lambda x:x[0]==x[-1], word))) # risky -- not advisable\n",
    "print(list(filter(lambda x:x==x[::-1], word)))\n",
    "print(list(filter(lambda x:x[::]==x[::-1], word)))"
   ]
  },
  {
   "cell_type": "markdown",
   "metadata": {},
   "source": [
    "\n",
    "#### c) Example 3: Finding the cube of numbers divisible by 4 from 4 to 124\n"
   ]
  },
  {
   "cell_type": "code",
   "execution_count": 21,
   "metadata": {},
   "outputs": [
    {
     "name": "stdout",
     "output_type": "stream",
     "text": [
      "[64, 512, 1728, 4096, 8000, 13824, 21952, 32768, 46656, 64000, 85184, 110592, 140608, 175616, 216000, 262144, 314432, 373248, 438976, 512000, 592704, 681472, 778688, 884736, 1000000, 1124864, 1259712, 1404928, 1560896, 1728000, 1906624]\n",
      "31\n"
     ]
    }
   ],
   "source": [
    "#16 to 124\n",
    "#cube numbers divisible by 4\n",
    "a=list(map(lambda x:x**3, list(filter(lambda x:x%4==0, range(4,125)))))\n",
    "print(a)\n",
    "print(len(a))"
   ]
  },
  {
   "cell_type": "markdown",
   "metadata": {},
   "source": [
    "\n",
    "#### d) Example 4\n"
   ]
  },
  {
   "cell_type": "code",
   "execution_count": 28,
   "metadata": {},
   "outputs": [
    {
     "name": "stdout",
     "output_type": "stream",
     "text": [
      "[4096, 5832, 8000, 10648, 13824, 17576, 21952, 27000, 32768, 39304, 46656, 54872, 64000, 74088, 85184, 97336, 110592, 125000, 140608, 157464, 175616, 195112, 216000, 238328, 262144, 287496, 314432, 343000, 373248, 405224, 438976, 474552, 512000, 551368, 592704, 636056, 681472, 729000, 778688, 830584, 884736, 941192, 1000000, 1061208, 1124864, 1191016, 1259712, 1331000, 1404928, 1481544, 1560896, 1643032, 1728000, 1815848]\n",
      "54\n"
     ]
    }
   ],
   "source": [
    "b=list(filter(lambda x:x%4==0, list(map(lambda x:x**3, range(16, 124)))))\n",
    "print(b)\n",
    "print(len(b))\n"
   ]
  },
  {
   "cell_type": "markdown",
   "metadata": {},
   "source": [
    "#### Example: Finding the sum of numbers divisible by 4 from 4 to 124, using reduce() and filter()"
   ]
  },
  {
   "cell_type": "code",
   "execution_count": 25,
   "metadata": {},
   "outputs": [
    {
     "name": "stdout",
     "output_type": "stream",
     "text": [
      "1984\n"
     ]
    }
   ],
   "source": [
    "n=reduce(lambda x,y:x+y, list(filter(lambda x:x%4==0, range(4,125))))\n",
    "print(n)"
   ]
  },
  {
   "cell_type": "code",
   "execution_count": null,
   "metadata": {},
   "outputs": [],
   "source": []
  }
 ],
 "metadata": {
  "interpreter": {
   "hash": "c347c8f9a7ef94e4c9e03b4513be7835ed18f45b99a2a817fb579f408b867b16"
  },
  "kernelspec": {
   "display_name": "Python 3.9.7 64-bit",
   "language": "python",
   "name": "python3"
  },
  "language_info": {
   "codemirror_mode": {
    "name": "ipython",
    "version": 3
   },
   "file_extension": ".py",
   "mimetype": "text/x-python",
   "name": "python",
   "nbconvert_exporter": "python",
   "pygments_lexer": "ipython3",
   "version": "3.9.7"
  },
  "orig_nbformat": 4
 },
 "nbformat": 4,
 "nbformat_minor": 2
}
