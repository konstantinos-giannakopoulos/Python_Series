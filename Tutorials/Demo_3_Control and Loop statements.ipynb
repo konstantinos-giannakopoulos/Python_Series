{
 "cells": [
  {
   "cell_type": "markdown",
   "metadata": {},
   "source": [
    ">#\n",
    "># Demo_3_Control_and_Loop_Statements\n",
    ">#\n",
    ">**Decision Making**\n",
    ">1. Control Statements\n",
    ">    * Flow Statements (if, if-else, if-elif-else)\n",
    ">    * Operators \n",
    ">        * Relational (>,<,>=,<=,==,!=)\n",
    ">        * Logical    (and, or)\n",
    ">        * Ternary\n",
    ">2. Loop Statements\n",
    ">    1. For\n",
    ">    2. While\n",
    ">3. Branching Statements\n",
    ">    1. Break\n",
    ">    2. Continue"
   ]
  },
  {
   "cell_type": "markdown",
   "metadata": {},
   "source": [
    "## 1. Control Statements (if, if-else, if-elif-else)\n",
    "Conditional tests occur when checking for:\n",
    "- Equality\n",
    "- Inequality\n",
    "- Comparisons\n",
    "- Existence"
   ]
  },
  {
   "cell_type": "code",
   "execution_count": 2,
   "metadata": {},
   "outputs": [
    {
     "name": "stdout",
     "output_type": "stream",
     "text": [
      "Code is Executed\n",
      "test_value verified\n",
      "Code is Executed\n"
     ]
    }
   ],
   "source": [
    "#control Flow Statemets\n",
    "\n",
    "#simple if statement\n",
    "test_value=100\n",
    "if test_value>1:\n",
    "    print(\"Code is Executed\")\n",
    "\n",
    "if test_value>1000:\n",
    "    print(\"code not executed\")\n",
    "\n",
    "print(\"test_value verified\")\n",
    "\n",
    "# if .. else\n",
    "if test_value>1:\n",
    "    print(\"Code is Executed\")\n",
    "else:\n",
    "    print(\"Not 1: code not executed\")"
   ]
  },
  {
   "cell_type": "markdown",
   "metadata": {},
   "source": [
    "Types of if Statements\n",
    "- Simple if Statements\n",
    "- If-else Statements\n",
    "- If-elif-else Statements\n",
    "- Multiple elif Blocks\n",
    "- Nested if"
   ]
  },
  {
   "cell_type": "code",
   "execution_count": 9,
   "metadata": {},
   "outputs": [
    {
     "name": "stdout",
     "output_type": "stream",
     "text": [
      "Not sure what your pet is!\n"
     ]
    }
   ],
   "source": [
    "#if ...elif\n",
    "pet=input(\"What is your pet animal? \").lower()\n",
    "if pet==\"dog\":\n",
    "    print(\"You have a dog!\")\n",
    "elif pet==\"cat\":\n",
    "    print(\"You have a cat!\")\n",
    "elif pet==\"parrot\"  :\n",
    "    print(\"You have a parrot!\")\n",
    "else:\n",
    "    print(\"Not sure what your pet is!\")"
   ]
  },
  {
   "cell_type": "code",
   "execution_count": null,
   "metadata": {},
   "outputs": [],
   "source": [
    "# without if ...elif \n",
    "# check the indentation - All the code is continuously shifted to the right.\n",
    "pet=input(\"What is your pet animal? \").lower()\n",
    "if pet==\"dog\":\n",
    "    print(\"You have a dog!\")\n",
    "else:\n",
    "    if pet==\"cat\":\n",
    "        print(\"You have a cat!\")\n",
    "    else:\n",
    "        if pet==\"parrot\"  :\n",
    "            print(\"You have a parrot!\")\n",
    "        else:\n",
    "            print(\"Not sure what your pet is!\")"
   ]
  },
  {
   "cell_type": "code",
   "execution_count": 5,
   "metadata": {},
   "outputs": [
    {
     "name": "stdout",
     "output_type": "stream",
     "text": [
      "grade: A\n"
     ]
    }
   ],
   "source": [
    "marks= 95\n",
    "if marks > 90:\n",
    "\tprint (\"grade: A\")\n",
    "elif marks >= 80:\n",
    "\tprint (\"grade: B\")\n",
    "elif marks >= 60:\n",
    "\tprint (\"grade: C\")\n"
   ]
  },
  {
   "cell_type": "markdown",
   "metadata": {},
   "source": [
    "### Operators\n",
    "- Relational comparison operators:   >,<,>=,<=,==,!=\n",
    "- Logical operators:  and, or\n",
    "- Ternary operators - Conditional Expressions"
   ]
  },
  {
   "cell_type": "markdown",
   "metadata": {},
   "source": [
    "Relational Comparison Operators: >,<,>=,<=,==,!="
   ]
  },
  {
   "cell_type": "code",
   "execution_count": 6,
   "metadata": {},
   "outputs": [
    {
     "name": "stdout",
     "output_type": "stream",
     "text": [
      "v1 not equal to v2\n"
     ]
    }
   ],
   "source": [
    "#Relational operators -- >,<,>=,<=,==,!=\n",
    "#Logical operators --> and, or\n",
    "\n",
    "v1=10\n",
    "v2=20\n",
    "if v1!=v2:\n",
    "    print(\"v1 not equal to v2\")"
   ]
  },
  {
   "cell_type": "markdown",
   "metadata": {},
   "source": [
    "Logical Operators: and, or"
   ]
  },
  {
   "cell_type": "code",
   "execution_count": 7,
   "metadata": {},
   "outputs": [
    {
     "name": "stdout",
     "output_type": "stream",
     "text": [
      "greater than 5  \n"
     ]
    }
   ],
   "source": [
    "v1=10\n",
    "v2=20\n",
    "# v1>5 and also equal to v2>5\n",
    "if(v1>5) and (v2>5): \n",
    "    print(\"greater than 5  \")\n",
    "else: \n",
    "    print( \"not greater than 5\")"
   ]
  },
  {
   "cell_type": "markdown",
   "metadata": {},
   "source": [
    "Ternary Operators - Conditional Expressions"
   ]
  },
  {
   "cell_type": "code",
   "execution_count": 1,
   "metadata": {},
   "outputs": [
    {
     "name": "stdout",
     "output_type": "stream",
     "text": [
      "0.05\n"
     ]
    }
   ],
   "source": [
    "# one-line if statement\n",
    "bat = 12\n",
    "discount = 0.05 if bat > 8 else 0.06\n",
    "print (discount)"
   ]
  },
  {
   "cell_type": "code",
   "execution_count": 19,
   "metadata": {},
   "outputs": [
    {
     "name": "stdout",
     "output_type": "stream",
     "text": [
      "Then num is 16 and result is greater than 10\n"
     ]
    }
   ],
   "source": [
    "#ternary Operators --> Method 1\n",
    "import random as r\n",
    "num=r.randint(1,20)\n",
    "result=('less than 10','greater than 10')[num>10] # if condition is false then left most is executed\n",
    "print('Then num is %d and result is %s'%(num, result))"
   ]
  },
  {
   "cell_type": "code",
   "execution_count": 18,
   "metadata": {},
   "outputs": [
    {
     "name": "stdout",
     "output_type": "stream",
     "text": [
      "Hobby found!\n"
     ]
    }
   ],
   "source": [
    "# fetch your hobby from user input\n",
    "# if hobby is swimming return hurray else not interested\n",
    "# use ternary operator--> check the conditions in one line\n",
    "hobby=input(\"Enter your hobby?\").lower()\n",
    "result1=('Not interested','Hobby found!')[hobby=='swimming']\n",
    "print(result1)"
   ]
  },
  {
   "cell_type": "markdown",
   "metadata": {},
   "source": [
    "## 2. Loop Statements\n",
    "Types of loop statements\n",
    "- For Loop\n",
    "- While Loop\n",
    "- Nested Loop"
   ]
  },
  {
   "cell_type": "markdown",
   "metadata": {},
   "source": [
    "While vs. For loop statements\n",
    "- The **for** statement iterates through a collection or iterable object or generator function. For loops are used to sequentially iterate over a python sequence.\n",
    "- The **while** statement simply loops until a condition is False. While loop statement checks for a condition at the beginning and as long as the condition is True, it will execute the body of the loop. \n",
    "\n",
    "When to use what?\n",
    "\n",
    "- We use a **for** loop: When we have a ready-made collection: a set, tuple, list, map or even a string (a string is already an iterable collection). \n",
    "(The sorted and enumerate functions apply a transformation on an iterable that fits naturally with the for statement.)\n",
    "- We use **while** loop: If we don't have a tidy data structure to iterate through, or you don't have a generator function that drives your processing.\n",
    "\n",
    "In addition:\n",
    "- **for** loop is used when you have definite itteration (the number of iterations is known).\n",
    "- **while** loop is an indefinite itteration that is used when a loop repeats unkown number of times and end when some condition is met.\n"
   ]
  },
  {
   "cell_type": "markdown",
   "metadata": {},
   "source": [
    "### For Loops"
   ]
  },
  {
   "cell_type": "code",
   "execution_count": 20,
   "metadata": {},
   "outputs": [
    {
     "name": "stdout",
     "output_type": "stream",
     "text": [
      "1\n",
      "2\n",
      "3\n",
      "4\n",
      "5\n",
      "6\n",
      "7\n",
      "8\n",
      "9\n"
     ]
    }
   ],
   "source": [
    "#loop statements\n",
    "#find and print even numbers in a given range of 10\n",
    "for i in range(1,10): # range starts from 1 to 10\n",
    "    print(i)"
   ]
  },
  {
   "cell_type": "code",
   "execution_count": 21,
   "metadata": {},
   "outputs": [
    {
     "name": "stdout",
     "output_type": "stream",
     "text": [
      "apple\n",
      "mango\n",
      "orange\n",
      "banana\n"
     ]
    }
   ],
   "source": [
    "fruits = ['apple' , 'mango' , 'orange' , 'banana']\n",
    "for fruit in fruits:\n",
    "    print (fruit)"
   ]
  },
  {
   "cell_type": "markdown",
   "metadata": {},
   "source": [
    "### While Loops"
   ]
  },
  {
   "cell_type": "code",
   "execution_count": 22,
   "metadata": {},
   "outputs": [
    {
     "name": "stdout",
     "output_type": "stream",
     "text": [
      "5\n",
      "10\n",
      "15\n",
      "20\n",
      "25\n",
      "30\n",
      "35\n",
      "40\n",
      "45\n",
      "50\n",
      "55\n",
      "60\n",
      "65\n",
      "70\n",
      "75\n",
      "80\n",
      "85\n",
      "90\n",
      "95\n",
      "i with while loop completed\n"
     ]
    }
   ],
   "source": [
    "i=5\n",
    "while i<100:\n",
    "    print(i)\n",
    "    i+=5\n",
    "print('i with while loop completed')"
   ]
  },
  {
   "cell_type": "markdown",
   "metadata": {},
   "source": [
    "### Nested Loops"
   ]
  },
  {
   "cell_type": "code",
   "execution_count": 27,
   "metadata": {},
   "outputs": [
    {
     "name": "stdout",
     "output_type": "stream",
     "text": [
      "2 is prime\n",
      "3 is prime\n",
      "5 is prime\n",
      "7 is prime\n",
      "11 is prime\n",
      "13 is prime\n",
      "17 is prime\n",
      "19 is prime\n",
      "23 is prime\n",
      "29 is prime\n",
      "31 is prime\n",
      "37 is prime\n",
      "41 is prime\n",
      "43 is prime\n",
      "47 is prime\n",
      "53 is prime\n",
      "59 is prime\n",
      "61 is prime\n",
      "67 is prime\n",
      "71 is prime\n",
      "73 is prime\n",
      "79 is prime\n",
      "83 is prime\n",
      "89 is prime\n",
      "97 is prime\n"
     ]
    }
   ],
   "source": [
    "i=2\n",
    "while (i<100) :\n",
    "\tj=2\n",
    "\twhile (j<=(i/j)):\n",
    "\t\tif not(i%j): break\n",
    "\t\tj=j+1\n",
    "\tif (j>i/j): print(i, 'is prime')\n",
    "\ti+=1\n"
   ]
  },
  {
   "cell_type": "markdown",
   "metadata": {},
   "source": [
    "## 3. Branching Statements"
   ]
  },
  {
   "cell_type": "markdown",
   "metadata": {},
   "source": [
    "### Break\n",
    "\n",
    "Skips **all** remaining iterations, including the current one.\n",
    "<br />It is used to **exit a loop**."
   ]
  },
  {
   "cell_type": "code",
   "execution_count": 30,
   "metadata": {},
   "outputs": [
    {
     "name": "stdout",
     "output_type": "stream",
     "text": [
      "1\n",
      "2\n",
      "3\n",
      "4\n",
      "5\n",
      "6\n",
      "7\n",
      "8\n",
      "9\n",
      "10\n"
     ]
    }
   ],
   "source": [
    "#break statement\n",
    "x = 1\n",
    "while True:\n",
    "\tprint (x)\n",
    "\tx = x+1\n",
    "\tif x > 10:\n",
    "\t\tbreak"
   ]
  },
  {
   "cell_type": "markdown",
   "metadata": {},
   "source": [
    "### Continue\n",
    "\n",
    "Skips **an** iteration and continues with the next iteration.\n",
    "<br /> It skips the rest of the current loop."
   ]
  },
  {
   "cell_type": "code",
   "execution_count": 29,
   "metadata": {},
   "outputs": [
    {
     "name": "stdout",
     "output_type": "stream",
     "text": [
      "1\n",
      "3\n",
      "5\n",
      "7\n",
      "9\n"
     ]
    }
   ],
   "source": [
    "#continue statement\n",
    "for x in range(10):\n",
    "\tif (x%2) == 0:\n",
    "\t\tcontinue\n",
    "\tprint(x)"
   ]
  }
 ],
 "metadata": {
  "interpreter": {
   "hash": "8cb2474c42576a3606c9634037c9ef0ac64d9294c9ef3038e6307653057325e9"
  },
  "kernelspec": {
   "display_name": "Python 3.10.2 64-bit",
   "language": "python",
   "name": "python3"
  },
  "language_info": {
   "codemirror_mode": {
    "name": "ipython",
    "version": 3
   },
   "file_extension": ".py",
   "mimetype": "text/x-python",
   "name": "python",
   "nbconvert_exporter": "python",
   "pygments_lexer": "ipython3",
   "version": "3.9.7"
  },
  "orig_nbformat": 4
 },
 "nbformat": 4,
 "nbformat_minor": 2
}
