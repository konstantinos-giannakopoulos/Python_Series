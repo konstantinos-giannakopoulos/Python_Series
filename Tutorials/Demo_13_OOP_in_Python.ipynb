{
 "cells": [
  {
   "cell_type": "markdown",
   "metadata": {},
   "source": [
    "#\n",
    "># Demo_3_OOP_in_Python\n",
    ">#\n",
    ">- Classes and Objects\n",
    ">    - Access Modifiers\n",
    ">    - Constructors\n",
    ">    - Static Methods\n",
    ">- OOPs Concepts\n",
    ">    - Encapsulation\n",
    ">    - Inheritance\n",
    ">        - Single\n",
    ">        - Multiple \n",
    ">        - Multilevel \n",
    ">        - Hierarchical \n",
    ">        - Hybrid \n",
    ">    - Polymorphism\n",
    ">        - Polymorphism In Built-in Methods\n",
    ">        - Polymorphism with Inheritance\n",
    ">        - Polymorphism with Functions and Objects\n",
    ">        - Method Overloading\n",
    ">        - Operator Overloading\n",
    ">    - Abstraction\n",
    ">- Built-in Attributes"
   ]
  },
  {
   "cell_type": "markdown",
   "metadata": {},
   "source": [
    "## 1. Classes and Objects"
   ]
  },
  {
   "cell_type": "markdown",
   "metadata": {},
   "source": [
    "\n",
    "### Class Definition \n",
    "(sl 12,13)"
   ]
  },
  {
   "cell_type": "code",
   "execution_count": 30,
   "metadata": {},
   "outputs": [],
   "source": [
    "#class definition for Employee\n",
    "class Employee:\n",
    "    'Common base class for all employees'\n",
    "    perc_raise=1.10 # class variable\n",
    "\n",
    "    # Constructor with instance variable --> firstName,lastName, salary, email\n",
    "    #instance variable are always accessed with self keyword\n",
    "    def __init__ (self, fname, lname, salary): #self represents the object itself\n",
    "        self.firstName=fname    # instance variable\n",
    "        self.lastName=lname     # instance variable\n",
    "        self.salary=salary      # instance variable\n",
    "        self.email= fname+'.'+lname+'@fdmgroup.com'     # instance variable\n",
    "\n",
    "    # getter\n",
    "    def getName(self):\n",
    "        return '{} {}'.format(self.firstName, self.lastName)#, self.gender)\n",
    "\n",
    "    # other methods\n",
    "    def applyRaise(self):\n",
    "        self.salary = self.salary*self.perc_raise\n",
    "        return self.salary\n",
    "\n",
    "    # String representation\n",
    "    def __str__(self):\n",
    "        return (\"Firstname :\" + str(self.firstName) + \n",
    "                \"\\nLastname : \" + str(self.lastName) +\n",
    "                \"\\nSalary: \" + str(self.salary) + \n",
    "                \"\\nEmail: \" + self.email)\n",
    "    "
   ]
  },
  {
   "cell_type": "markdown",
   "metadata": {},
   "source": [
    "\n",
    "### Create Objects (Instances of a class)\n"
   ]
  },
  {
   "cell_type": "code",
   "execution_count": 31,
   "metadata": {},
   "outputs": [
    {
     "name": "stdout",
     "output_type": "stream",
     "text": [
      "The Employee object is: \n",
      "Firstname :Alex\n",
      "Lastname : Tan\n",
      "Salary: 4500\n",
      "Email: Alex.Tan@fdmgroup.com\n",
      "\n",
      "The details for the employees are: \n",
      "Employee1 Name:  Alex Tan\n",
      "Employee2 Name:  John Doe\n",
      "Employee3 Name:  Andrew Black\n",
      "\n",
      "Emp1 apply raise salary:  4950.0\n",
      "1.1\n",
      "\n",
      "Emp1 apply raise salary:  2.55  New salary is: 12622.5\n",
      "Access an Employee \"perc_raise\" variable:  1.1\n",
      "1.1\n",
      "\n",
      "Employee1 previous name:  Alex Tan\n",
      "Employee1 new name:  Adam Tan\n"
     ]
    }
   ],
   "source": [
    "#create instances for Employee\n",
    "emp1=Employee('Alex','Tan',4500)\n",
    "emp2=Employee('John','Doe',5500)\n",
    "emp3=Employee('Andrew','Black',6500)\n",
    "\n",
    "# print object\n",
    "print(\"The Employee object is: \")\n",
    "print(emp1)\n",
    "print()\n",
    "\n",
    "#access employee details\n",
    "print(\"The details for the employees are: \")\n",
    "print('Employee1 Name: ',emp1.getName())\n",
    "print('Employee2 Name: ',emp2.getName())\n",
    "print('Employee3 Name: ',emp3.getName())\n",
    "print()\n",
    "\n",
    "print('Emp1 apply raise salary: ',emp1.applyRaise())\n",
    "#accessing class variable\n",
    "print(Employee.perc_raise)\n",
    "emp1.perc_raise=2.55 # change was done only to emp1\n",
    "\n",
    "print()\n",
    "print('Emp1 apply raise salary: ',emp1.perc_raise, ' New salary is:' , emp1.applyRaise())\n",
    "print('Access an Employee \"perc_raise\" variable: ', Employee.perc_raise)\n",
    "print(emp2.perc_raise)\n",
    "print()\n",
    "\n",
    "print('Employee1 previous name: ',emp1.getName()) \n",
    "setattr(emp1,'firstName','Adam')\n",
    "print('Employee1 new name: ',emp1.getName()) "
   ]
  },
  {
   "cell_type": "markdown",
   "metadata": {},
   "source": [
    "\n",
    "#### Exercise: Maths [Class vs. Instance variables]\n",
    "\n",
    "(sl 16, 17, 18)"
   ]
  },
  {
   "cell_type": "code",
   "execution_count": null,
   "metadata": {},
   "outputs": [],
   "source": [
    "#create Maths\n",
    "class Maths:\n",
    "    msg='' # class variable\n",
    "    #def __init__(self,msg,x=0,y=0):\n",
    "    #   self.x=0\n",
    "     #   self.y=0\n",
    "      #  self.msg=msg '''\n",
    "\n",
    "    # Constructor\n",
    "    def __init__(self,msg): #self represents the object itself\n",
    "        self.msg=msg\n",
    "\n",
    "    def add(self,x,y): #self represents the object itself\n",
    "        return x+y\n",
    "    \n",
    "    def subtract(self, x, y): #self represents the object itself\n",
    "        return x-y\n",
    "\n",
    "    def display(self,x,y): #self represents the object itself\n",
    "        print('Addition: ', self.add(x,y))\n",
    "        print('Subtraction: ', self.subtract(x,y))\n",
    "        print('Message: ',self.msg)"
   ]
  },
  {
   "cell_type": "code",
   "execution_count": null,
   "metadata": {},
   "outputs": [],
   "source": [
    "m1=Maths('m1: Welcome to m1 Math world')\n",
    "#m1.display(int(input('Enter a number: ')),int(input('Enter a number: ')))\n",
    "m1.display(30,12)\n",
    "m1.msg = 'Enjoy'\n",
    "print('New message: ' , m1.msg)\n",
    "\n",
    "print()\n",
    "\n",
    "m2=Maths('m2: Welcome to m2 Magic world')\n",
    "#m2.display(int(input('Enter a number: ')),int(input('Enter a number: ')))\n",
    "m2.display(63,39)\n",
    "m2.msg = 'Enjoy'\n",
    "print('New message: ' , m2.msg)"
   ]
  },
  {
   "cell_type": "code",
   "execution_count": 6,
   "metadata": {},
   "outputs": [],
   "source": [
    "class Maths1:\n",
    "    __msg='Private'\n",
    "    #def __init__(self,msg,x=0,y=0):\n",
    "    #   self.x=0\n",
    "     #   self.y=0\n",
    "      #  self.msg=msg '''\n",
    "\n",
    "    def __init__(self,msg):\n",
    "        self.msg=msg\n",
    "\n",
    "    def add(self,x,y):\n",
    "        self.x=x\n",
    "        self.y=y\n",
    "        return self.x+self.y\n",
    "    \n",
    "    def subtract(self, x, y):\n",
    "        self.x=x\n",
    "        self.y=y\n",
    "        return self.x-self.y\n",
    "\n",
    "    def multiply(self, x,y,z):\n",
    "        self.x=x\n",
    "        self.y=y\n",
    "        self.z=z\n",
    "        return self.x*self.y*self.z\n",
    "\n",
    "    def display(self,x,y):\n",
    "        print('Addition: ', self.add(x,y))\n",
    "        print('Subtraction: ', self.subtract(x,y))\n",
    "        print('Multiplication: ', self.multiply(x,y,10))\n",
    "        print('Instance message: ',self.msg)\n",
    "        print('class variable msg: ',Maths1.__msg)"
   ]
  },
  {
   "cell_type": "code",
   "execution_count": 5,
   "metadata": {},
   "outputs": [
    {
     "name": "stdout",
     "output_type": "stream",
     "text": [
      "Addition:  10\n",
      "Subtraction:  0\n",
      "Multiplication:  250\n",
      "Instance messgae:  Hi\n",
      "class variable msg:  Private\n"
     ]
    }
   ],
   "source": [
    "#open for extension and closed for modification\n",
    "#Single reponsibility\n",
    "#Dependency inversion principle\n",
    "\n",
    "m1=Maths1('Hi')\n",
    "m1.display(5,5)"
   ]
  },
  {
   "cell_type": "markdown",
   "metadata": {},
   "source": [
    "\n",
    "### a) Access Modifiers\n",
    "\n",
    "sl. 21\n",
    "\n",
    "Types of variables:\n",
    "- public\n",
    "- _protected\n",
    "- __private"
   ]
  },
  {
   "cell_type": "code",
   "execution_count": null,
   "metadata": {},
   "outputs": [],
   "source": [
    "##print(__msg) # is private and not accessible outside of Maths or Maths1\n",
    "#print(emp1.getName(), m1.display(5,6))\n",
    "#print(emp1, str(emp1))"
   ]
  },
  {
   "cell_type": "code",
   "execution_count": 1,
   "metadata": {},
   "outputs": [],
   "source": [
    "class AccessModifiers:\n",
    "    publicMessage=\"Public Message\" #class variable\n",
    "    __privateMessage = \"Private Message\"\n",
    "\n",
    "    def display(self):\n",
    "        print(\"Message: \", self.publicMessage)\n",
    "\n",
    "    @staticmethod\n",
    "    def staticMessage():\n",
    "        return AccessModifiers.publicMessage\n",
    "\n",
    "\t#constructor\n",
    "    def __init__(self):\n",
    "        self.__privateMessage=\"Welcome to the Math World - Private Message\"\n",
    "\n",
    "    def getMsg(self):\n",
    "        return self.__privateMessage\n",
    "\n",
    "    def setMsg(self,newMessage):\n",
    "        self.__privateMessage=newMessage;"
   ]
  },
  {
   "cell_type": "code",
   "execution_count": null,
   "metadata": {},
   "outputs": [],
   "source": [
    "am=AccessModifiers()\n",
    "print(\"<Accessing a public variable:>\")\n",
    "print(am.publicMessage)\n",
    "print()\n",
    "print(\"<Calling a getter:>\")\n",
    "print(am.getMsg())\n",
    "print()\n",
    "print(\"<Accessing a private variable:>\")\n",
    "try:\n",
    "    print(am.__privateMessage)\n",
    "except Exception as e:\n",
    "    print(\"Cannot Access private value\")\n",
    "\n",
    "print()\n",
    "\n",
    "print(\"<Trying to apply setattr() to a private attribute>\")\n",
    "setattr(am, '__privateMessage', 'test') # cannot be applied to private attributes\n",
    "print(am.getMsg()) # The private does not change\n",
    "\n",
    "print()\n",
    "\n",
    "print(\"<Trying to apply setattr() to a private attribute>\")\n",
    "setattr(am, 'publicMessage', 'new public message')\n",
    "print(am.publicMessage) # The public changes\n",
    "print(getattr(am,'publicMessage'))\n",
    "\n",
    "print('Does object \"am\" has attribute \"__privateMessage\"? ', hasattr(am,'__privateMessage'))\n",
    "print('Does object \"am\" has attribute \"privateMessage\"? ', hasattr(am,'privateMessage'))"
   ]
  },
  {
   "cell_type": "markdown",
   "metadata": {},
   "source": [
    "\n",
    "### b) Constructors\n",
    "\n",
    "sl.24\n",
    "\n",
    "Constructors are generally used for **instantiating an object**. The task of constructors is to initialize(assign values) to the data members of the class when an object of the class is created. In Python the **\\_\\_init\\_\\_()** method is called the constructor and is always called when an object is created."
   ]
  },
  {
   "cell_type": "code",
   "execution_count": 36,
   "metadata": {},
   "outputs": [],
   "source": [
    "class Point1:\n",
    "    # Default Constructor\n",
    "    def __init__(self, x=0,y=0):\n",
    "        self.__x=x\n",
    "        self.__y=y\n",
    "\n",
    "    # getters and setters\n",
    "    def getY(self):\n",
    "        return self.__y\n",
    "\n",
    "    def getX(self):\n",
    "        return self.__x\n",
    "    \n",
    "    def setX(self,x):\n",
    "        self.__x=x\n",
    "        \n",
    "    def setY(self,y):\n",
    "        self.__y=y\n",
    "    \n",
    "    # String representation\n",
    "    def __str__(self):\n",
    "        return \"x coordinate is :\" + str(self.getX()) + \"\\n y coordinate is : \" + str(self.getY())"
   ]
  },
  {
   "cell_type": "code",
   "execution_count": null,
   "metadata": {},
   "outputs": [
    {
     "name": "stdout",
     "output_type": "stream",
     "text": [
      "P1:  x coordinate is :4\n",
      " y coordinate is : 5\n",
      "P2:  x coordinate is :0\n",
      " y coordinate is : 0\n",
      "4\n",
      "x value after p1.x=50:  4\n",
      "x value after p1.setX(25):  25\n",
      "25\n",
      "5\n"
     ]
    }
   ],
   "source": [
    "p1=Point1(4,5)\n",
    "p2=Point1() # invokes default constructor with default parameter values\n",
    "\n",
    "print('P1: ',p1) # calling __str__()\n",
    "print('P2: ',p2)\n",
    "print(p1.getX()) # abstracting details of object. Better approach than p1.x\n",
    "p1.x=50\n",
    "print('x value after p1.x=50: ',p1.getX())\n",
    "p1.setX(25) # sets the private instance variable value\n",
    "\n",
    "\n",
    "print('x value after p1.setX(25): ',p1.getX())\n",
    "print(p1.getX())\n",
    "print(p1.getY())"
   ]
  },
  {
   "cell_type": "markdown",
   "metadata": {},
   "source": [
    "#### !!! This produces an error!\n",
    "Check also (c4) Method Overloading"
   ]
  },
  {
   "cell_type": "code",
   "execution_count": null,
   "metadata": {},
   "outputs": [],
   "source": [
    "class Point:\n",
    "    # Different Constructors for the Point Object will not work\n",
    "    def __init__(self, x=0, y=0):  \n",
    "        self.x=x\n",
    "        self.y=y\n",
    "\n",
    "    def __init__(self, x=0):  \n",
    "        self.x=x\n",
    "        self.y=2\n",
    "\n",
    "    def __init__(self, y=0):  \n",
    "        self.x=7\n",
    "        self.y=y\n",
    "\n",
    "    # getters\n",
    "    def getY(self):\n",
    "        return self.y\n",
    "\n",
    "    def getX(self):\n",
    "        return self.x\n",
    "\n",
    "    # setters\n",
    "    def setY(self, y):\n",
    "        self.y = y\n",
    "\n",
    "    def setX(self, x):\n",
    "        self.x = x\n",
    "\n",
    "    # String representation\n",
    "    def __str__(self):\n",
    "        return \"x coordinate is :\" + str(self.x) + \"\\n y coordinate is : \" + str(self.y)\n",
    "    "
   ]
  },
  {
   "cell_type": "code",
   "execution_count": null,
   "metadata": {},
   "outputs": [
    {
     "ename": "TypeError",
     "evalue": "__init__() got an unexpected keyword argument 'x'",
     "output_type": "error",
     "traceback": [
      "\u001b[1;31m---------------------------------------------------------------------------\u001b[0m\n",
      "\u001b[1;31mTypeError\u001b[0m                                 Traceback (most recent call last)\n",
      "\u001b[1;32mc:\\Users\\Konstantinos.Giannak\\OneDrive - FDM Group\\Courses\\My_Version\\Data_Engineering\\Software_Development\\Python_APAC\\2. Advanced Python\\Day_2_Tuesday\\Demo_3_OOP_in_Python.ipynb Cell 18'\u001b[0m in \u001b[0;36m<cell line: 1>\u001b[1;34m()\u001b[0m\n",
      "\u001b[1;32m----> <a href='vscode-notebook-cell:/c%3A/Users/Konstantinos.Giannak/OneDrive%20-%20FDM%20Group/Courses/My_Version/Data_Engineering/Software_Development/Python_APAC/2.%20Advanced%20Python/Day_2_Tuesday/Demo_3_OOP_in_Python.ipynb#ch0000017?line=0'>1</a>\u001b[0m p1\u001b[39m=\u001b[39mPoint(x\u001b[39m=\u001b[39;49m\u001b[39m4\u001b[39;49m) \u001b[39m#,y=5)\u001b[39;00m\n",
      "\u001b[0;32m      <a href='vscode-notebook-cell:/c%3A/Users/Konstantinos.Giannak/OneDrive%20-%20FDM%20Group/Courses/My_Version/Data_Engineering/Software_Development/Python_APAC/2.%20Advanced%20Python/Day_2_Tuesday/Demo_3_OOP_in_Python.ipynb#ch0000017?line=1'>2</a>\u001b[0m p2\u001b[39m=\u001b[39mPoint() \u001b[39m# invokes default constructor with default parameter values\u001b[39;00m\n",
      "\u001b[0;32m      <a href='vscode-notebook-cell:/c%3A/Users/Konstantinos.Giannak/OneDrive%20-%20FDM%20Group/Courses/My_Version/Data_Engineering/Software_Development/Python_APAC/2.%20Advanced%20Python/Day_2_Tuesday/Demo_3_OOP_in_Python.ipynb#ch0000017?line=3'>4</a>\u001b[0m \u001b[39mprint\u001b[39m(\u001b[39m'\u001b[39m\u001b[39mP1: \u001b[39m\u001b[39m'\u001b[39m,p1) \u001b[39m# calling __str__()\u001b[39;00m\n",
      "\n",
      "\u001b[1;31mTypeError\u001b[0m: __init__() got an unexpected keyword argument 'x'"
     ]
    }
   ],
   "source": [
    "p1=Point(x=4) #,y=5)\n",
    "p2=Point() # invokes default constructor with default parameter values\n",
    "\n",
    "print('P1: ',p1) # calling __str__()\n",
    "print('P2: ',p2)\n",
    "print(p1.getX()) # abstracting details of object. Better approach than p1.x\n",
    "p1.x=50\n",
    "setattr(p1,'y',25) # setattr for public variables\n",
    "print(p1.getX())\n",
    "print(p1.getY())"
   ]
  },
  {
   "cell_type": "markdown",
   "metadata": {},
   "source": [
    "\n",
    "### c) Static Methods\n",
    "\n",
    "sl.28"
   ]
  },
  {
   "cell_type": "code",
   "execution_count": 67,
   "metadata": {},
   "outputs": [],
   "source": [
    "class ClassWithStaticMethod:\n",
    "    msg=\"Public Message\" #class variable\n",
    "    __msg = \"Private Message\"\n",
    "    class_counter = 0\n",
    "\n",
    "\t#constructor\n",
    "    def __init__(self, newMessage):\n",
    "        self.__msg = newMessage\n",
    "\n",
    "    # getters and setters\n",
    "    def getMsg(self):\n",
    "        return self.__msg\n",
    "\n",
    "    def setMsg(self,nm):\n",
    "        self.__msg=nm;\n",
    "\n",
    "    # toString\n",
    "    def __str__(self):\n",
    "        return(\"This is class info:\\n---------------------\" +\n",
    "                \"\\nMessage1 : \"+ self.msg + \n",
    "                \"\\nMessage2: \"+ self.__msg +\n",
    "                \"\\n\")\n",
    "\n",
    "    # Static method that shows the information of how many total class instances are created.\n",
    "    @staticmethod\n",
    "    def totalCounterInfo():\n",
    "        ClassWithStaticMethod.class_counter += 1  # acessing this attribute with the name of the class. Not self\n",
    "        print(\"There have been created [\" + str(ClassWithStaticMethod.class_counter) + \"] class instances so far.\")"
   ]
  },
  {
   "cell_type": "code",
   "execution_count": 69,
   "metadata": {},
   "outputs": [
    {
     "name": "stdout",
     "output_type": "stream",
     "text": [
      "This is class info:\n",
      "---------------------\n",
      "Message1 : Public Message\n",
      "Message2: Instance_1\n",
      "\n",
      "There have been created [3] class instances so far.\n",
      "\n",
      "This is class info:\n",
      "---------------------\n",
      "Message1 : Public Message\n",
      "Message2: Instance_2\n",
      "\n",
      "There have been created [4] class instances so far.\n"
     ]
    }
   ],
   "source": [
    "#static\n",
    "instance1=ClassWithStaticMethod('Instance_1')\n",
    "print(instance1)\n",
    "ClassWithStaticMethod.totalCounterInfo()\n",
    "\n",
    "print() \n",
    "\n",
    "instance2 = ClassWithStaticMethod(\"Instance_2\")\n",
    "print(instance2)\n",
    "ClassWithStaticMethod.totalCounterInfo()\n"
   ]
  },
  {
   "cell_type": "markdown",
   "metadata": {},
   "source": [
    "\n",
    "## 2. OOPs Concepts\n"
   ]
  },
  {
   "cell_type": "markdown",
   "metadata": {},
   "source": [
    "\n",
    "### a) Encapsulation\n",
    "\n",
    "- Organise code in **classes** with **attributes** a.k.a properties (i.e. private, public and protected variables) and **methods** to access and manipulate attributes.\n",
    "- It describes the concept of bundling data and methods within a single unit. Creating a class is an example of encapsulation as it binds all the data members (instance variables) and methods into a single unit.\n",
    "- Access Modifiers.\n",
    "\n",
    "Purpose:\n",
    "- **Information hiding**: We can hide an object’s internal representation from the outside. This is called information hiding.\n",
    "- **Security**: Restricts accessing variables and methods directly and prevent accidental data modification by creating private data members and methods within a class.\n",
    "- **Maintenance Simplicity**: Not tightly coupling of classes. Classes are kept separated from each other.\n",
    "- **Readability**. \n",
    "\n",
    "\n",
    "Reference: https://pynative.com/python-encapsulation/"
   ]
  },
  {
   "cell_type": "code",
   "execution_count": 79,
   "metadata": {},
   "outputs": [
    {
     "name": "stdout",
     "output_type": "stream",
     "text": [
      "Name:  Jessa Salary: 8000\n",
      "Jessa is working on NLP\n",
      "Jessa\n",
      "NLP\n",
      "8000\n"
     ]
    }
   ],
   "source": [
    "class Employee:\n",
    "    # constructor\n",
    "    def __init__(self, name, salary, project):\n",
    "        # data members\n",
    "        self.name = name         # Public member (accessible within or outside of a class)\n",
    "        self.__salary = salary   # Private member (accessible only within a class)\n",
    "        self._project = project  # Protected member (accessible within the class and its sub-classes)\n",
    "\n",
    "    ## getters and setters to access private variables\n",
    "    def set_salary(self, newSalary):\n",
    "        self.__salary = newSalary;\n",
    "    \n",
    "    def get_salary(self):\n",
    "        return self.__salary;\n",
    "\n",
    "    # method\n",
    "    # to display employee's details\n",
    "    def show(self):                     # Acessing private and protected members via methods\n",
    "        # accessing public data member\n",
    "        print(\"Name: \", self.name, 'Salary:', self.__salary)   \n",
    "\n",
    "    # method\n",
    "    def work(self):\n",
    "        print(self.name, 'is working on', self._project)\n",
    "\n",
    "\n",
    "\n",
    "# creating object of a class\n",
    "emp = Employee('Jessa', 8000, 'NLP')\n",
    "\n",
    "# calling public method of the class\n",
    "emp.show()\n",
    "emp.work()\n",
    "\n",
    "# Direct acess on public, protected and private data members\n",
    "print(emp.name)\n",
    "print(emp._project)\n",
    "#print(emp.__salary) # !!! fails\n",
    "print(emp.get_salary())"
   ]
  },
  {
   "cell_type": "markdown",
   "metadata": {},
   "source": [
    "Example: A Line object encapsulates two Point objects."
   ]
  },
  {
   "cell_type": "code",
   "execution_count": null,
   "metadata": {},
   "outputs": [],
   "source": [
    "from math import sqrt\n",
    "class Line:\n",
    "    def __init__(self, startPoint, endPoint):\n",
    "        self.startPoint=startPoint\n",
    "        self.endPoint=endPoint\n",
    "\n",
    "    def getstartPoint(self):\n",
    "        return self.startPoint\n",
    "\n",
    "    def getendPoint(self):\n",
    "        return self.endPoint\n",
    "\n",
    "    def length(self): # encapsulating how the length is calculated\n",
    "       xDiff=self.getstartPoint().getX()-self.getendPoint().getX()\n",
    "       yDiff=self.getstartPoint().getY()-self.getendPoint().getY()\n",
    "       return sqrt(xDiff**2+yDiff**2)\n",
    "\n",
    "    @staticmethod\n",
    "    def lengthformula():\n",
    "        print(\"formula applied is : sqrt of difference betwen points\")"
   ]
  },
  {
   "cell_type": "code",
   "execution_count": null,
   "metadata": {},
   "outputs": [],
   "source": [
    "point1=Point(3,4)\n",
    "point2=Point(5,6)\n",
    "line=Line(point1,point2)# abstraction of point values\n",
    "Line.lengthformula()\n",
    "print('The length of the line is : ',line.length())"
   ]
  },
  {
   "cell_type": "markdown",
   "metadata": {},
   "source": [
    "\n",
    "### b) Inheritance\n",
    "\n",
    "A mechanism in which one object/class acquires the properties/attributes of another object/class. Parent – Child relationship. \n",
    "\n",
    "Purpose:\n",
    "Reusability of code: fields (a.k.a. properties, attributes, data members) and methods (a.k.a. functions). We can use the existing class to create a new class instead of creating it from scratch.\n",
    "\n",
    "Reference: https://pynative.com/python-inheritance/"
   ]
  },
  {
   "cell_type": "markdown",
   "metadata": {},
   "source": [
    "#### b1) Single Inheritance\n",
    "\n",
    "In single inheritance, a child class inherits from a single-parent class. Here is one child class and one parent class."
   ]
  },
  {
   "cell_type": "code",
   "execution_count": 80,
   "metadata": {},
   "outputs": [
    {
     "name": "stdout",
     "output_type": "stream",
     "text": [
      "Inside Vehicle class\n",
      "Inside Car class\n"
     ]
    }
   ],
   "source": [
    "# Base class\n",
    "class Vehicle:\n",
    "    def Vehicle_info(self):\n",
    "        print('Inside Vehicle class')\n",
    "\n",
    "# Child class\n",
    "class Car(Vehicle):\n",
    "    def car_info(self):\n",
    "        print('Inside Car class')\n",
    "\n",
    "# Create object of Car\n",
    "car = Car()\n",
    "\n",
    "# access Vehicle's info using car object\n",
    "car.Vehicle_info()\n",
    "car.car_info()"
   ]
  },
  {
   "cell_type": "markdown",
   "metadata": {},
   "source": [
    "#### b2) Multiple Inheritance\n",
    "\n",
    "In multiple inheritance, one child class can inherit from multiple parent classes. So here is one child class and multiple parent classes."
   ]
  },
  {
   "cell_type": "code",
   "execution_count": 42,
   "metadata": {},
   "outputs": [
    {
     "name": "stdout",
     "output_type": "stream",
     "text": [
      "Inside Person class\n",
      "Name: Jessa Age: 28\n",
      "Inside Company class\n",
      "Name: Google location: Atlanta\n",
      "Inside Employee class\n",
      "Salary: 12000 Skill: Machine Learning\n"
     ]
    }
   ],
   "source": [
    "# Parent class 1\n",
    "class Person:\n",
    "    def person_info(self, name, age):\n",
    "        print('Inside Person class')\n",
    "        print('Name:', name, 'Age:', age)\n",
    "\n",
    "# Parent class 2\n",
    "class Company:\n",
    "    def company_info(self, company_name, location):\n",
    "        print('Inside Company class')\n",
    "        print('Name:', company_name, 'location:', location)\n",
    "\n",
    "# Child class\n",
    "class Employee(Person, Company):\n",
    "    def Employee_info(self, salary, skill):\n",
    "        print('Inside Employee class')\n",
    "        print('Salary:', salary, 'Skill:', skill)\n",
    "\n",
    "# Create object of Employee\n",
    "emp = Employee()\n",
    "\n",
    "# access data\n",
    "emp.person_info('Jessa', 28)\n",
    "emp.company_info('Google', 'Atlanta')\n",
    "emp.Employee_info(12000, 'Machine Learning')"
   ]
  },
  {
   "cell_type": "markdown",
   "metadata": {},
   "source": [
    "#### b3) Multilevel inheritance\n",
    "\n",
    "In multilevel inheritance, a class inherits from a child class or derived class. Suppose three classes A, B, C. A is the superclass, B is the child class of A, C is the child class of B. In other words, we can say a chain of classes is called multilevel inheritance."
   ]
  },
  {
   "cell_type": "code",
   "execution_count": 43,
   "metadata": {},
   "outputs": [
    {
     "name": "stdout",
     "output_type": "stream",
     "text": [
      "Inside Vehicle class\n",
      "Inside Car class\n",
      "Inside SportsCar class\n"
     ]
    }
   ],
   "source": [
    "# Base class\n",
    "class Vehicle:\n",
    "    def Vehicle_info(self):\n",
    "        print('Inside Vehicle class')\n",
    "\n",
    "# Child class\n",
    "class Car(Vehicle):\n",
    "    def car_info(self):\n",
    "        print('Inside Car class')\n",
    "\n",
    "# Child class\n",
    "class SportsCar(Car):\n",
    "    def sports_car_info(self):\n",
    "        print('Inside SportsCar class')\n",
    "\n",
    "# Create object of SportsCar\n",
    "s_car = SportsCar()\n",
    "\n",
    "# access Vehicle's and Car info using SportsCar object\n",
    "s_car.Vehicle_info()\n",
    "s_car.car_info()\n",
    "s_car.sports_car_info()"
   ]
  },
  {
   "cell_type": "markdown",
   "metadata": {},
   "source": [
    "#### b4) Hierarchical Inheritance\n",
    "\n",
    "In Hierarchical inheritance, more than one child class is derived from a single parent class. In other words, we can say one parent class and multiple child classes."
   ]
  },
  {
   "cell_type": "code",
   "execution_count": 44,
   "metadata": {},
   "outputs": [
    {
     "name": "stdout",
     "output_type": "stream",
     "text": [
      "This is Vehicle\n",
      "Car name is: BMW\n",
      "This is Vehicle\n",
      "Truck name is: Ford\n"
     ]
    }
   ],
   "source": [
    "class Vehicle:\n",
    "    def info(self):\n",
    "        print(\"This is Vehicle\")\n",
    "\n",
    "class Car(Vehicle):\n",
    "    def car_info(self, name):\n",
    "        print(\"Car name is:\", name)\n",
    "\n",
    "class Truck(Vehicle):\n",
    "    def truck_info(self, name):\n",
    "        print(\"Truck name is:\", name)\n",
    "\n",
    "obj1 = Car()\n",
    "obj1.info()\n",
    "obj1.car_info('BMW')\n",
    "\n",
    "obj2 = Truck()\n",
    "obj2.info()\n",
    "obj2.truck_info('Ford')"
   ]
  },
  {
   "cell_type": "markdown",
   "metadata": {},
   "source": [
    "#### b5) Hybrid Inheritance\n",
    "\n",
    "When inheritance is consists of multiple types or a combination of different inheritance is called hybrid inheritance."
   ]
  },
  {
   "cell_type": "code",
   "execution_count": 46,
   "metadata": {},
   "outputs": [
    {
     "name": "stdout",
     "output_type": "stream",
     "text": [
      "Inside Vehicle class\n",
      "Inside Car class\n",
      "Inside SportsCar class\n"
     ]
    }
   ],
   "source": [
    "class Vehicle:\n",
    "    def vehicle_info(self):\n",
    "        print(\"Inside Vehicle class\")\n",
    "\n",
    "class Car(Vehicle):\n",
    "    def car_info(self):\n",
    "        print(\"Inside Car class\")\n",
    "\n",
    "class Truck(Vehicle):\n",
    "    def truck_info(self):\n",
    "        print(\"Inside Truck class\")\n",
    "\n",
    "# Sports Car can inherits properties of Vehicle and Car\n",
    "class SportsCar(Car, Vehicle):\n",
    "    def sports_car_info(self):\n",
    "        print(\"Inside SportsCar class\")\n",
    "\n",
    "# create object\n",
    "s_car = SportsCar()\n",
    "\n",
    "s_car.vehicle_info()\n",
    "s_car.car_info()\n",
    "s_car.sports_car_info()"
   ]
  },
  {
   "cell_type": "markdown",
   "metadata": {},
   "source": [
    "\n",
    "### c) Polymorphism\n",
    "\n",
    "\n",
    "Reference: https://pynative.com/python-polymorphism/"
   ]
  },
  {
   "cell_type": "markdown",
   "metadata": {},
   "source": [
    "#### c1) Polymorphism In Built-in Methods"
   ]
  },
  {
   "cell_type": "markdown",
   "metadata": {},
   "source": [
    "Example 1: Polymorphism in Built-in function **len(obj)**\n",
    "\n",
    "The built-in function len() calculates the length of an object depending upon its type. If an object is a string, it returns the count of characters, and If an object is a list, it returns the count of items in a list.\n",
    "\n",
    "The len() method treats an object as per its class type."
   ]
  },
  {
   "cell_type": "code",
   "execution_count": 82,
   "metadata": {},
   "outputs": [
    {
     "name": "stdout",
     "output_type": "stream",
     "text": [
      "4\n",
      "10\n",
      "3\n"
     ]
    }
   ],
   "source": [
    "studentsList = ['Emma', 'Jessa', 'Kelly', \"Maria\"]\n",
    "schoolString = 'ABC School'\n",
    "countDictionary = {1:\"D\",2:\"J\",3:\"Q\"}\n",
    "\n",
    "# calculate count\n",
    "print(len(studentsList))\n",
    "print(len(schoolString))\n",
    "print(len(countDictionary))"
   ]
  },
  {
   "cell_type": "markdown",
   "metadata": {},
   "source": [
    "Example 2: Polymorphism in Built-in function **reversed(obj)**\n",
    "\n",
    "The built-in function reversed(obj) returns the iterable by reversing the given object. For example, if you pass a string to it, it will reverse it. But if you pass a list of strings to it, it will return the iterable by reversing the order of elements (it will not reverse the individual string)."
   ]
  },
  {
   "cell_type": "code",
   "execution_count": 5,
   "metadata": {},
   "outputs": [
    {
     "name": "stdout",
     "output_type": "stream",
     "text": [
      "Reverse string\n",
      "l o o h c S   C B A \n",
      "Reverse list\n",
      "Maria Kelly Jessa Emma \n",
      "Reverse dictionary keys\n",
      "3 2 1 "
     ]
    }
   ],
   "source": [
    "studentsList = ['Emma', 'Jessa', 'Kelly', \"Maria\"]\n",
    "schoolString = 'ABC School'\n",
    "countDictionary = {1:\"D\",2:\"J\",3:\"Q\"}\n",
    "\n",
    "print('Reverse string')\n",
    "for i in reversed(schoolString):\n",
    "    print(i, end=' ')\n",
    "\n",
    "print('\\nReverse list')\n",
    "for i in reversed(studentsList):\n",
    "    print(i, end=' ')\n",
    "\n",
    "print('\\nReverse dictionary keys')\n",
    "for i in reversed(countDictionary):\n",
    "    print(i, end=' ')"
   ]
  },
  {
   "cell_type": "markdown",
   "metadata": {},
   "source": [
    "#### c2) Polymorphism with Inheritance"
   ]
  },
  {
   "cell_type": "markdown",
   "metadata": {},
   "source": [
    "Method Overriding"
   ]
  },
  {
   "cell_type": "code",
   "execution_count": 1,
   "metadata": {},
   "outputs": [
    {
     "name": "stdout",
     "output_type": "stream",
     "text": [
      "Details: Car x1 Red 20000\n",
      "Car max speed is 240\n",
      "Car change 7 gear\n",
      "Details: Truck x1 white 75000\n",
      "Vehicle max speed is 150\n",
      "Vehicle change 6 gear\n"
     ]
    }
   ],
   "source": [
    "class Vehicle:\n",
    "\n",
    "    def __init__(self, name, color, price):\n",
    "        self.name = name\n",
    "        self.color = color\n",
    "        self.price = price\n",
    "\n",
    "    def show(self):\n",
    "        print('Details:', self.name, self.color, self.price)\n",
    "\n",
    "    def max_speed(self):\n",
    "        print('Vehicle max speed is 150')\n",
    "\n",
    "    def change_gear(self):\n",
    "        print('Vehicle change 6 gear')\n",
    "\n",
    "\n",
    "# inherit from vehicle class\n",
    "class Car(Vehicle):\n",
    "    # method overriding\n",
    "    def max_speed(self):\n",
    "        print('Car max speed is 240')\n",
    "    # method overriding\n",
    "    def change_gear(self):\n",
    "        print('Car change 7 gear')\n",
    "\n",
    "\n",
    "# Car Object\n",
    "car = Car('Car x1', 'Red', 20000)\n",
    "car.show()\n",
    "# calls methods from Car class\n",
    "car.max_speed()\n",
    "car.change_gear()\n",
    "\n",
    "# Vehicle Object\n",
    "vehicle = Vehicle('Truck x1', 'white', 75000)\n",
    "vehicle.show()\n",
    "# calls method from a Vehicle class\n",
    "vehicle.max_speed()\n",
    "vehicle.change_gear()"
   ]
  },
  {
   "cell_type": "markdown",
   "metadata": {},
   "source": [
    "Example 2"
   ]
  },
  {
   "cell_type": "code",
   "execution_count": 8,
   "metadata": {},
   "outputs": [],
   "source": [
    "# polymorphism\n",
    "\n",
    "from math import pi\n",
    "\n",
    "class Shape:\n",
    "    def __init__(self, name):\n",
    "        self.name = name\n",
    "\n",
    "    def area(self):\n",
    "        print(\"Area of the shape is\\n\", '-'*10)\n",
    "\n",
    "    def __str__(self):\n",
    "        return str(self.name)\n",
    "\n",
    "# Inheritance\n",
    "class Rectangle(Shape):\n",
    "    '''\n",
    "    Inheritance: Parent class Shape\n",
    "    '''\n",
    "    def __init__(self,h,w):\n",
    "        Shape.__init__(self,'Rectangle')\n",
    "        self.width = w\n",
    "        self.height = h\n",
    "\n",
    "    # Method Overriding  # Same method name as in parent class.\n",
    "    def area(self):\n",
    "        return self.width * self.height\n",
    "\n",
    "    def __str__(self):\n",
    "        Shape.__str__(self)\n",
    "        return 'Width: '+str(self.width)+'\\nHeight: '+str(self.height)+'\\n'+str(self.area())\n",
    "\n",
    "# Inheritance\n",
    "class Circle(Shape):\n",
    "    '''\n",
    "    Inheritance: Parent class Shape\n",
    "    '''\n",
    "    def __init__(self, r):\n",
    "        Shape.__init__(self,'Circle')\n",
    "        self.radius = r\n",
    "\n",
    "    # Method Overriding  # Same method name as in parent class.\n",
    "    def area(self):\n",
    "        return pi*self.radius**2\n",
    "\n",
    "    def __str__(self):\n",
    "        Shape.__str__(self)\n",
    "        return 'Radius: '+ str(self.radius)+'\\nArea: '+str(self.area())"
   ]
  },
  {
   "cell_type": "code",
   "execution_count": 9,
   "metadata": {},
   "outputs": [
    {
     "name": "stdout",
     "output_type": "stream",
     "text": [
      "Width: 3\n",
      "Height: 2\n",
      "6\n",
      "Radius: 4\n",
      "Area: 50.26548245743669\n"
     ]
    }
   ],
   "source": [
    "list_of_shapes=[]\n",
    "list_of_shapes.append(Rectangle(2,3))\n",
    "list_of_shapes.append(Circle(4))\n",
    "\n",
    "for shape in list_of_shapes:\n",
    "    print(shape)"
   ]
  },
  {
   "cell_type": "markdown",
   "metadata": {},
   "source": [
    "#### c3) Polymorphism with Functions and Objects"
   ]
  },
  {
   "cell_type": "code",
   "execution_count": 2,
   "metadata": {},
   "outputs": [
    {
     "name": "stdout",
     "output_type": "stream",
     "text": [
      "Petrol\n",
      "Max speed 350\n",
      "Diesel\n",
      "Max speed is 240\n"
     ]
    }
   ],
   "source": [
    "class Ferrari:\n",
    "    def fuel_type(self):\n",
    "        print(\"Petrol\")\n",
    "\n",
    "    def max_speed(self):\n",
    "        print(\"Max speed 350\")\n",
    "\n",
    "class BMW:\n",
    "    def fuel_type(self):\n",
    "        print(\"Diesel\")\n",
    "\n",
    "    def max_speed(self):\n",
    "        print(\"Max speed is 240\")\n",
    "\n",
    "# normal function\n",
    "def car_details(obj):\n",
    "    obj.fuel_type()\n",
    "    obj.max_speed()\n",
    "\n",
    "ferrari = Ferrari()\n",
    "bmw = BMW()\n",
    "\n",
    "car_details(ferrari)\n",
    "car_details(bmw)"
   ]
  },
  {
   "cell_type": "markdown",
   "metadata": {},
   "source": [
    "#### c4) Method Overloading\n",
    "\n",
    "The process of calling the same method with different parameters is known as method overloading. \n",
    "\n",
    "Problem:\n",
    "\n",
    "Python considers only the latest defined method even if you overload the method. Python will raise a TypeError if you overload the method."
   ]
  },
  {
   "cell_type": "code",
   "execution_count": 18,
   "metadata": {},
   "outputs": [
    {
     "ename": "TypeError",
     "evalue": "area() missing 1 required positional argument: 'b'",
     "output_type": "error",
     "traceback": [
      "\u001b[1;31m---------------------------------------------------------------------------\u001b[0m",
      "\u001b[1;31mTypeError\u001b[0m                                 Traceback (most recent call last)",
      "\u001b[1;32mc:\\Users\\Konstantinos.Giannak\\OneDrive - FDM Group\\Courses\\My_Version\\Data_Engineering\\Software_Development\\Python_APAC\\2. Advanced Python\\Day_2_Tuesday\\Demo_3_OOP_in_Python.ipynb Cell 48'\u001b[0m in \u001b[0;36m<cell line: 12>\u001b[1;34m()\u001b[0m\n\u001b[0;32m      <a href='vscode-notebook-cell:/c%3A/Users/Konstantinos.Giannak/OneDrive%20-%20FDM%20Group/Courses/My_Version/Data_Engineering/Software_Development/Python_APAC/2.%20Advanced%20Python/Day_2_Tuesday/Demo_3_OOP_in_Python.ipynb#ch0000050?line=8'>9</a>\u001b[0m         \u001b[39mprint\u001b[39m(\u001b[39m'\u001b[39m\u001b[39mArea of Rectangle is:\u001b[39m\u001b[39m'\u001b[39m, a \u001b[39m*\u001b[39m b)\n\u001b[0;32m     <a href='vscode-notebook-cell:/c%3A/Users/Konstantinos.Giannak/OneDrive%20-%20FDM%20Group/Courses/My_Version/Data_Engineering/Software_Development/Python_APAC/2.%20Advanced%20Python/Day_2_Tuesday/Demo_3_OOP_in_Python.ipynb#ch0000050?line=10'>11</a>\u001b[0m square \u001b[39m=\u001b[39m Shape()\n\u001b[1;32m---> <a href='vscode-notebook-cell:/c%3A/Users/Konstantinos.Giannak/OneDrive%20-%20FDM%20Group/Courses/My_Version/Data_Engineering/Software_Development/Python_APAC/2.%20Advanced%20Python/Day_2_Tuesday/Demo_3_OOP_in_Python.ipynb#ch0000050?line=11'>12</a>\u001b[0m square\u001b[39m.\u001b[39;49marea(\u001b[39m5\u001b[39;49m)\n\u001b[0;32m     <a href='vscode-notebook-cell:/c%3A/Users/Konstantinos.Giannak/OneDrive%20-%20FDM%20Group/Courses/My_Version/Data_Engineering/Software_Development/Python_APAC/2.%20Advanced%20Python/Day_2_Tuesday/Demo_3_OOP_in_Python.ipynb#ch0000050?line=13'>14</a>\u001b[0m rectangle \u001b[39m=\u001b[39m Shape()\n\u001b[0;32m     <a href='vscode-notebook-cell:/c%3A/Users/Konstantinos.Giannak/OneDrive%20-%20FDM%20Group/Courses/My_Version/Data_Engineering/Software_Development/Python_APAC/2.%20Advanced%20Python/Day_2_Tuesday/Demo_3_OOP_in_Python.ipynb#ch0000050?line=14'>15</a>\u001b[0m rectangle\u001b[39m.\u001b[39marea(\u001b[39m5\u001b[39m, \u001b[39m3\u001b[39m)\n",
      "\u001b[1;31mTypeError\u001b[0m: area() missing 1 required positional argument: 'b'"
     ]
    }
   ],
   "source": [
    "# !!! This produces an error!\n",
    "\n",
    "class Shape:\n",
    "    # function with two default parameters\n",
    "    def area(self, a):\n",
    "        print('Area of Square is:', a ** 2)\n",
    "\n",
    "    def area(self, a, b):\n",
    "        print('Area of Rectangle is:', a * b)\n",
    "\n",
    "square = Shape()\n",
    "square.area(5)\n",
    "\n",
    "rectangle = Shape()\n",
    "rectangle.area(5, 3)"
   ]
  },
  {
   "cell_type": "markdown",
   "metadata": {},
   "source": [
    "Solution:\n",
    "\n",
    "In Python, to overload the class method, we need to write the method’s logic so that different code executes inside the function depending on the parameter passes.\n",
    "\n",
    "Let’s assume we have an area() method to calculate the area of a square and rectangle. The method will calculate the area depending upon the number of parameters passed to it.\n",
    "\n",
    "If one parameter is passed, then the area of a square is calculated\n",
    "If two parameters are passed, then the area of a rectangle is calculated."
   ]
  },
  {
   "cell_type": "code",
   "execution_count": 19,
   "metadata": {},
   "outputs": [
    {
     "name": "stdout",
     "output_type": "stream",
     "text": [
      "Area of Square is: 25\n",
      "Area of Rectangle is: 15\n"
     ]
    }
   ],
   "source": [
    "class Shape:\n",
    "    # function with two default parameters\n",
    "    def area(self, a, b=0):\n",
    "        if b > 0:\n",
    "            print('Area of Rectangle is:', a * b)\n",
    "        else:\n",
    "            print('Area of Square is:', a ** 2)\n",
    "\n",
    "square = Shape()\n",
    "square.area(5)\n",
    "\n",
    "rectangle = Shape()\n",
    "rectangle.area(5, 3)"
   ]
  },
  {
   "cell_type": "markdown",
   "metadata": {},
   "source": [
    "Example 2: build-in **range()** function.\n",
    "\n",
    "It takes three parameters and produce different result depending upon the number of parameters passed to it."
   ]
  },
  {
   "cell_type": "code",
   "execution_count": 20,
   "metadata": {},
   "outputs": [
    {
     "name": "stdout",
     "output_type": "stream",
     "text": [
      "0, 1, 2, 3, 4, \n",
      "5, 6, 7, 8, 9, \n",
      "2, 4, 6, 8, 10, "
     ]
    }
   ],
   "source": [
    "for i in range(5): print(i, end=', ')\n",
    "print()\n",
    "for i in range(5, 10): print(i, end=', ')\n",
    "print()\n",
    "for i in range(2, 12, 2): print(i, end=', ')"
   ]
  },
  {
   "cell_type": "markdown",
   "metadata": {},
   "source": [
    "#### c5) Operator Overloading\n",
    "\n",
    " Changing the default behavior of an operator depending on the operands (values) that we use. In other words, we can use the same operator for multiple purposes.\n",
    "\n",
    "For example, the + operator will perform an arithmetic addition operation when used with numbers. Likewise, it will perform concatenation when used with strings.\n",
    "\n",
    "The operator + is used to carry out different operations for distinct data types. This is one of the most simple occurrences of polymorphism in Python."
   ]
  },
  {
   "cell_type": "code",
   "execution_count": 21,
   "metadata": {},
   "outputs": [
    {
     "name": "stdout",
     "output_type": "stream",
     "text": [
      "300\n",
      "JessRoy\n",
      "[10, 20, 30, 'jessa', 'emma', 'kelly']\n"
     ]
    }
   ],
   "source": [
    "# add 2 numbers\n",
    "print(100 + 200)\n",
    "\n",
    "# concatenate two strings\n",
    "print('Jess' + 'Roy')\n",
    "\n",
    "# merger two list\n",
    "print([10, 20, 30] + ['jessa', 'emma', 'kelly'])"
   ]
  },
  {
   "cell_type": "markdown",
   "metadata": {},
   "source": [
    "Problem:\n",
    "\n",
    "This will throw an error if we perform addition because the compiler doesn’t add two objects."
   ]
  },
  {
   "cell_type": "code",
   "execution_count": 22,
   "metadata": {},
   "outputs": [
    {
     "ename": "TypeError",
     "evalue": "unsupported operand type(s) for +: 'Book' and 'Book'",
     "output_type": "error",
     "traceback": [
      "\u001b[1;31m---------------------------------------------------------------------------\u001b[0m",
      "\u001b[1;31mTypeError\u001b[0m                                 Traceback (most recent call last)",
      "\u001b[1;32mc:\\Users\\Konstantinos.Giannak\\OneDrive - FDM Group\\Courses\\My_Version\\Data_Engineering\\Software_Development\\Python_APAC\\2. Advanced Python\\Day_2_Tuesday\\Demo_3_OOP_in_Python.ipynb Cell 55'\u001b[0m in \u001b[0;36m<cell line: 12>\u001b[1;34m()\u001b[0m\n\u001b[0;32m      <a href='vscode-notebook-cell:/c%3A/Users/Konstantinos.Giannak/OneDrive%20-%20FDM%20Group/Courses/My_Version/Data_Engineering/Software_Development/Python_APAC/2.%20Advanced%20Python/Day_2_Tuesday/Demo_3_OOP_in_Python.ipynb#ch0000058?line=8'>9</a>\u001b[0m b2 \u001b[39m=\u001b[39m Book(\u001b[39m300\u001b[39m)\n\u001b[0;32m     <a href='vscode-notebook-cell:/c%3A/Users/Konstantinos.Giannak/OneDrive%20-%20FDM%20Group/Courses/My_Version/Data_Engineering/Software_Development/Python_APAC/2.%20Advanced%20Python/Day_2_Tuesday/Demo_3_OOP_in_Python.ipynb#ch0000058?line=10'>11</a>\u001b[0m \u001b[39m# add two objects\u001b[39;00m\n\u001b[1;32m---> <a href='vscode-notebook-cell:/c%3A/Users/Konstantinos.Giannak/OneDrive%20-%20FDM%20Group/Courses/My_Version/Data_Engineering/Software_Development/Python_APAC/2.%20Advanced%20Python/Day_2_Tuesday/Demo_3_OOP_in_Python.ipynb#ch0000058?line=11'>12</a>\u001b[0m \u001b[39mprint\u001b[39m(b1 \u001b[39m+\u001b[39;49m b2)\n",
      "\u001b[1;31mTypeError\u001b[0m: unsupported operand type(s) for +: 'Book' and 'Book'"
     ]
    }
   ],
   "source": [
    "# !!! This will produce an error. I cannot add pages like that\n",
    "\n",
    "class Book:\n",
    "    def __init__(self, pages):\n",
    "        self.pages = pages\n",
    "\n",
    "# creating two objects\n",
    "b1 = Book(400)\n",
    "b2 = Book(300)\n",
    "\n",
    "# add two objects\n",
    "print(b1 + b2)"
   ]
  },
  {
   "cell_type": "markdown",
   "metadata": {},
   "source": [
    " Solution:\n",
    "\n",
    " When we use the + operator, the magic method **\\_\\_add\\_\\_()** is automatically invoked. Internally + operator is implemented by using **\\_\\_add\\_\\_()** method. We have to override this method in our class if you want to add two custom objects."
   ]
  },
  {
   "cell_type": "code",
   "execution_count": 23,
   "metadata": {},
   "outputs": [
    {
     "name": "stdout",
     "output_type": "stream",
     "text": [
      "Total number of pages:  700\n"
     ]
    }
   ],
   "source": [
    "# Solution\n",
    "\n",
    "class Book:\n",
    "    def __init__(self, pages):\n",
    "        self.pages = pages\n",
    "\n",
    "    # Overloading + operator with magic method\n",
    "    def __add__(self, other):\n",
    "        return self.pages + other.pages\n",
    "\n",
    "b1 = Book(400)\n",
    "b2 = Book(300)\n",
    "print(\"Total number of pages: \", b1 + b2)"
   ]
  },
  {
   "cell_type": "markdown",
   "metadata": {},
   "source": [
    "The * operator is used to perform the multiplication. Let’s see how to overload it to calculate the salary of an employee for a specific period. Internally * operator is implemented by using the **\\_\\_mul\\_\\_()** method"
   ]
  },
  {
   "cell_type": "code",
   "execution_count": 24,
   "metadata": {},
   "outputs": [
    {
     "name": "stdout",
     "output_type": "stream",
     "text": [
      "Worked for 50 days\n",
      "salary is:  40000\n"
     ]
    }
   ],
   "source": [
    "class Employee:\n",
    "    def __init__(self, name, salary):\n",
    "        self.name = name\n",
    "        self.salary = salary\n",
    "\n",
    "    def __mul__(self, timesheet):\n",
    "        print('Worked for', timesheet.days, 'days')\n",
    "        # calculate salary\n",
    "        return self.salary * timesheet.days\n",
    "\n",
    "\n",
    "class TimeSheet:\n",
    "    def __init__(self, name, days):\n",
    "        self.name = name\n",
    "        self.days = days\n",
    "\n",
    "\n",
    "emp = Employee(\"Jessa\", 800)\n",
    "timesheet = TimeSheet(\"Jessa\", 50)\n",
    "print(\"salary is: \", emp * timesheet)"
   ]
  },
  {
   "cell_type": "markdown",
   "metadata": {},
   "source": [
    "\n",
    "### d) Abstraction\n",
    "\n",
    "The purpose of abstraction is not to be vague, but to create a new semantic level in which one can be absolutely precise.\n",
    "\n",
    "**Abstract class**:\n",
    "- Is used as a blueprint for creating other classes. \n",
    "- It allows you to create a set of methods that must be created within any child classes built from the abstract class.\n",
    "- It contains one or more abstract methods.\n",
    "- It has a declaration but not an implementation.\n",
    "\n",
    "Advantages of using an abstract class:\n",
    "- We use an abstract class, when we want to provide a common interface for different implementations of a component. By defining an abstract base class, you can define a common **Application Program Interface(API)** for a set of subclasses.\n",
    "- **Simplicity**. Avoid code duplication.\n",
    "- Ensure **consistency** in how others implement the subclasses.\n",
    "- **Reminder for the crucial methods**. Ensures no one forgets to implement critical methods and properties in subclasses.\n",
    "- **Re-usability and extension** of the code.\n",
    "\n",
    "Reference: https://www.geeksforgeeks.org/abstract-classes-in-python/\n"
   ]
  },
  {
   "cell_type": "code",
   "execution_count": 28,
   "metadata": {},
   "outputs": [
    {
     "name": "stdout",
     "output_type": "stream",
     "text": [
      "I have 3 sides\n",
      "I have 4 sides\n",
      "I have 5 sides\n",
      "I have 6 sides\n",
      "Is it a subclass?:  True\n",
      "Is it an instance?:  True\n"
     ]
    }
   ],
   "source": [
    "# Python program showing\n",
    "# abstract base class work\n",
    "\n",
    "from abc import ABC, abstractmethod\n",
    "\n",
    "'''\n",
    "Abstract Base Class Polygon:\n",
    "Contains abstract methods that are not implemented\n",
    "'''\n",
    "class Polygon(ABC):\n",
    "\t\n",
    "\t@abstractmethod\n",
    "\tdef noofsides(self):\n",
    "\t\tpass\n",
    "\n",
    "'''\n",
    "Class Triangle:\n",
    "Implementation of the Abstract Base Class Polygon\n",
    "'''\n",
    "class Triangle(Polygon):\n",
    "\n",
    "\t# overriding abstract method\n",
    "\tdef noofsides(self):\n",
    "\t\tprint(\"I have 3 sides\")\n",
    "\n",
    "'''\n",
    "Class Pentagon:\n",
    "Implementation of the Abstract Base Class Polygon\n",
    "'''\n",
    "class Pentagon(Polygon):\n",
    "\n",
    "\t# overriding abstract method\n",
    "\tdef noofsides(self):\n",
    "\t\tprint(\"I have 5 sides\")\n",
    "\n",
    "'''\n",
    "Class Hexagon:\n",
    "Implementation of the Abstract Base Class Polygon\n",
    "'''\n",
    "class Hexagon(Polygon):\n",
    "\n",
    "\t# overriding abstract method\n",
    "\tdef noofsides(self):\n",
    "\t\tprint(\"I have 6 sides\")\n",
    "\n",
    "'''\n",
    "Class Quadrilateral:\n",
    "Implementation of the Abstract Base Class Polygon\n",
    "'''\n",
    "class Quadrilateral(Polygon):\n",
    "\n",
    "\t# overriding abstract method\n",
    "\tdef noofsides(self):\n",
    "\t\tprint(\"I have 4 sides\")\n",
    "\n",
    "\n",
    "# Driver code\n",
    "triangle = Triangle()\n",
    "triangle.noofsides()\n",
    "\n",
    "quadrilateral = Quadrilateral()\n",
    "quadrilateral.noofsides()\n",
    "\n",
    "pentagon = Pentagon()\n",
    "pentagon.noofsides()\n",
    "\n",
    "hexagon = Hexagon()\n",
    "hexagon.noofsides()\n",
    "\n",
    "\n",
    "print('Is it a subclass?: ',  issubclass(Triangle, Polygon))\n",
    "print('Is it an instance?: ', isinstance(Triangle(), Polygon))"
   ]
  },
  {
   "cell_type": "markdown",
   "metadata": {},
   "source": [
    "An abstract class cannot be an instantiated"
   ]
  },
  {
   "cell_type": "code",
   "execution_count": 30,
   "metadata": {},
   "outputs": [
    {
     "ename": "TypeError",
     "evalue": "Can't instantiate abstract class Polygon with abstract method noofsides",
     "output_type": "error",
     "traceback": [
      "\u001b[1;31m---------------------------------------------------------------------------\u001b[0m",
      "\u001b[1;31mTypeError\u001b[0m                                 Traceback (most recent call last)",
      "\u001b[1;32mc:\\Users\\Konstantinos.Giannak\\OneDrive - FDM Group\\Courses\\My_Version\\Data_Engineering\\Software_Development\\Python_APAC\\2. Advanced Python\\Day_2_Tuesday\\Demo_3_OOP_in_Python.ipynb Cell 64'\u001b[0m in \u001b[0;36m<cell line: 2>\u001b[1;34m()\u001b[0m\n\u001b[0;32m      <a href='vscode-notebook-cell:/c%3A/Users/Konstantinos.Giannak/OneDrive%20-%20FDM%20Group/Courses/My_Version/Data_Engineering/Software_Development/Python_APAC/2.%20Advanced%20Python/Day_2_Tuesday/Demo_3_OOP_in_Python.ipynb#ch0000040?line=0'>1</a>\u001b[0m \u001b[39m# !!! This will produce an error\u001b[39;00m\n\u001b[1;32m----> <a href='vscode-notebook-cell:/c%3A/Users/Konstantinos.Giannak/OneDrive%20-%20FDM%20Group/Courses/My_Version/Data_Engineering/Software_Development/Python_APAC/2.%20Advanced%20Python/Day_2_Tuesday/Demo_3_OOP_in_Python.ipynb#ch0000040?line=1'>2</a>\u001b[0m polygon \u001b[39m=\u001b[39m Polygon()\n",
      "\u001b[1;31mTypeError\u001b[0m: Can't instantiate abstract class Polygon with abstract method noofsides"
     ]
    }
   ],
   "source": [
    "# !!! This will produce an error\n",
    "polygon = Polygon()"
   ]
  },
  {
   "cell_type": "markdown",
   "metadata": {},
   "source": [
    "Concrete Methods in Abstract Base Classes : \n",
    "\n",
    "**Concrete classes** contain only concrete (normal) methods whereas **abstract classes** may contain both concrete methods and abstract methods. The concrete class provides an implementation of abstract methods, the abstract base class can also provide an implementation by invoking the methods via super()."
   ]
  },
  {
   "cell_type": "code",
   "execution_count": 39,
   "metadata": {},
   "outputs": [
    {
     "name": "stdout",
     "output_type": "stream",
     "text": [
      "Abstract Base Class\n",
      "subclass \n"
     ]
    }
   ],
   "source": [
    "# Python program invoking a method using super()\n",
    " \n",
    "import abc\n",
    "from abc import ABC, abstractmethod\n",
    " \n",
    "# Abstract Class \n",
    "class ParentClass(ABC):\n",
    "    '''\n",
    "    Abstract Base Class ParentClass:\n",
    "    Can also Contain concrete methods\n",
    "    '''\n",
    "    def message(self):\n",
    "        print(\"Abstract Base Class\")\n",
    " \n",
    "# Concrete Class\n",
    "class ChildClass(ParentClass):\n",
    "    '''\n",
    "    Class ChildClass:\n",
    "    Implementation of the Abstract Base Class ParentClass\n",
    "    '''\n",
    "    def message(self):\n",
    "        super().message()    # <--- invoking a parent method via super()\n",
    "        print(\"subclass \")\n",
    " \n",
    "# Driver code\n",
    "cc = ChildClass()\n",
    "cc.message()"
   ]
  },
  {
   "cell_type": "markdown",
   "metadata": {},
   "source": [
    "## 3. Built-in Attributes"
   ]
  },
  {
   "cell_type": "code",
   "execution_count": 56,
   "metadata": {},
   "outputs": [
    {
     "name": "stdout",
     "output_type": "stream",
     "text": [
      "Class Name:  ChildClass\n",
      "\n",
      "Class Documentation:  \n",
      "    Class ChildClass:\n",
      "    Implementation of the Abstract Base Class ParentClass\n",
      "    \n",
      "\n",
      "Class Namespaces:  {'__module__': '__main__', '__doc__': '\\n    Class ChildClass:\\n    Implementation of the Abstract Base Class ParentClass\\n    ', 'message': <function ChildClass.message at 0x0000019B4270AB80>, '__abstractmethods__': frozenset(), '_abc_impl': <_abc._abc_data object at 0x0000019B42728A00>}\n",
      "\n",
      "The name of the module the class is defined:  __main__\n",
      "\n",
      "Child Class Bases:  (<class '__main__.ParentClass'>,)\n",
      "Parent Class Bases:  (<class 'abc.ABC'>,)\n"
     ]
    }
   ],
   "source": [
    "print('Class Name: ', ChildClass.__name__)\n",
    "print()\n",
    "#\n",
    "print('Class Documentation: ', ChildClass.__doc__)\n",
    "print()\n",
    "#\n",
    "print('Class Namespaces: ', ChildClass.__dict__)  \n",
    "#print('Class Namespaces: ', ParentClass.__dict__)\n",
    "#\n",
    "print()\n",
    "print('The name of the module the class is defined: ', ChildClass.__module__)  \n",
    "\n",
    "print()\n",
    "print('Child Class Bases: ', ChildClass.__bases__) \n",
    "print('Parent Class Bases: ', ParentClass.__bases__) "
   ]
  },
  {
   "cell_type": "code",
   "execution_count": null,
   "metadata": {},
   "outputs": [],
   "source": []
  }
 ],
 "metadata": {
  "interpreter": {
   "hash": "c347c8f9a7ef94e4c9e03b4513be7835ed18f45b99a2a817fb579f408b867b16"
  },
  "kernelspec": {
   "display_name": "Python 3.9.7 64-bit",
   "language": "python",
   "name": "python3"
  },
  "language_info": {
   "codemirror_mode": {
    "name": "ipython",
    "version": 3
   },
   "file_extension": ".py",
   "mimetype": "text/x-python",
   "name": "python",
   "nbconvert_exporter": "python",
   "pygments_lexer": "ipython3",
   "version": "3.9.7"
  },
  "orig_nbformat": 4
 },
 "nbformat": 4,
 "nbformat_minor": 2
}
